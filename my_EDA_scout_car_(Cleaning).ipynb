{
  "cells": [
    {
      "cell_type": "markdown",
      "metadata": {
        "id": "view-in-github",
        "colab_type": "text"
      },
      "source": [
        "<a href=\"https://colab.research.google.com/github/bugeki/data_analysis_projects/blob/main/my_EDA_scout_car_(Cleaning).ipynb\" target=\"_parent\"><img src=\"https://colab.research.google.com/assets/colab-badge.svg\" alt=\"Open In Colab\"/></a>"
      ]
    },
    {
      "cell_type": "markdown",
      "metadata": {
        "id": "U1TecEhqmLcx"
      },
      "source": [
        "<img src=https://www.autoscout24.de/cms-content-assets/iyeNvpf7mHAQ68gkQvuAT-f4e18944a886f5e856e8925ee451cd1c-Osservatorio_di_AutoScout24-1100.jpeg width=\"600\" height=\"300\">\n",
        "\n",
        "\n",
        "\n",
        "## <p style=\"background-color:#FDFEFE; font-family:newtimeroman; color:#060108; font-size:150%; text-align:center; border-radius:10px 10px;\">Car Price Prediction EDA</p>"
      ]
    },
    {
      "cell_type": "markdown",
      "metadata": {
        "id": "OD06AXlBmLc2"
      },
      "source": [
        "## Introduction\n",
        "Welcome to \"***AutoScout Data Analysis Project***\". **Auto Scout** data used in this project, scraped from the on-line car trading company in 2019, contains many features of 9 different car models. In this project, Python libraries such as Numpy, Pandas, Matplotlib, Seaborn, Scipy used for Data Cleaning and Exploratory Data Analysis.\n",
        "\n",
        "The project consists of 3 parts:\n",
        "* First part is related with 'data cleaning'. It deals with Incorrect Headers, Incorrect Format, Anomalies, Dropping useless columns.\n",
        "* Second part is related with 'filling data'. It deals with Missing Values. Categorical to numeric transformation is done.\n",
        "* Third part is related with 'handling outliers of data' via Visualisation libraries. Some insights are extracted.\n"
      ]
    },
    {
      "cell_type": "markdown",
      "metadata": {
        "id": "AcjJaYRaI8XU"
      },
      "source": [
        "<a id=\"toc\"></a>\n",
        "\n",
        "## <p style=\"background-color:#9d4f8c; font-family:newtimeroman; color:#FFF9ED; font-size:175%; text-align:center; border-radius:10px 10px;\">Content</p>\n",
        "\n",
        "* [INTRODUCTION](#0)\n",
        "* [IMPORTING LIBRARIES NEEDED IN THIS NOTEBOOK](#1)\n",
        "* [PART-01 (DATA CLEANING)](#2)\n",
        "* [THE EXAMINATION OF COLUMNS](#3)    \n",
        "* [THE END OF DATA CLEANING (PART - 01)](#4)"
      ]
    },
    {
      "cell_type": "markdown",
      "metadata": {
        "id": "ZoR2Uc5DI8XW"
      },
      "source": [
        "## <p style=\"background-color:#9d4f8c; font-family:newtimeroman; color:#FFF9ED; font-size:175%; text-align:center; border-radius:10px 10px;\">Importing Libraries Needed in This Notebook</p>\n",
        "\n",
        "<a id=\"1\"></a>\n",
        "<a href=\"#toc\" class=\"btn btn-primary btn-sm\" role=\"button\" aria-pressed=\"true\" \n",
        "style=\"color:blue; background-color:#dfa8e4\" data-toggle=\"popover\">Content</a>\n"
      ]
    },
    {
      "cell_type": "code",
      "execution_count": 1,
      "metadata": {
        "colab": {
          "base_uri": "https://localhost:8080/"
        },
        "id": "y65-viwhI8XX",
        "outputId": "deb858ae-d9f9-4284-ef55-d0d8d16b27d2"
      },
      "outputs": [
        {
          "output_type": "stream",
          "name": "stdout",
          "text": [
            "Requirement already satisfied: skimpy in /root/.local/lib/python3.7/site-packages (0.0.5)\n",
            "Requirement already satisfied: click==7.1.2 in /usr/local/lib/python3.7/dist-packages (from skimpy) (7.1.2)\n",
            "Requirement already satisfied: rich<11.0.0,>=10.9.0 in /root/.local/lib/python3.7/site-packages (from skimpy) (10.16.2)\n",
            "Requirement already satisfied: pandas<2.0.0,>=1.3.2 in /usr/local/lib/python3.7/dist-packages (from skimpy) (1.3.5)\n",
            "Requirement already satisfied: typeguard<3.0.0,>=2.12.1 in /root/.local/lib/python3.7/site-packages (from skimpy) (2.13.3)\n",
            "Requirement already satisfied: Pygments<3.0.0,>=2.10.0 in /root/.local/lib/python3.7/site-packages (from skimpy) (2.12.0)\n",
            "Requirement already satisfied: pytz>=2017.3 in /usr/local/lib/python3.7/dist-packages (from pandas<2.0.0,>=1.3.2->skimpy) (2022.1)\n",
            "Requirement already satisfied: python-dateutil>=2.7.3 in /usr/local/lib/python3.7/dist-packages (from pandas<2.0.0,>=1.3.2->skimpy) (2.8.2)\n",
            "Requirement already satisfied: numpy>=1.17.3 in /usr/local/lib/python3.7/dist-packages (from pandas<2.0.0,>=1.3.2->skimpy) (1.21.6)\n",
            "Requirement already satisfied: six>=1.5 in /usr/local/lib/python3.7/dist-packages (from python-dateutil>=2.7.3->pandas<2.0.0,>=1.3.2->skimpy) (1.15.0)\n",
            "Requirement already satisfied: colorama<0.5.0,>=0.4.0 in /root/.local/lib/python3.7/site-packages (from rich<11.0.0,>=10.9.0->skimpy) (0.4.4)\n",
            "Requirement already satisfied: typing-extensions<5.0,>=3.7.4 in /usr/local/lib/python3.7/dist-packages (from rich<11.0.0,>=10.9.0->skimpy) (4.1.1)\n",
            "Requirement already satisfied: commonmark<0.10.0,>=0.9.0 in /root/.local/lib/python3.7/site-packages (from rich<11.0.0,>=10.9.0->skimpy) (0.9.1)\n"
          ]
        }
      ],
      "source": [
        "pip install skimpy --user"
      ]
    },
    {
      "cell_type": "code",
      "execution_count": 2,
      "metadata": {
        "id": "CoARRQIxI8Xa"
      },
      "outputs": [],
      "source": [
        "import numpy as np\n",
        "import pandas as pd\n",
        "import seaborn as sns \n",
        "import matplotlib.pyplot as plt\n",
        "from skimpy import clean_columns\n",
        "\n",
        "import warnings\n",
        "warnings.filterwarnings(\"ignore\")\n",
        "warnings.warn(\"this will not show\")\n",
        "\n",
        "%matplotlib inline\n",
        "# %matplotlib notebook\n",
        "\n",
        "plt.rcParams[\"figure.figsize\"] = (10,6)\n",
        "# plt.rcParams['figure.dpi'] = 100\n",
        "\n",
        "sns.set_style(\"whitegrid\")\n",
        "pd.set_option('display.float_format', lambda x: '%.2f' % x)\n",
        "\n",
        "pd.options.display.max_rows = 100\n",
        "pd.options.display.max_columns = 100"
      ]
    },
    {
      "cell_type": "markdown",
      "metadata": {
        "id": "UTt9ShHcI8Xb"
      },
      "source": [
        "## <p style=\"background-color:#9d4f8c; font-family:newtimeroman; color:#FFF9ED; font-size:175%; text-align:center; border-radius:10px 10px;\">PART- 01 (Data Cleaning)</p>\n",
        "\n",
        "<a id=\"2\"></a>\n",
        "<a href=\"#toc\" class=\"btn btn-primary btn-sm\" role=\"button\" aria-pressed=\"true\" \n",
        "style=\"color:blue; background-color:#dfa8e4\" data-toggle=\"popover\">Content</a>"
      ]
    },
    {
      "cell_type": "code",
      "source": [
        "from google.colab import drive\n",
        "drive.mount('/content/drive')"
      ],
      "metadata": {
        "colab": {
          "base_uri": "https://localhost:8080/"
        },
        "id": "o0YchgrHLynm",
        "outputId": "4764ae40-60f1-4466-d07d-c9c8bd972582"
      },
      "execution_count": 3,
      "outputs": [
        {
          "output_type": "stream",
          "name": "stdout",
          "text": [
            "Mounted at /content/drive\n"
          ]
        }
      ]
    },
    {
      "cell_type": "code",
      "execution_count": 4,
      "metadata": {
        "id": "2l3E7TV9I8Xd"
      },
      "outputs": [],
      "source": [
        "df0 = pd.read_json('/content/drive/MyDrive/Colab Notebooks/Auto Scout EDA/scout_car.json', lines= True)\n",
        "df = df0.copy()\n",
        "\n",
        "# Without lines=True, you will get \"ValueError: Trailing data\"\n",
        "# The following image represents the original view of Json file opened by VScode"
      ]
    },
    {
      "cell_type": "markdown",
      "metadata": {
        "id": "wyKonazoI8Xe"
      },
      "source": [
        "As seen in the image, it looks like you're loading a JSON file which has JSON data on each separate line. This means that .json file at hand contains **one JSON object in each line** as per the specification. In these circumstances, the answer to how you read it into a data frame in Pandas is that you have to read it **line by line** using lines=True.\n",
        "\n",
        "![JSON_FILE_ERROR](https://i.ibb.co/4j0SJqW/autoscout-json.png)"
      ]
    },
    {
      "cell_type": "code",
      "execution_count": 5,
      "metadata": {
        "colab": {
          "base_uri": "https://localhost:8080/",
          "height": 1000
        },
        "id": "W77Ukk7vI8Xf",
        "outputId": "42b36592-5c3f-4a0e-a02f-aa68850112de"
      },
      "outputs": [
        {
          "output_type": "execute_result",
          "data": {
            "text/plain": [
              "                                                                               0  \\\n",
              "url                            https://www.autoscout24.com//offers/audi-a1-sp...   \n",
              "make_model                                                               Audi A1   \n",
              "short_description                    Sportback 1.4 TDI S-tronic Xenon Navi Klima   \n",
              "body_type                                                                 Sedans   \n",
              "price                                                                      15770   \n",
              "vat                                                               VAT deductible   \n",
              "km                                                                     56,013 km   \n",
              "registration                                                             01/2016   \n",
              "prev_owner                                                     2 previous owners   \n",
              "kW                                                                           NaN   \n",
              "hp                                                                         66 kW   \n",
              "Type                                     [, Used, , Diesel (Particulate Filter)]   \n",
              "Previous Owners                                                            \\n2\\n   \n",
              "Next Inspection                            [\\n06/2021\\n, \\n99 g CO2/km (comb)\\n]   \n",
              "Inspection new                                             [\\nYes\\n, \\nEuro 6\\n]   \n",
              "Warranty                                                 [\\n, \\n, \\n4 (Green)\\n]   \n",
              "Full Service                                                            [\\n, \\n]   \n",
              "Non-smoking Vehicle                                                     [\\n, \\n]   \n",
              "null                                                                          []   \n",
              "Make                                                                    \\nAudi\\n   \n",
              "Model                                                               [\\n, A1, \\n]   \n",
              "Offer Number                                                     [\\nLR-062483\\n]   \n",
              "First Registration                                                [\\n, 2016, \\n]   \n",
              "Body Color                                                       [\\n, Black, \\n]   \n",
              "Paint Type                                                        [\\nMetallic\\n]   \n",
              "Body Color Original                                          [\\nMythosschwarz\\n]   \n",
              "Upholstery                                                    [\\nCloth, Black\\n]   \n",
              "Body                                                            [\\n, Sedans, \\n]   \n",
              "Nr. of Doors                                                             [\\n5\\n]   \n",
              "Nr. of Seats                                                             [\\n5\\n]   \n",
              "Model Code                                                        [\\n0588/BDF\\n]   \n",
              "Gearing Type                                                 [\\n, Automatic, \\n]   \n",
              "Displacement                                                      [\\n1,422 cc\\n]   \n",
              "Cylinders                                                                [\\n3\\n]   \n",
              "Weight                                                            [\\n1,220 kg\\n]   \n",
              "Drive chain                                                          [\\nfront\\n]   \n",
              "Fuel                                       [\\n, Diesel (Particulate Filter), \\n]   \n",
              "Consumption                    [[3.8 l/100 km (comb)], [4.3 l/100 km (city)],...   \n",
              "CO2 Emission                                            [\\n99 g CO2/km (comb)\\n]   \n",
              "Emission Class                                                      [\\nEuro 6\\n]   \n",
              "\\nComfort & Convenience\\n      [Air conditioning, Armrest, Automatic climate ...   \n",
              "\\nEntertainment & Media\\n      [Bluetooth, Hands-free equipment, On-board com...   \n",
              "\\nExtras\\n                     [Alloy wheels, Catalytic Converter, Voice Cont...   \n",
              "\\nSafety & Security\\n          [ABS, Central door lock, Daytime running light...   \n",
              "description                    [\\n, Sicherheit:,  , Deaktivierung für Beifahr...   \n",
              "Emission Label                                                               NaN   \n",
              "Gears                                                                        NaN   \n",
              "Country version                                                              NaN   \n",
              "Electricity consumption                                                      NaN   \n",
              "Last Service Date                                                            NaN   \n",
              "Other Fuel Types                                                             NaN   \n",
              "Availability                                                                 NaN   \n",
              "Last Timing Belt Service Date                                                NaN   \n",
              "Available from                                                               NaN   \n",
              "\n",
              "                                                                               1  \\\n",
              "url                            https://www.autoscout24.com//offers/audi-a1-1-...   \n",
              "make_model                                                               Audi A1   \n",
              "short_description                                                 1.8 TFSI sport   \n",
              "body_type                                                                 Sedans   \n",
              "price                                                                      14500   \n",
              "vat                                                             Price negotiable   \n",
              "km                                                                     80,000 km   \n",
              "registration                                                             03/2017   \n",
              "prev_owner                                                                  None   \n",
              "kW                                                                           NaN   \n",
              "hp                                                                        141 kW   \n",
              "Type                                                        [, Used, , Gasoline]   \n",
              "Previous Owners                                                              NaN   \n",
              "Next Inspection                                                              NaN   \n",
              "Inspection new                                                               NaN   \n",
              "Warranty                                                                     NaN   \n",
              "Full Service                                                                 NaN   \n",
              "Non-smoking Vehicle                                                          NaN   \n",
              "null                                                                          []   \n",
              "Make                                                                    \\nAudi\\n   \n",
              "Model                                                               [\\n, A1, \\n]   \n",
              "Offer Number                                                                 NaN   \n",
              "First Registration                                                [\\n, 2017, \\n]   \n",
              "Body Color                                                         [\\n, Red, \\n]   \n",
              "Paint Type                                                                   NaN   \n",
              "Body Color Original                                                          NaN   \n",
              "Upholstery                                                     [\\nCloth, Grey\\n]   \n",
              "Body                                                            [\\n, Sedans, \\n]   \n",
              "Nr. of Doors                                                             [\\n3\\n]   \n",
              "Nr. of Seats                                                             [\\n4\\n]   \n",
              "Model Code                                                        [\\n0588/BCY\\n]   \n",
              "Gearing Type                                                 [\\n, Automatic, \\n]   \n",
              "Displacement                                                      [\\n1,798 cc\\n]   \n",
              "Cylinders                                                                [\\n4\\n]   \n",
              "Weight                                                            [\\n1,255 kg\\n]   \n",
              "Drive chain                                                          [\\nfront\\n]   \n",
              "Fuel                                                          [\\n, Gasoline, \\n]   \n",
              "Consumption                    [[5.6 l/100 km (comb)], [7.1 l/100 km (city)],...   \n",
              "CO2 Emission                                           [\\n129 g CO2/km (comb)\\n]   \n",
              "Emission Class                                                      [\\nEuro 6\\n]   \n",
              "\\nComfort & Convenience\\n      [Air conditioning, Automatic climate control, ...   \n",
              "\\nEntertainment & Media\\n      [Bluetooth, Hands-free equipment, On-board com...   \n",
              "\\nExtras\\n                     [Alloy wheels, Sport seats, Sport suspension, ...   \n",
              "\\nSafety & Security\\n          [ABS, Central door lock, Central door lock wit...   \n",
              "description                    [\\nLangstreckenfahrzeug daher die hohe Kilomet...   \n",
              "Emission Label                                                   [\\n4 (Green)\\n]   \n",
              "Gears                                                                    [\\n7\\n]   \n",
              "Country version                                                              NaN   \n",
              "Electricity consumption                                                      NaN   \n",
              "Last Service Date                                                            NaN   \n",
              "Other Fuel Types                                                             NaN   \n",
              "Availability                                                                 NaN   \n",
              "Last Timing Belt Service Date                                                NaN   \n",
              "Available from                                                               NaN   \n",
              "\n",
              "                                                                               2  \n",
              "url                            https://www.autoscout24.com//offers/audi-a1-sp...  \n",
              "make_model                                                               Audi A1  \n",
              "short_description              Sportback 1.6 TDI S tronic Einparkhilfe plus+m...  \n",
              "body_type                                                                 Sedans  \n",
              "price                                                                      14640  \n",
              "vat                                                               VAT deductible  \n",
              "km                                                                     83,450 km  \n",
              "registration                                                             02/2016  \n",
              "prev_owner                                                      1 previous owner  \n",
              "kW                                                                           NaN  \n",
              "hp                                                                         85 kW  \n",
              "Type                                     [, Used, , Diesel (Particulate Filter)]  \n",
              "Previous Owners                                                            \\n1\\n  \n",
              "Next Inspection                                                              NaN  \n",
              "Inspection new                                                               NaN  \n",
              "Warranty                                        [\\n, \\n, \\n99 g CO2/km (comb)\\n]  \n",
              "Full Service                                                                 NaN  \n",
              "Non-smoking Vehicle                                                          NaN  \n",
              "null                                                                          []  \n",
              "Make                                                                    \\nAudi\\n  \n",
              "Model                                                               [\\n, A1, \\n]  \n",
              "Offer Number                                                      [\\nAM-95365\\n]  \n",
              "First Registration                                                [\\n, 2016, \\n]  \n",
              "Body Color                                                       [\\n, Black, \\n]  \n",
              "Paint Type                                                        [\\nMetallic\\n]  \n",
              "Body Color Original                                 [\\nmythosschwarz metallic\\n]  \n",
              "Upholstery                                                    [\\nCloth, Black\\n]  \n",
              "Body                                                            [\\n, Sedans, \\n]  \n",
              "Nr. of Doors                                                             [\\n4\\n]  \n",
              "Nr. of Seats                                                             [\\n4\\n]  \n",
              "Model Code                                                                   NaN  \n",
              "Gearing Type                                                 [\\n, Automatic, \\n]  \n",
              "Displacement                                                      [\\n1,598 cc\\n]  \n",
              "Cylinders                                                                    NaN  \n",
              "Weight                                                                       NaN  \n",
              "Drive chain                                                          [\\nfront\\n]  \n",
              "Fuel                                       [\\n, Diesel (Particulate Filter), \\n]  \n",
              "Consumption                    [[3.8 l/100 km (comb)], [4.4 l/100 km (city)],...  \n",
              "CO2 Emission                                            [\\n99 g CO2/km (comb)\\n]  \n",
              "Emission Class                                                      [\\nEuro 6\\n]  \n",
              "\\nComfort & Convenience\\n      [Air conditioning, Cruise control, Electrical ...  \n",
              "\\nEntertainment & Media\\n                               [MP3, On-board computer]  \n",
              "\\nExtras\\n                                         [Alloy wheels, Voice Control]  \n",
              "\\nSafety & Security\\n          [ABS, Central door lock, Daytime running light...  \n",
              "description                    [\\n, Fahrzeug-Nummer: AM-95365,  , Ehem. UPE 2...  \n",
              "Emission Label                                                   [\\n4 (Green)\\n]  \n",
              "Gears                                                                        NaN  \n",
              "Country version                                                              NaN  \n",
              "Electricity consumption                                                      NaN  \n",
              "Last Service Date                                                            NaN  \n",
              "Other Fuel Types                                                             NaN  \n",
              "Availability                                                                 NaN  \n",
              "Last Timing Belt Service Date                                                NaN  \n",
              "Available from                                                               NaN  "
            ],
            "text/html": [
              "\n",
              "  <div id=\"df-5246f83c-3f01-4bdf-ad3d-6aff0a685674\">\n",
              "    <div class=\"colab-df-container\">\n",
              "      <div>\n",
              "<style scoped>\n",
              "    .dataframe tbody tr th:only-of-type {\n",
              "        vertical-align: middle;\n",
              "    }\n",
              "\n",
              "    .dataframe tbody tr th {\n",
              "        vertical-align: top;\n",
              "    }\n",
              "\n",
              "    .dataframe thead th {\n",
              "        text-align: right;\n",
              "    }\n",
              "</style>\n",
              "<table border=\"1\" class=\"dataframe\">\n",
              "  <thead>\n",
              "    <tr style=\"text-align: right;\">\n",
              "      <th></th>\n",
              "      <th>0</th>\n",
              "      <th>1</th>\n",
              "      <th>2</th>\n",
              "    </tr>\n",
              "  </thead>\n",
              "  <tbody>\n",
              "    <tr>\n",
              "      <th>url</th>\n",
              "      <td>https://www.autoscout24.com//offers/audi-a1-sp...</td>\n",
              "      <td>https://www.autoscout24.com//offers/audi-a1-1-...</td>\n",
              "      <td>https://www.autoscout24.com//offers/audi-a1-sp...</td>\n",
              "    </tr>\n",
              "    <tr>\n",
              "      <th>make_model</th>\n",
              "      <td>Audi A1</td>\n",
              "      <td>Audi A1</td>\n",
              "      <td>Audi A1</td>\n",
              "    </tr>\n",
              "    <tr>\n",
              "      <th>short_description</th>\n",
              "      <td>Sportback 1.4 TDI S-tronic Xenon Navi Klima</td>\n",
              "      <td>1.8 TFSI sport</td>\n",
              "      <td>Sportback 1.6 TDI S tronic Einparkhilfe plus+m...</td>\n",
              "    </tr>\n",
              "    <tr>\n",
              "      <th>body_type</th>\n",
              "      <td>Sedans</td>\n",
              "      <td>Sedans</td>\n",
              "      <td>Sedans</td>\n",
              "    </tr>\n",
              "    <tr>\n",
              "      <th>price</th>\n",
              "      <td>15770</td>\n",
              "      <td>14500</td>\n",
              "      <td>14640</td>\n",
              "    </tr>\n",
              "    <tr>\n",
              "      <th>vat</th>\n",
              "      <td>VAT deductible</td>\n",
              "      <td>Price negotiable</td>\n",
              "      <td>VAT deductible</td>\n",
              "    </tr>\n",
              "    <tr>\n",
              "      <th>km</th>\n",
              "      <td>56,013 km</td>\n",
              "      <td>80,000 km</td>\n",
              "      <td>83,450 km</td>\n",
              "    </tr>\n",
              "    <tr>\n",
              "      <th>registration</th>\n",
              "      <td>01/2016</td>\n",
              "      <td>03/2017</td>\n",
              "      <td>02/2016</td>\n",
              "    </tr>\n",
              "    <tr>\n",
              "      <th>prev_owner</th>\n",
              "      <td>2 previous owners</td>\n",
              "      <td>None</td>\n",
              "      <td>1 previous owner</td>\n",
              "    </tr>\n",
              "    <tr>\n",
              "      <th>kW</th>\n",
              "      <td>NaN</td>\n",
              "      <td>NaN</td>\n",
              "      <td>NaN</td>\n",
              "    </tr>\n",
              "    <tr>\n",
              "      <th>hp</th>\n",
              "      <td>66 kW</td>\n",
              "      <td>141 kW</td>\n",
              "      <td>85 kW</td>\n",
              "    </tr>\n",
              "    <tr>\n",
              "      <th>Type</th>\n",
              "      <td>[, Used, , Diesel (Particulate Filter)]</td>\n",
              "      <td>[, Used, , Gasoline]</td>\n",
              "      <td>[, Used, , Diesel (Particulate Filter)]</td>\n",
              "    </tr>\n",
              "    <tr>\n",
              "      <th>Previous Owners</th>\n",
              "      <td>\\n2\\n</td>\n",
              "      <td>NaN</td>\n",
              "      <td>\\n1\\n</td>\n",
              "    </tr>\n",
              "    <tr>\n",
              "      <th>Next Inspection</th>\n",
              "      <td>[\\n06/2021\\n, \\n99 g CO2/km (comb)\\n]</td>\n",
              "      <td>NaN</td>\n",
              "      <td>NaN</td>\n",
              "    </tr>\n",
              "    <tr>\n",
              "      <th>Inspection new</th>\n",
              "      <td>[\\nYes\\n, \\nEuro 6\\n]</td>\n",
              "      <td>NaN</td>\n",
              "      <td>NaN</td>\n",
              "    </tr>\n",
              "    <tr>\n",
              "      <th>Warranty</th>\n",
              "      <td>[\\n, \\n, \\n4 (Green)\\n]</td>\n",
              "      <td>NaN</td>\n",
              "      <td>[\\n, \\n, \\n99 g CO2/km (comb)\\n]</td>\n",
              "    </tr>\n",
              "    <tr>\n",
              "      <th>Full Service</th>\n",
              "      <td>[\\n, \\n]</td>\n",
              "      <td>NaN</td>\n",
              "      <td>NaN</td>\n",
              "    </tr>\n",
              "    <tr>\n",
              "      <th>Non-smoking Vehicle</th>\n",
              "      <td>[\\n, \\n]</td>\n",
              "      <td>NaN</td>\n",
              "      <td>NaN</td>\n",
              "    </tr>\n",
              "    <tr>\n",
              "      <th>null</th>\n",
              "      <td>[]</td>\n",
              "      <td>[]</td>\n",
              "      <td>[]</td>\n",
              "    </tr>\n",
              "    <tr>\n",
              "      <th>Make</th>\n",
              "      <td>\\nAudi\\n</td>\n",
              "      <td>\\nAudi\\n</td>\n",
              "      <td>\\nAudi\\n</td>\n",
              "    </tr>\n",
              "    <tr>\n",
              "      <th>Model</th>\n",
              "      <td>[\\n, A1, \\n]</td>\n",
              "      <td>[\\n, A1, \\n]</td>\n",
              "      <td>[\\n, A1, \\n]</td>\n",
              "    </tr>\n",
              "    <tr>\n",
              "      <th>Offer Number</th>\n",
              "      <td>[\\nLR-062483\\n]</td>\n",
              "      <td>NaN</td>\n",
              "      <td>[\\nAM-95365\\n]</td>\n",
              "    </tr>\n",
              "    <tr>\n",
              "      <th>First Registration</th>\n",
              "      <td>[\\n, 2016, \\n]</td>\n",
              "      <td>[\\n, 2017, \\n]</td>\n",
              "      <td>[\\n, 2016, \\n]</td>\n",
              "    </tr>\n",
              "    <tr>\n",
              "      <th>Body Color</th>\n",
              "      <td>[\\n, Black, \\n]</td>\n",
              "      <td>[\\n, Red, \\n]</td>\n",
              "      <td>[\\n, Black, \\n]</td>\n",
              "    </tr>\n",
              "    <tr>\n",
              "      <th>Paint Type</th>\n",
              "      <td>[\\nMetallic\\n]</td>\n",
              "      <td>NaN</td>\n",
              "      <td>[\\nMetallic\\n]</td>\n",
              "    </tr>\n",
              "    <tr>\n",
              "      <th>Body Color Original</th>\n",
              "      <td>[\\nMythosschwarz\\n]</td>\n",
              "      <td>NaN</td>\n",
              "      <td>[\\nmythosschwarz metallic\\n]</td>\n",
              "    </tr>\n",
              "    <tr>\n",
              "      <th>Upholstery</th>\n",
              "      <td>[\\nCloth, Black\\n]</td>\n",
              "      <td>[\\nCloth, Grey\\n]</td>\n",
              "      <td>[\\nCloth, Black\\n]</td>\n",
              "    </tr>\n",
              "    <tr>\n",
              "      <th>Body</th>\n",
              "      <td>[\\n, Sedans, \\n]</td>\n",
              "      <td>[\\n, Sedans, \\n]</td>\n",
              "      <td>[\\n, Sedans, \\n]</td>\n",
              "    </tr>\n",
              "    <tr>\n",
              "      <th>Nr. of Doors</th>\n",
              "      <td>[\\n5\\n]</td>\n",
              "      <td>[\\n3\\n]</td>\n",
              "      <td>[\\n4\\n]</td>\n",
              "    </tr>\n",
              "    <tr>\n",
              "      <th>Nr. of Seats</th>\n",
              "      <td>[\\n5\\n]</td>\n",
              "      <td>[\\n4\\n]</td>\n",
              "      <td>[\\n4\\n]</td>\n",
              "    </tr>\n",
              "    <tr>\n",
              "      <th>Model Code</th>\n",
              "      <td>[\\n0588/BDF\\n]</td>\n",
              "      <td>[\\n0588/BCY\\n]</td>\n",
              "      <td>NaN</td>\n",
              "    </tr>\n",
              "    <tr>\n",
              "      <th>Gearing Type</th>\n",
              "      <td>[\\n, Automatic, \\n]</td>\n",
              "      <td>[\\n, Automatic, \\n]</td>\n",
              "      <td>[\\n, Automatic, \\n]</td>\n",
              "    </tr>\n",
              "    <tr>\n",
              "      <th>Displacement</th>\n",
              "      <td>[\\n1,422 cc\\n]</td>\n",
              "      <td>[\\n1,798 cc\\n]</td>\n",
              "      <td>[\\n1,598 cc\\n]</td>\n",
              "    </tr>\n",
              "    <tr>\n",
              "      <th>Cylinders</th>\n",
              "      <td>[\\n3\\n]</td>\n",
              "      <td>[\\n4\\n]</td>\n",
              "      <td>NaN</td>\n",
              "    </tr>\n",
              "    <tr>\n",
              "      <th>Weight</th>\n",
              "      <td>[\\n1,220 kg\\n]</td>\n",
              "      <td>[\\n1,255 kg\\n]</td>\n",
              "      <td>NaN</td>\n",
              "    </tr>\n",
              "    <tr>\n",
              "      <th>Drive chain</th>\n",
              "      <td>[\\nfront\\n]</td>\n",
              "      <td>[\\nfront\\n]</td>\n",
              "      <td>[\\nfront\\n]</td>\n",
              "    </tr>\n",
              "    <tr>\n",
              "      <th>Fuel</th>\n",
              "      <td>[\\n, Diesel (Particulate Filter), \\n]</td>\n",
              "      <td>[\\n, Gasoline, \\n]</td>\n",
              "      <td>[\\n, Diesel (Particulate Filter), \\n]</td>\n",
              "    </tr>\n",
              "    <tr>\n",
              "      <th>Consumption</th>\n",
              "      <td>[[3.8 l/100 km (comb)], [4.3 l/100 km (city)],...</td>\n",
              "      <td>[[5.6 l/100 km (comb)], [7.1 l/100 km (city)],...</td>\n",
              "      <td>[[3.8 l/100 km (comb)], [4.4 l/100 km (city)],...</td>\n",
              "    </tr>\n",
              "    <tr>\n",
              "      <th>CO2 Emission</th>\n",
              "      <td>[\\n99 g CO2/km (comb)\\n]</td>\n",
              "      <td>[\\n129 g CO2/km (comb)\\n]</td>\n",
              "      <td>[\\n99 g CO2/km (comb)\\n]</td>\n",
              "    </tr>\n",
              "    <tr>\n",
              "      <th>Emission Class</th>\n",
              "      <td>[\\nEuro 6\\n]</td>\n",
              "      <td>[\\nEuro 6\\n]</td>\n",
              "      <td>[\\nEuro 6\\n]</td>\n",
              "    </tr>\n",
              "    <tr>\n",
              "      <th>\\nComfort &amp; Convenience\\n</th>\n",
              "      <td>[Air conditioning, Armrest, Automatic climate ...</td>\n",
              "      <td>[Air conditioning, Automatic climate control, ...</td>\n",
              "      <td>[Air conditioning, Cruise control, Electrical ...</td>\n",
              "    </tr>\n",
              "    <tr>\n",
              "      <th>\\nEntertainment &amp; Media\\n</th>\n",
              "      <td>[Bluetooth, Hands-free equipment, On-board com...</td>\n",
              "      <td>[Bluetooth, Hands-free equipment, On-board com...</td>\n",
              "      <td>[MP3, On-board computer]</td>\n",
              "    </tr>\n",
              "    <tr>\n",
              "      <th>\\nExtras\\n</th>\n",
              "      <td>[Alloy wheels, Catalytic Converter, Voice Cont...</td>\n",
              "      <td>[Alloy wheels, Sport seats, Sport suspension, ...</td>\n",
              "      <td>[Alloy wheels, Voice Control]</td>\n",
              "    </tr>\n",
              "    <tr>\n",
              "      <th>\\nSafety &amp; Security\\n</th>\n",
              "      <td>[ABS, Central door lock, Daytime running light...</td>\n",
              "      <td>[ABS, Central door lock, Central door lock wit...</td>\n",
              "      <td>[ABS, Central door lock, Daytime running light...</td>\n",
              "    </tr>\n",
              "    <tr>\n",
              "      <th>description</th>\n",
              "      <td>[\\n, Sicherheit:,  , Deaktivierung für Beifahr...</td>\n",
              "      <td>[\\nLangstreckenfahrzeug daher die hohe Kilomet...</td>\n",
              "      <td>[\\n, Fahrzeug-Nummer: AM-95365,  , Ehem. UPE 2...</td>\n",
              "    </tr>\n",
              "    <tr>\n",
              "      <th>Emission Label</th>\n",
              "      <td>NaN</td>\n",
              "      <td>[\\n4 (Green)\\n]</td>\n",
              "      <td>[\\n4 (Green)\\n]</td>\n",
              "    </tr>\n",
              "    <tr>\n",
              "      <th>Gears</th>\n",
              "      <td>NaN</td>\n",
              "      <td>[\\n7\\n]</td>\n",
              "      <td>NaN</td>\n",
              "    </tr>\n",
              "    <tr>\n",
              "      <th>Country version</th>\n",
              "      <td>NaN</td>\n",
              "      <td>NaN</td>\n",
              "      <td>NaN</td>\n",
              "    </tr>\n",
              "    <tr>\n",
              "      <th>Electricity consumption</th>\n",
              "      <td>NaN</td>\n",
              "      <td>NaN</td>\n",
              "      <td>NaN</td>\n",
              "    </tr>\n",
              "    <tr>\n",
              "      <th>Last Service Date</th>\n",
              "      <td>NaN</td>\n",
              "      <td>NaN</td>\n",
              "      <td>NaN</td>\n",
              "    </tr>\n",
              "    <tr>\n",
              "      <th>Other Fuel Types</th>\n",
              "      <td>NaN</td>\n",
              "      <td>NaN</td>\n",
              "      <td>NaN</td>\n",
              "    </tr>\n",
              "    <tr>\n",
              "      <th>Availability</th>\n",
              "      <td>NaN</td>\n",
              "      <td>NaN</td>\n",
              "      <td>NaN</td>\n",
              "    </tr>\n",
              "    <tr>\n",
              "      <th>Last Timing Belt Service Date</th>\n",
              "      <td>NaN</td>\n",
              "      <td>NaN</td>\n",
              "      <td>NaN</td>\n",
              "    </tr>\n",
              "    <tr>\n",
              "      <th>Available from</th>\n",
              "      <td>NaN</td>\n",
              "      <td>NaN</td>\n",
              "      <td>NaN</td>\n",
              "    </tr>\n",
              "  </tbody>\n",
              "</table>\n",
              "</div>\n",
              "      <button class=\"colab-df-convert\" onclick=\"convertToInteractive('df-5246f83c-3f01-4bdf-ad3d-6aff0a685674')\"\n",
              "              title=\"Convert this dataframe to an interactive table.\"\n",
              "              style=\"display:none;\">\n",
              "        \n",
              "  <svg xmlns=\"http://www.w3.org/2000/svg\" height=\"24px\"viewBox=\"0 0 24 24\"\n",
              "       width=\"24px\">\n",
              "    <path d=\"M0 0h24v24H0V0z\" fill=\"none\"/>\n",
              "    <path d=\"M18.56 5.44l.94 2.06.94-2.06 2.06-.94-2.06-.94-.94-2.06-.94 2.06-2.06.94zm-11 1L8.5 8.5l.94-2.06 2.06-.94-2.06-.94L8.5 2.5l-.94 2.06-2.06.94zm10 10l.94 2.06.94-2.06 2.06-.94-2.06-.94-.94-2.06-.94 2.06-2.06.94z\"/><path d=\"M17.41 7.96l-1.37-1.37c-.4-.4-.92-.59-1.43-.59-.52 0-1.04.2-1.43.59L10.3 9.45l-7.72 7.72c-.78.78-.78 2.05 0 2.83L4 21.41c.39.39.9.59 1.41.59.51 0 1.02-.2 1.41-.59l7.78-7.78 2.81-2.81c.8-.78.8-2.07 0-2.86zM5.41 20L4 18.59l7.72-7.72 1.47 1.35L5.41 20z\"/>\n",
              "  </svg>\n",
              "      </button>\n",
              "      \n",
              "  <style>\n",
              "    .colab-df-container {\n",
              "      display:flex;\n",
              "      flex-wrap:wrap;\n",
              "      gap: 12px;\n",
              "    }\n",
              "\n",
              "    .colab-df-convert {\n",
              "      background-color: #E8F0FE;\n",
              "      border: none;\n",
              "      border-radius: 50%;\n",
              "      cursor: pointer;\n",
              "      display: none;\n",
              "      fill: #1967D2;\n",
              "      height: 32px;\n",
              "      padding: 0 0 0 0;\n",
              "      width: 32px;\n",
              "    }\n",
              "\n",
              "    .colab-df-convert:hover {\n",
              "      background-color: #E2EBFA;\n",
              "      box-shadow: 0px 1px 2px rgba(60, 64, 67, 0.3), 0px 1px 3px 1px rgba(60, 64, 67, 0.15);\n",
              "      fill: #174EA6;\n",
              "    }\n",
              "\n",
              "    [theme=dark] .colab-df-convert {\n",
              "      background-color: #3B4455;\n",
              "      fill: #D2E3FC;\n",
              "    }\n",
              "\n",
              "    [theme=dark] .colab-df-convert:hover {\n",
              "      background-color: #434B5C;\n",
              "      box-shadow: 0px 1px 3px 1px rgba(0, 0, 0, 0.15);\n",
              "      filter: drop-shadow(0px 1px 2px rgba(0, 0, 0, 0.3));\n",
              "      fill: #FFFFFF;\n",
              "    }\n",
              "  </style>\n",
              "\n",
              "      <script>\n",
              "        const buttonEl =\n",
              "          document.querySelector('#df-5246f83c-3f01-4bdf-ad3d-6aff0a685674 button.colab-df-convert');\n",
              "        buttonEl.style.display =\n",
              "          google.colab.kernel.accessAllowed ? 'block' : 'none';\n",
              "\n",
              "        async function convertToInteractive(key) {\n",
              "          const element = document.querySelector('#df-5246f83c-3f01-4bdf-ad3d-6aff0a685674');\n",
              "          const dataTable =\n",
              "            await google.colab.kernel.invokeFunction('convertToInteractive',\n",
              "                                                     [key], {});\n",
              "          if (!dataTable) return;\n",
              "\n",
              "          const docLinkHtml = 'Like what you see? Visit the ' +\n",
              "            '<a target=\"_blank\" href=https://colab.research.google.com/notebooks/data_table.ipynb>data table notebook</a>'\n",
              "            + ' to learn more about interactive tables.';\n",
              "          element.innerHTML = '';\n",
              "          dataTable['output_type'] = 'display_data';\n",
              "          await google.colab.output.renderOutput(dataTable, element);\n",
              "          const docLink = document.createElement('div');\n",
              "          docLink.innerHTML = docLinkHtml;\n",
              "          element.appendChild(docLink);\n",
              "        }\n",
              "      </script>\n",
              "    </div>\n",
              "  </div>\n",
              "  "
            ]
          },
          "metadata": {},
          "execution_count": 5
        }
      ],
      "source": [
        "df.head(3).T"
      ]
    },
    {
      "cell_type": "code",
      "execution_count": 6,
      "metadata": {
        "colab": {
          "base_uri": "https://localhost:8080/"
        },
        "id": "yDpne38KI8Xh",
        "outputId": "93ceaf49-9fb3-4ee3-b2cd-ead12873b1c9"
      },
      "outputs": [
        {
          "output_type": "stream",
          "name": "stdout",
          "text": [
            "<class 'pandas.core.frame.DataFrame'>\n",
            "RangeIndex: 15919 entries, 0 to 15918\n",
            "Data columns (total 54 columns):\n",
            " #   Column                         Non-Null Count  Dtype  \n",
            "---  ------                         --------------  -----  \n",
            " 0   url                            15919 non-null  object \n",
            " 1   make_model                     15919 non-null  object \n",
            " 2   short_description              15873 non-null  object \n",
            " 3   body_type                      15859 non-null  object \n",
            " 4   price                          15919 non-null  int64  \n",
            " 5   vat                            11406 non-null  object \n",
            " 6   km                             15919 non-null  object \n",
            " 7   registration                   15919 non-null  object \n",
            " 8   prev_owner                     9091 non-null   object \n",
            " 9   kW                             0 non-null      float64\n",
            " 10  hp                             15919 non-null  object \n",
            " 11  Type                           15917 non-null  object \n",
            " 12  Previous Owners                9279 non-null   object \n",
            " 13  Next Inspection                3535 non-null   object \n",
            " 14  Inspection new                 3932 non-null   object \n",
            " 15  Warranty                       10499 non-null  object \n",
            " 16  Full Service                   8215 non-null   object \n",
            " 17  Non-smoking Vehicle            7177 non-null   object \n",
            " 18  null                           15919 non-null  object \n",
            " 19  Make                           15919 non-null  object \n",
            " 20  Model                          15919 non-null  object \n",
            " 21  Offer Number                   12744 non-null  object \n",
            " 22  First Registration             14322 non-null  object \n",
            " 23  Body Color                     15322 non-null  object \n",
            " 24  Paint Type                     10147 non-null  object \n",
            " 25  Body Color Original            12160 non-null  object \n",
            " 26  Upholstery                     12199 non-null  object \n",
            " 27  Body                           15859 non-null  object \n",
            " 28  Nr. of Doors                   15707 non-null  object \n",
            " 29  Nr. of Seats                   14942 non-null  object \n",
            " 30  Model Code                     4978 non-null   object \n",
            " 31  Gearing Type                   15919 non-null  object \n",
            " 32  Displacement                   15423 non-null  object \n",
            " 33  Cylinders                      10239 non-null  object \n",
            " 34  Weight                         8945 non-null   object \n",
            " 35  Drive chain                    9061 non-null   object \n",
            " 36  Fuel                           15919 non-null  object \n",
            " 37  Consumption                    14013 non-null  object \n",
            " 38  CO2 Emission                   14111 non-null  object \n",
            " 39  Emission Class                 12898 non-null  object \n",
            " 40  \n",
            "Comfort & Convenience\n",
            "        14999 non-null  object \n",
            " 41  \n",
            "Entertainment & Media\n",
            "        14545 non-null  object \n",
            " 42  \n",
            "Extras\n",
            "                       12957 non-null  object \n",
            " 43  \n",
            "Safety & Security\n",
            "            14937 non-null  object \n",
            " 44  description                    15919 non-null  object \n",
            " 45  Emission Label                 3985 non-null   object \n",
            " 46  Gears                          11207 non-null  object \n",
            " 47  Country version                7586 non-null   object \n",
            " 48  Electricity consumption        137 non-null    object \n",
            " 49  Last Service Date              566 non-null    object \n",
            " 50  Other Fuel Types               880 non-null    object \n",
            " 51  Availability                   635 non-null    object \n",
            " 52  Last Timing Belt Service Date  16 non-null     object \n",
            " 53  Available from                 272 non-null    object \n",
            "dtypes: float64(1), int64(1), object(52)\n",
            "memory usage: 6.6+ MB\n"
          ]
        }
      ],
      "source": [
        "df.info()"
      ]
    },
    {
      "cell_type": "code",
      "execution_count": 7,
      "metadata": {
        "colab": {
          "base_uri": "https://localhost:8080/"
        },
        "id": "xUW1pDzlI8Xi",
        "outputId": "ab8f7763-0da3-4546-9143-18aade2f71cb"
      },
      "outputs": [
        {
          "output_type": "execute_result",
          "data": {
            "text/plain": [
              "Index(['url', 'make_model', 'short_description', 'body_type', 'price', 'vat',\n",
              "       'km', 'registration', 'prev_owner', 'kW', 'hp', 'Type',\n",
              "       'Previous Owners', 'Next Inspection', 'Inspection new', 'Warranty',\n",
              "       'Full Service', 'Non-smoking Vehicle', 'null', 'Make', 'Model',\n",
              "       'Offer Number', 'First Registration', 'Body Color', 'Paint Type',\n",
              "       'Body Color Original', 'Upholstery', 'Body', 'Nr. of Doors',\n",
              "       'Nr. of Seats', 'Model Code', 'Gearing Type', 'Displacement',\n",
              "       'Cylinders', 'Weight', 'Drive chain', 'Fuel', 'Consumption',\n",
              "       'CO2 Emission', 'Emission Class', '\\nComfort & Convenience\\n',\n",
              "       '\\nEntertainment & Media\\n', '\\nExtras\\n', '\\nSafety & Security\\n',\n",
              "       'description', 'Emission Label', 'Gears', 'Country version',\n",
              "       'Electricity consumption', 'Last Service Date', 'Other Fuel Types',\n",
              "       'Availability', 'Last Timing Belt Service Date', 'Available from'],\n",
              "      dtype='object')"
            ]
          },
          "metadata": {},
          "execution_count": 7
        }
      ],
      "source": [
        "df.columns"
      ]
    },
    {
      "cell_type": "markdown",
      "metadata": {
        "id": "7JB4mkKzI8Xi"
      },
      "source": [
        "**Let us rectify the** **``Incorrect Headers (Column names)``**"
      ]
    },
    {
      "cell_type": "markdown",
      "metadata": {
        "id": "nvmztpd-I8Xj"
      },
      "source": [
        "One way of renaming the columns in a Pandas dataframe is by using the **``rename()``** function. This method is quite useful when we need to rename some selected columns because we need to specify information only for the columns which are to be renamed [Source](https://www.geeksforgeeks.org/how-to-rename-columns-in-pandas-dataframe/)."
      ]
    },
    {
      "cell_type": "code",
      "execution_count": 8,
      "metadata": {
        "id": "lP6nHbcKI8Xj"
      },
      "outputs": [],
      "source": [
        "# First Method\n",
        "\n",
        "# from skimpy import clean_columns\n",
        "\n",
        "# df1 = clean_columns(df)\n",
        "# df1.head(3)"
      ]
    },
    {
      "cell_type": "code",
      "execution_count": 9,
      "metadata": {
        "id": "FqpTjcAdI8Xk"
      },
      "outputs": [],
      "source": [
        "# Second Method\n",
        "\n",
        "# df[\"Comfort_Convenience\"] = df[\"\\nComfort & Convenience\\n\"]\n",
        "# df[\"Entertainment_Media\"] = df[\"\\nEntertainment & Media\\n\"]\n",
        "# df[\"Extras\"] = df[\"\\nExtras\\n\"]\n",
        "# df[\"Safety_Security\"] = df[\"\\nSafety & Security\\n\"]\n",
        "\n",
        "# drop_columns = [\"\\nComfort & Convenience\\n\", \"\\nEntertainment & Media\\n\", \"\\nExtras\\n\", \"\\nSafety & Security\\n\"]\n",
        "\n",
        "# df.drop(drop_columns, axis=1, inplace=True)"
      ]
    },
    {
      "cell_type": "code",
      "execution_count": 10,
      "metadata": {
        "colab": {
          "base_uri": "https://localhost:8080/",
          "height": 502
        },
        "id": "DsSlIGc2I8Xk",
        "outputId": "0f092280-8743-49d3-cf64-9f416cc7f512"
      },
      "outputs": [
        {
          "output_type": "execute_result",
          "data": {
            "text/plain": [
              "                                                 url make_model  \\\n",
              "0  https://www.autoscout24.com//offers/audi-a1-sp...    Audi A1   \n",
              "1  https://www.autoscout24.com//offers/audi-a1-1-...    Audi A1   \n",
              "2  https://www.autoscout24.com//offers/audi-a1-sp...    Audi A1   \n",
              "\n",
              "                                   short_description body_type  price  \\\n",
              "0        Sportback 1.4 TDI S-tronic Xenon Navi Klima    Sedans  15770   \n",
              "1                                     1.8 TFSI sport    Sedans  14500   \n",
              "2  Sportback 1.6 TDI S tronic Einparkhilfe plus+m...    Sedans  14640   \n",
              "\n",
              "                vat         km registration         prev_owner  kW      hp  \\\n",
              "0    VAT deductible  56,013 km      01/2016  2 previous owners NaN   66 kW   \n",
              "1  Price negotiable  80,000 km      03/2017               None NaN  141 kW   \n",
              "2    VAT deductible  83,450 km      02/2016   1 previous owner NaN   85 kW   \n",
              "\n",
              "                                      Type Previous Owners  \\\n",
              "0  [, Used, , Diesel (Particulate Filter)]           \\n2\\n   \n",
              "1                     [, Used, , Gasoline]             NaN   \n",
              "2  [, Used, , Diesel (Particulate Filter)]           \\n1\\n   \n",
              "\n",
              "                         Next Inspection         Inspection new  \\\n",
              "0  [\\n06/2021\\n, \\n99 g CO2/km (comb)\\n]  [\\nYes\\n, \\nEuro 6\\n]   \n",
              "1                                    NaN                    NaN   \n",
              "2                                    NaN                    NaN   \n",
              "\n",
              "                           Warranty Full Service Non-smoking Vehicle null  \\\n",
              "0           [\\n, \\n, \\n4 (Green)\\n]     [\\n, \\n]            [\\n, \\n]   []   \n",
              "1                               NaN          NaN                 NaN   []   \n",
              "2  [\\n, \\n, \\n99 g CO2/km (comb)\\n]          NaN                 NaN   []   \n",
              "\n",
              "       Make         Model     Offer Number First Registration  \\\n",
              "0  \\nAudi\\n  [\\n, A1, \\n]  [\\nLR-062483\\n]     [\\n, 2016, \\n]   \n",
              "1  \\nAudi\\n  [\\n, A1, \\n]              NaN     [\\n, 2017, \\n]   \n",
              "2  \\nAudi\\n  [\\n, A1, \\n]   [\\nAM-95365\\n]     [\\n, 2016, \\n]   \n",
              "\n",
              "        Body Color      Paint Type           Body Color Original  \\\n",
              "0  [\\n, Black, \\n]  [\\nMetallic\\n]           [\\nMythosschwarz\\n]   \n",
              "1    [\\n, Red, \\n]             NaN                           NaN   \n",
              "2  [\\n, Black, \\n]  [\\nMetallic\\n]  [\\nmythosschwarz metallic\\n]   \n",
              "\n",
              "           Upholstery              Body Nr. of Doors Nr. of Seats  \\\n",
              "0  [\\nCloth, Black\\n]  [\\n, Sedans, \\n]      [\\n5\\n]      [\\n5\\n]   \n",
              "1   [\\nCloth, Grey\\n]  [\\n, Sedans, \\n]      [\\n3\\n]      [\\n4\\n]   \n",
              "2  [\\nCloth, Black\\n]  [\\n, Sedans, \\n]      [\\n4\\n]      [\\n4\\n]   \n",
              "\n",
              "       Model Code         Gearing Type    Displacement Cylinders  \\\n",
              "0  [\\n0588/BDF\\n]  [\\n, Automatic, \\n]  [\\n1,422 cc\\n]   [\\n3\\n]   \n",
              "1  [\\n0588/BCY\\n]  [\\n, Automatic, \\n]  [\\n1,798 cc\\n]   [\\n4\\n]   \n",
              "2             NaN  [\\n, Automatic, \\n]  [\\n1,598 cc\\n]       NaN   \n",
              "\n",
              "           Weight  Drive chain                                   Fuel  \\\n",
              "0  [\\n1,220 kg\\n]  [\\nfront\\n]  [\\n, Diesel (Particulate Filter), \\n]   \n",
              "1  [\\n1,255 kg\\n]  [\\nfront\\n]                     [\\n, Gasoline, \\n]   \n",
              "2             NaN  [\\nfront\\n]  [\\n, Diesel (Particulate Filter), \\n]   \n",
              "\n",
              "                                         Consumption  \\\n",
              "0  [[3.8 l/100 km (comb)], [4.3 l/100 km (city)],...   \n",
              "1  [[5.6 l/100 km (comb)], [7.1 l/100 km (city)],...   \n",
              "2  [[3.8 l/100 km (comb)], [4.4 l/100 km (city)],...   \n",
              "\n",
              "                CO2 Emission Emission Class  \\\n",
              "0   [\\n99 g CO2/km (comb)\\n]   [\\nEuro 6\\n]   \n",
              "1  [\\n129 g CO2/km (comb)\\n]   [\\nEuro 6\\n]   \n",
              "2   [\\n99 g CO2/km (comb)\\n]   [\\nEuro 6\\n]   \n",
              "\n",
              "                                 Comfort_Convenience  \\\n",
              "0  [Air conditioning, Armrest, Automatic climate ...   \n",
              "1  [Air conditioning, Automatic climate control, ...   \n",
              "2  [Air conditioning, Cruise control, Electrical ...   \n",
              "\n",
              "                                 Entertainment_Media  \\\n",
              "0  [Bluetooth, Hands-free equipment, On-board com...   \n",
              "1  [Bluetooth, Hands-free equipment, On-board com...   \n",
              "2                           [MP3, On-board computer]   \n",
              "\n",
              "                                              Extras  \\\n",
              "0  [Alloy wheels, Catalytic Converter, Voice Cont...   \n",
              "1  [Alloy wheels, Sport seats, Sport suspension, ...   \n",
              "2                      [Alloy wheels, Voice Control]   \n",
              "\n",
              "                                     Safety_Security  \\\n",
              "0  [ABS, Central door lock, Daytime running light...   \n",
              "1  [ABS, Central door lock, Central door lock wit...   \n",
              "2  [ABS, Central door lock, Daytime running light...   \n",
              "\n",
              "                                         description   Emission Label  \\\n",
              "0  [\\n, Sicherheit:,  , Deaktivierung für Beifahr...              NaN   \n",
              "1  [\\nLangstreckenfahrzeug daher die hohe Kilomet...  [\\n4 (Green)\\n]   \n",
              "2  [\\n, Fahrzeug-Nummer: AM-95365,  , Ehem. UPE 2...  [\\n4 (Green)\\n]   \n",
              "\n",
              "     Gears Country version Electricity consumption Last Service Date  \\\n",
              "0      NaN             NaN                     NaN               NaN   \n",
              "1  [\\n7\\n]             NaN                     NaN               NaN   \n",
              "2      NaN             NaN                     NaN               NaN   \n",
              "\n",
              "  Other Fuel Types Availability Last Timing Belt Service Date Available from  \n",
              "0              NaN          NaN                           NaN            NaN  \n",
              "1              NaN          NaN                           NaN            NaN  \n",
              "2              NaN          NaN                           NaN            NaN  "
            ],
            "text/html": [
              "\n",
              "  <div id=\"df-287f7fc5-71b5-4472-b840-4414bce4c8d9\">\n",
              "    <div class=\"colab-df-container\">\n",
              "      <div>\n",
              "<style scoped>\n",
              "    .dataframe tbody tr th:only-of-type {\n",
              "        vertical-align: middle;\n",
              "    }\n",
              "\n",
              "    .dataframe tbody tr th {\n",
              "        vertical-align: top;\n",
              "    }\n",
              "\n",
              "    .dataframe thead th {\n",
              "        text-align: right;\n",
              "    }\n",
              "</style>\n",
              "<table border=\"1\" class=\"dataframe\">\n",
              "  <thead>\n",
              "    <tr style=\"text-align: right;\">\n",
              "      <th></th>\n",
              "      <th>url</th>\n",
              "      <th>make_model</th>\n",
              "      <th>short_description</th>\n",
              "      <th>body_type</th>\n",
              "      <th>price</th>\n",
              "      <th>vat</th>\n",
              "      <th>km</th>\n",
              "      <th>registration</th>\n",
              "      <th>prev_owner</th>\n",
              "      <th>kW</th>\n",
              "      <th>hp</th>\n",
              "      <th>Type</th>\n",
              "      <th>Previous Owners</th>\n",
              "      <th>Next Inspection</th>\n",
              "      <th>Inspection new</th>\n",
              "      <th>Warranty</th>\n",
              "      <th>Full Service</th>\n",
              "      <th>Non-smoking Vehicle</th>\n",
              "      <th>null</th>\n",
              "      <th>Make</th>\n",
              "      <th>Model</th>\n",
              "      <th>Offer Number</th>\n",
              "      <th>First Registration</th>\n",
              "      <th>Body Color</th>\n",
              "      <th>Paint Type</th>\n",
              "      <th>Body Color Original</th>\n",
              "      <th>Upholstery</th>\n",
              "      <th>Body</th>\n",
              "      <th>Nr. of Doors</th>\n",
              "      <th>Nr. of Seats</th>\n",
              "      <th>Model Code</th>\n",
              "      <th>Gearing Type</th>\n",
              "      <th>Displacement</th>\n",
              "      <th>Cylinders</th>\n",
              "      <th>Weight</th>\n",
              "      <th>Drive chain</th>\n",
              "      <th>Fuel</th>\n",
              "      <th>Consumption</th>\n",
              "      <th>CO2 Emission</th>\n",
              "      <th>Emission Class</th>\n",
              "      <th>Comfort_Convenience</th>\n",
              "      <th>Entertainment_Media</th>\n",
              "      <th>Extras</th>\n",
              "      <th>Safety_Security</th>\n",
              "      <th>description</th>\n",
              "      <th>Emission Label</th>\n",
              "      <th>Gears</th>\n",
              "      <th>Country version</th>\n",
              "      <th>Electricity consumption</th>\n",
              "      <th>Last Service Date</th>\n",
              "      <th>Other Fuel Types</th>\n",
              "      <th>Availability</th>\n",
              "      <th>Last Timing Belt Service Date</th>\n",
              "      <th>Available from</th>\n",
              "    </tr>\n",
              "  </thead>\n",
              "  <tbody>\n",
              "    <tr>\n",
              "      <th>0</th>\n",
              "      <td>https://www.autoscout24.com//offers/audi-a1-sp...</td>\n",
              "      <td>Audi A1</td>\n",
              "      <td>Sportback 1.4 TDI S-tronic Xenon Navi Klima</td>\n",
              "      <td>Sedans</td>\n",
              "      <td>15770</td>\n",
              "      <td>VAT deductible</td>\n",
              "      <td>56,013 km</td>\n",
              "      <td>01/2016</td>\n",
              "      <td>2 previous owners</td>\n",
              "      <td>NaN</td>\n",
              "      <td>66 kW</td>\n",
              "      <td>[, Used, , Diesel (Particulate Filter)]</td>\n",
              "      <td>\\n2\\n</td>\n",
              "      <td>[\\n06/2021\\n, \\n99 g CO2/km (comb)\\n]</td>\n",
              "      <td>[\\nYes\\n, \\nEuro 6\\n]</td>\n",
              "      <td>[\\n, \\n, \\n4 (Green)\\n]</td>\n",
              "      <td>[\\n, \\n]</td>\n",
              "      <td>[\\n, \\n]</td>\n",
              "      <td>[]</td>\n",
              "      <td>\\nAudi\\n</td>\n",
              "      <td>[\\n, A1, \\n]</td>\n",
              "      <td>[\\nLR-062483\\n]</td>\n",
              "      <td>[\\n, 2016, \\n]</td>\n",
              "      <td>[\\n, Black, \\n]</td>\n",
              "      <td>[\\nMetallic\\n]</td>\n",
              "      <td>[\\nMythosschwarz\\n]</td>\n",
              "      <td>[\\nCloth, Black\\n]</td>\n",
              "      <td>[\\n, Sedans, \\n]</td>\n",
              "      <td>[\\n5\\n]</td>\n",
              "      <td>[\\n5\\n]</td>\n",
              "      <td>[\\n0588/BDF\\n]</td>\n",
              "      <td>[\\n, Automatic, \\n]</td>\n",
              "      <td>[\\n1,422 cc\\n]</td>\n",
              "      <td>[\\n3\\n]</td>\n",
              "      <td>[\\n1,220 kg\\n]</td>\n",
              "      <td>[\\nfront\\n]</td>\n",
              "      <td>[\\n, Diesel (Particulate Filter), \\n]</td>\n",
              "      <td>[[3.8 l/100 km (comb)], [4.3 l/100 km (city)],...</td>\n",
              "      <td>[\\n99 g CO2/km (comb)\\n]</td>\n",
              "      <td>[\\nEuro 6\\n]</td>\n",
              "      <td>[Air conditioning, Armrest, Automatic climate ...</td>\n",
              "      <td>[Bluetooth, Hands-free equipment, On-board com...</td>\n",
              "      <td>[Alloy wheels, Catalytic Converter, Voice Cont...</td>\n",
              "      <td>[ABS, Central door lock, Daytime running light...</td>\n",
              "      <td>[\\n, Sicherheit:,  , Deaktivierung für Beifahr...</td>\n",
              "      <td>NaN</td>\n",
              "      <td>NaN</td>\n",
              "      <td>NaN</td>\n",
              "      <td>NaN</td>\n",
              "      <td>NaN</td>\n",
              "      <td>NaN</td>\n",
              "      <td>NaN</td>\n",
              "      <td>NaN</td>\n",
              "      <td>NaN</td>\n",
              "    </tr>\n",
              "    <tr>\n",
              "      <th>1</th>\n",
              "      <td>https://www.autoscout24.com//offers/audi-a1-1-...</td>\n",
              "      <td>Audi A1</td>\n",
              "      <td>1.8 TFSI sport</td>\n",
              "      <td>Sedans</td>\n",
              "      <td>14500</td>\n",
              "      <td>Price negotiable</td>\n",
              "      <td>80,000 km</td>\n",
              "      <td>03/2017</td>\n",
              "      <td>None</td>\n",
              "      <td>NaN</td>\n",
              "      <td>141 kW</td>\n",
              "      <td>[, Used, , Gasoline]</td>\n",
              "      <td>NaN</td>\n",
              "      <td>NaN</td>\n",
              "      <td>NaN</td>\n",
              "      <td>NaN</td>\n",
              "      <td>NaN</td>\n",
              "      <td>NaN</td>\n",
              "      <td>[]</td>\n",
              "      <td>\\nAudi\\n</td>\n",
              "      <td>[\\n, A1, \\n]</td>\n",
              "      <td>NaN</td>\n",
              "      <td>[\\n, 2017, \\n]</td>\n",
              "      <td>[\\n, Red, \\n]</td>\n",
              "      <td>NaN</td>\n",
              "      <td>NaN</td>\n",
              "      <td>[\\nCloth, Grey\\n]</td>\n",
              "      <td>[\\n, Sedans, \\n]</td>\n",
              "      <td>[\\n3\\n]</td>\n",
              "      <td>[\\n4\\n]</td>\n",
              "      <td>[\\n0588/BCY\\n]</td>\n",
              "      <td>[\\n, Automatic, \\n]</td>\n",
              "      <td>[\\n1,798 cc\\n]</td>\n",
              "      <td>[\\n4\\n]</td>\n",
              "      <td>[\\n1,255 kg\\n]</td>\n",
              "      <td>[\\nfront\\n]</td>\n",
              "      <td>[\\n, Gasoline, \\n]</td>\n",
              "      <td>[[5.6 l/100 km (comb)], [7.1 l/100 km (city)],...</td>\n",
              "      <td>[\\n129 g CO2/km (comb)\\n]</td>\n",
              "      <td>[\\nEuro 6\\n]</td>\n",
              "      <td>[Air conditioning, Automatic climate control, ...</td>\n",
              "      <td>[Bluetooth, Hands-free equipment, On-board com...</td>\n",
              "      <td>[Alloy wheels, Sport seats, Sport suspension, ...</td>\n",
              "      <td>[ABS, Central door lock, Central door lock wit...</td>\n",
              "      <td>[\\nLangstreckenfahrzeug daher die hohe Kilomet...</td>\n",
              "      <td>[\\n4 (Green)\\n]</td>\n",
              "      <td>[\\n7\\n]</td>\n",
              "      <td>NaN</td>\n",
              "      <td>NaN</td>\n",
              "      <td>NaN</td>\n",
              "      <td>NaN</td>\n",
              "      <td>NaN</td>\n",
              "      <td>NaN</td>\n",
              "      <td>NaN</td>\n",
              "    </tr>\n",
              "    <tr>\n",
              "      <th>2</th>\n",
              "      <td>https://www.autoscout24.com//offers/audi-a1-sp...</td>\n",
              "      <td>Audi A1</td>\n",
              "      <td>Sportback 1.6 TDI S tronic Einparkhilfe plus+m...</td>\n",
              "      <td>Sedans</td>\n",
              "      <td>14640</td>\n",
              "      <td>VAT deductible</td>\n",
              "      <td>83,450 km</td>\n",
              "      <td>02/2016</td>\n",
              "      <td>1 previous owner</td>\n",
              "      <td>NaN</td>\n",
              "      <td>85 kW</td>\n",
              "      <td>[, Used, , Diesel (Particulate Filter)]</td>\n",
              "      <td>\\n1\\n</td>\n",
              "      <td>NaN</td>\n",
              "      <td>NaN</td>\n",
              "      <td>[\\n, \\n, \\n99 g CO2/km (comb)\\n]</td>\n",
              "      <td>NaN</td>\n",
              "      <td>NaN</td>\n",
              "      <td>[]</td>\n",
              "      <td>\\nAudi\\n</td>\n",
              "      <td>[\\n, A1, \\n]</td>\n",
              "      <td>[\\nAM-95365\\n]</td>\n",
              "      <td>[\\n, 2016, \\n]</td>\n",
              "      <td>[\\n, Black, \\n]</td>\n",
              "      <td>[\\nMetallic\\n]</td>\n",
              "      <td>[\\nmythosschwarz metallic\\n]</td>\n",
              "      <td>[\\nCloth, Black\\n]</td>\n",
              "      <td>[\\n, Sedans, \\n]</td>\n",
              "      <td>[\\n4\\n]</td>\n",
              "      <td>[\\n4\\n]</td>\n",
              "      <td>NaN</td>\n",
              "      <td>[\\n, Automatic, \\n]</td>\n",
              "      <td>[\\n1,598 cc\\n]</td>\n",
              "      <td>NaN</td>\n",
              "      <td>NaN</td>\n",
              "      <td>[\\nfront\\n]</td>\n",
              "      <td>[\\n, Diesel (Particulate Filter), \\n]</td>\n",
              "      <td>[[3.8 l/100 km (comb)], [4.4 l/100 km (city)],...</td>\n",
              "      <td>[\\n99 g CO2/km (comb)\\n]</td>\n",
              "      <td>[\\nEuro 6\\n]</td>\n",
              "      <td>[Air conditioning, Cruise control, Electrical ...</td>\n",
              "      <td>[MP3, On-board computer]</td>\n",
              "      <td>[Alloy wheels, Voice Control]</td>\n",
              "      <td>[ABS, Central door lock, Daytime running light...</td>\n",
              "      <td>[\\n, Fahrzeug-Nummer: AM-95365,  , Ehem. UPE 2...</td>\n",
              "      <td>[\\n4 (Green)\\n]</td>\n",
              "      <td>NaN</td>\n",
              "      <td>NaN</td>\n",
              "      <td>NaN</td>\n",
              "      <td>NaN</td>\n",
              "      <td>NaN</td>\n",
              "      <td>NaN</td>\n",
              "      <td>NaN</td>\n",
              "      <td>NaN</td>\n",
              "    </tr>\n",
              "  </tbody>\n",
              "</table>\n",
              "</div>\n",
              "      <button class=\"colab-df-convert\" onclick=\"convertToInteractive('df-287f7fc5-71b5-4472-b840-4414bce4c8d9')\"\n",
              "              title=\"Convert this dataframe to an interactive table.\"\n",
              "              style=\"display:none;\">\n",
              "        \n",
              "  <svg xmlns=\"http://www.w3.org/2000/svg\" height=\"24px\"viewBox=\"0 0 24 24\"\n",
              "       width=\"24px\">\n",
              "    <path d=\"M0 0h24v24H0V0z\" fill=\"none\"/>\n",
              "    <path d=\"M18.56 5.44l.94 2.06.94-2.06 2.06-.94-2.06-.94-.94-2.06-.94 2.06-2.06.94zm-11 1L8.5 8.5l.94-2.06 2.06-.94-2.06-.94L8.5 2.5l-.94 2.06-2.06.94zm10 10l.94 2.06.94-2.06 2.06-.94-2.06-.94-.94-2.06-.94 2.06-2.06.94z\"/><path d=\"M17.41 7.96l-1.37-1.37c-.4-.4-.92-.59-1.43-.59-.52 0-1.04.2-1.43.59L10.3 9.45l-7.72 7.72c-.78.78-.78 2.05 0 2.83L4 21.41c.39.39.9.59 1.41.59.51 0 1.02-.2 1.41-.59l7.78-7.78 2.81-2.81c.8-.78.8-2.07 0-2.86zM5.41 20L4 18.59l7.72-7.72 1.47 1.35L5.41 20z\"/>\n",
              "  </svg>\n",
              "      </button>\n",
              "      \n",
              "  <style>\n",
              "    .colab-df-container {\n",
              "      display:flex;\n",
              "      flex-wrap:wrap;\n",
              "      gap: 12px;\n",
              "    }\n",
              "\n",
              "    .colab-df-convert {\n",
              "      background-color: #E8F0FE;\n",
              "      border: none;\n",
              "      border-radius: 50%;\n",
              "      cursor: pointer;\n",
              "      display: none;\n",
              "      fill: #1967D2;\n",
              "      height: 32px;\n",
              "      padding: 0 0 0 0;\n",
              "      width: 32px;\n",
              "    }\n",
              "\n",
              "    .colab-df-convert:hover {\n",
              "      background-color: #E2EBFA;\n",
              "      box-shadow: 0px 1px 2px rgba(60, 64, 67, 0.3), 0px 1px 3px 1px rgba(60, 64, 67, 0.15);\n",
              "      fill: #174EA6;\n",
              "    }\n",
              "\n",
              "    [theme=dark] .colab-df-convert {\n",
              "      background-color: #3B4455;\n",
              "      fill: #D2E3FC;\n",
              "    }\n",
              "\n",
              "    [theme=dark] .colab-df-convert:hover {\n",
              "      background-color: #434B5C;\n",
              "      box-shadow: 0px 1px 3px 1px rgba(0, 0, 0, 0.15);\n",
              "      filter: drop-shadow(0px 1px 2px rgba(0, 0, 0, 0.3));\n",
              "      fill: #FFFFFF;\n",
              "    }\n",
              "  </style>\n",
              "\n",
              "      <script>\n",
              "        const buttonEl =\n",
              "          document.querySelector('#df-287f7fc5-71b5-4472-b840-4414bce4c8d9 button.colab-df-convert');\n",
              "        buttonEl.style.display =\n",
              "          google.colab.kernel.accessAllowed ? 'block' : 'none';\n",
              "\n",
              "        async function convertToInteractive(key) {\n",
              "          const element = document.querySelector('#df-287f7fc5-71b5-4472-b840-4414bce4c8d9');\n",
              "          const dataTable =\n",
              "            await google.colab.kernel.invokeFunction('convertToInteractive',\n",
              "                                                     [key], {});\n",
              "          if (!dataTable) return;\n",
              "\n",
              "          const docLinkHtml = 'Like what you see? Visit the ' +\n",
              "            '<a target=\"_blank\" href=https://colab.research.google.com/notebooks/data_table.ipynb>data table notebook</a>'\n",
              "            + ' to learn more about interactive tables.';\n",
              "          element.innerHTML = '';\n",
              "          dataTable['output_type'] = 'display_data';\n",
              "          await google.colab.output.renderOutput(dataTable, element);\n",
              "          const docLink = document.createElement('div');\n",
              "          docLink.innerHTML = docLinkHtml;\n",
              "          element.appendChild(docLink);\n",
              "        }\n",
              "      </script>\n",
              "    </div>\n",
              "  </div>\n",
              "  "
            ]
          },
          "metadata": {},
          "execution_count": 10
        }
      ],
      "source": [
        "#Third Method\n",
        "\n",
        "df.rename(columns={\"\\nComfort & Convenience\\n\": \"Comfort_Convenience\",\n",
        "                   \"\\nEntertainment & Media\\n\":\"Entertainment_Media\",\n",
        "                   \"\\nExtras\\n\":\"Extras\",\n",
        "                   \"\\nSafety & Security\\n\":\"Safety_Security\"}, inplace=True)\n",
        "\n",
        "df.head(3)"
      ]
    },
    {
      "cell_type": "code",
      "execution_count": 11,
      "metadata": {
        "colab": {
          "base_uri": "https://localhost:8080/"
        },
        "id": "E-_iOcQ1I8Xl",
        "outputId": "690d672c-3919-4706-8b59-72a08dbf3447"
      },
      "outputs": [
        {
          "output_type": "stream",
          "name": "stdout",
          "text": [
            "<class 'pandas.core.frame.DataFrame'>\n",
            "RangeIndex: 15919 entries, 0 to 15918\n",
            "Data columns (total 54 columns):\n",
            " #   Column                         Non-Null Count  Dtype  \n",
            "---  ------                         --------------  -----  \n",
            " 0   url                            15919 non-null  object \n",
            " 1   make_model                     15919 non-null  object \n",
            " 2   short_description              15873 non-null  object \n",
            " 3   body_type                      15859 non-null  object \n",
            " 4   price                          15919 non-null  int64  \n",
            " 5   vat                            11406 non-null  object \n",
            " 6   km                             15919 non-null  object \n",
            " 7   registration                   15919 non-null  object \n",
            " 8   prev_owner                     9091 non-null   object \n",
            " 9   kW                             0 non-null      float64\n",
            " 10  hp                             15919 non-null  object \n",
            " 11  Type                           15917 non-null  object \n",
            " 12  Previous Owners                9279 non-null   object \n",
            " 13  Next Inspection                3535 non-null   object \n",
            " 14  Inspection new                 3932 non-null   object \n",
            " 15  Warranty                       10499 non-null  object \n",
            " 16  Full Service                   8215 non-null   object \n",
            " 17  Non-smoking Vehicle            7177 non-null   object \n",
            " 18  null                           15919 non-null  object \n",
            " 19  Make                           15919 non-null  object \n",
            " 20  Model                          15919 non-null  object \n",
            " 21  Offer Number                   12744 non-null  object \n",
            " 22  First Registration             14322 non-null  object \n",
            " 23  Body Color                     15322 non-null  object \n",
            " 24  Paint Type                     10147 non-null  object \n",
            " 25  Body Color Original            12160 non-null  object \n",
            " 26  Upholstery                     12199 non-null  object \n",
            " 27  Body                           15859 non-null  object \n",
            " 28  Nr. of Doors                   15707 non-null  object \n",
            " 29  Nr. of Seats                   14942 non-null  object \n",
            " 30  Model Code                     4978 non-null   object \n",
            " 31  Gearing Type                   15919 non-null  object \n",
            " 32  Displacement                   15423 non-null  object \n",
            " 33  Cylinders                      10239 non-null  object \n",
            " 34  Weight                         8945 non-null   object \n",
            " 35  Drive chain                    9061 non-null   object \n",
            " 36  Fuel                           15919 non-null  object \n",
            " 37  Consumption                    14013 non-null  object \n",
            " 38  CO2 Emission                   14111 non-null  object \n",
            " 39  Emission Class                 12898 non-null  object \n",
            " 40  Comfort_Convenience            14999 non-null  object \n",
            " 41  Entertainment_Media            14545 non-null  object \n",
            " 42  Extras                         12957 non-null  object \n",
            " 43  Safety_Security                14937 non-null  object \n",
            " 44  description                    15919 non-null  object \n",
            " 45  Emission Label                 3985 non-null   object \n",
            " 46  Gears                          11207 non-null  object \n",
            " 47  Country version                7586 non-null   object \n",
            " 48  Electricity consumption        137 non-null    object \n",
            " 49  Last Service Date              566 non-null    object \n",
            " 50  Other Fuel Types               880 non-null    object \n",
            " 51  Availability                   635 non-null    object \n",
            " 52  Last Timing Belt Service Date  16 non-null     object \n",
            " 53  Available from                 272 non-null    object \n",
            "dtypes: float64(1), int64(1), object(52)\n",
            "memory usage: 6.6+ MB\n"
          ]
        }
      ],
      "source": [
        "df.info()"
      ]
    },
    {
      "cell_type": "code",
      "execution_count": 12,
      "metadata": {
        "colab": {
          "base_uri": "https://localhost:8080/"
        },
        "id": "_Nz1jUReI8Xl",
        "outputId": "a15a2d10-e03b-4786-9bd1-377279c1dc85"
      },
      "outputs": [
        {
          "output_type": "execute_result",
          "data": {
            "text/plain": [
              "(15919, 54)"
            ]
          },
          "metadata": {},
          "execution_count": 12
        }
      ],
      "source": [
        "df.shape"
      ]
    },
    {
      "cell_type": "code",
      "execution_count": 13,
      "metadata": {
        "colab": {
          "base_uri": "https://localhost:8080/"
        },
        "id": "TSoXdln-I8Xm",
        "outputId": "3903dd9b-24d7-41c0-dc81-48d8f4b807f8"
      },
      "outputs": [
        {
          "output_type": "execute_result",
          "data": {
            "text/plain": [
              "url                                  0\n",
              "make_model                           0\n",
              "short_description                   46\n",
              "body_type                           60\n",
              "price                                0\n",
              "vat                               4513\n",
              "km                                   0\n",
              "registration                         0\n",
              "prev_owner                        6828\n",
              "kW                               15919\n",
              "hp                                   0\n",
              "Type                                 2\n",
              "Previous Owners                   6640\n",
              "Next Inspection                  12384\n",
              "Inspection new                   11987\n",
              "Warranty                          5420\n",
              "Full Service                      7704\n",
              "Non-smoking Vehicle               8742\n",
              "null                                 0\n",
              "Make                                 0\n",
              "Model                                0\n",
              "Offer Number                      3175\n",
              "First Registration                1597\n",
              "Body Color                         597\n",
              "Paint Type                        5772\n",
              "Body Color Original               3759\n",
              "Upholstery                        3720\n",
              "Body                                60\n",
              "Nr. of Doors                       212\n",
              "Nr. of Seats                       977\n",
              "Model Code                       10941\n",
              "Gearing Type                         0\n",
              "Displacement                       496\n",
              "Cylinders                         5680\n",
              "Weight                            6974\n",
              "Drive chain                       6858\n",
              "Fuel                                 0\n",
              "Consumption                       1906\n",
              "CO2 Emission                      1808\n",
              "Emission Class                    3021\n",
              "Comfort_Convenience                920\n",
              "Entertainment_Media               1374\n",
              "Extras                            2962\n",
              "Safety_Security                    982\n",
              "description                          0\n",
              "Emission Label                   11934\n",
              "Gears                             4712\n",
              "Country version                   8333\n",
              "Electricity consumption          15782\n",
              "Last Service Date                15353\n",
              "Other Fuel Types                 15039\n",
              "Availability                     15284\n",
              "Last Timing Belt Service Date    15903\n",
              "Available from                   15647\n",
              "dtype: int64"
            ]
          },
          "metadata": {},
          "execution_count": 13
        }
      ],
      "source": [
        "df.isnull().sum()"
      ]
    },
    {
      "cell_type": "code",
      "execution_count": 14,
      "metadata": {
        "colab": {
          "base_uri": "https://localhost:8080/"
        },
        "id": "zsdassG2I8Xm",
        "outputId": "13e99bd0-0816-476c-b9d2-6aeb3df47872"
      },
      "outputs": [
        {
          "output_type": "execute_result",
          "data": {
            "text/plain": [
              "url                               0.00\n",
              "make_model                        0.00\n",
              "short_description                 0.29\n",
              "body_type                         0.38\n",
              "price                             0.00\n",
              "vat                              28.35\n",
              "km                                0.00\n",
              "registration                      0.00\n",
              "prev_owner                       42.89\n",
              "kW                              100.00\n",
              "hp                                0.00\n",
              "Type                              0.01\n",
              "Previous Owners                  41.71\n",
              "Next Inspection                  77.79\n",
              "Inspection new                   75.30\n",
              "Warranty                         34.05\n",
              "Full Service                     48.39\n",
              "Non-smoking Vehicle              54.92\n",
              "null                              0.00\n",
              "Make                              0.00\n",
              "Model                             0.00\n",
              "Offer Number                     19.94\n",
              "First Registration               10.03\n",
              "Body Color                        3.75\n",
              "Paint Type                       36.26\n",
              "Body Color Original              23.61\n",
              "Upholstery                       23.37\n",
              "Body                              0.38\n",
              "Nr. of Doors                      1.33\n",
              "Nr. of Seats                      6.14\n",
              "Model Code                       68.73\n",
              "Gearing Type                      0.00\n",
              "Displacement                      3.12\n",
              "Cylinders                        35.68\n",
              "Weight                           43.81\n",
              "Drive chain                      43.08\n",
              "Fuel                              0.00\n",
              "Consumption                      11.97\n",
              "CO2 Emission                     11.36\n",
              "Emission Class                   18.98\n",
              "Comfort_Convenience               5.78\n",
              "Entertainment_Media               8.63\n",
              "Extras                           18.61\n",
              "Safety_Security                   6.17\n",
              "description                       0.00\n",
              "Emission Label                   74.97\n",
              "Gears                            29.60\n",
              "Country version                  52.35\n",
              "Electricity consumption          99.14\n",
              "Last Service Date                96.44\n",
              "Other Fuel Types                 94.47\n",
              "Availability                     96.01\n",
              "Last Timing Belt Service Date    99.90\n",
              "Available from                   98.29\n",
              "dtype: float64"
            ]
          },
          "metadata": {},
          "execution_count": 14
        }
      ],
      "source": [
        "df.isnull().sum()*100 / df.shape[0]"
      ]
    },
    {
      "cell_type": "markdown",
      "metadata": {
        "id": "yu-8_jYUI8Xm"
      },
      "source": [
        "**Droping columns that have missing values more than %90.**"
      ]
    },
    {
      "cell_type": "code",
      "execution_count": 15,
      "metadata": {
        "id": "6ziF3hNqI8Xn"
      },
      "outputs": [],
      "source": [
        "def df_nans(df, limit):\n",
        "    missing = df.isnull().sum()*100 / df.shape[0]\n",
        "    return missing.loc[lambda x : x >= limit]\n",
        "\n",
        "def column_nans(serial):\n",
        "    # display percentage of nans in a Series\n",
        "    return serial.isnull().sum()*100 / serial.shape[0]"
      ]
    },
    {
      "cell_type": "code",
      "execution_count": 16,
      "metadata": {
        "colab": {
          "base_uri": "https://localhost:8080/"
        },
        "id": "NMSqpRuMI8Xn",
        "outputId": "ed86c65e-949a-4b3e-8075-7d96a082a2da"
      },
      "outputs": [
        {
          "output_type": "execute_result",
          "data": {
            "text/plain": [
              "kW                              100.00\n",
              "Electricity consumption          99.14\n",
              "Last Service Date                96.44\n",
              "Other Fuel Types                 94.47\n",
              "Availability                     96.01\n",
              "Last Timing Belt Service Date    99.90\n",
              "Available from                   98.29\n",
              "dtype: float64"
            ]
          },
          "metadata": {},
          "execution_count": 16
        }
      ],
      "source": [
        "df_nans(df, 90)"
      ]
    },
    {
      "cell_type": "code",
      "execution_count": 17,
      "metadata": {
        "colab": {
          "base_uri": "https://localhost:8080/"
        },
        "id": "0RYrOBqXI8Xo",
        "outputId": "bd4f13c8-9fdc-4267-f0ac-7b7e36182850"
      },
      "outputs": [
        {
          "output_type": "execute_result",
          "data": {
            "text/plain": [
              "99.13939317796344"
            ]
          },
          "metadata": {},
          "execution_count": 17
        }
      ],
      "source": [
        "column_nans(df[\"Electricity consumption\"])"
      ]
    },
    {
      "cell_type": "code",
      "execution_count": 18,
      "metadata": {
        "colab": {
          "base_uri": "https://localhost:8080/"
        },
        "id": "apkWHL-fI8Xp",
        "outputId": "94f76f12-e077-4ef6-ca41-c7a3ff3a6889"
      },
      "outputs": [
        {
          "output_type": "execute_result",
          "data": {
            "text/plain": [
              "Index(['kW', 'Electricity consumption', 'Last Service Date',\n",
              "       'Other Fuel Types', 'Availability', 'Last Timing Belt Service Date',\n",
              "       'Available from'],\n",
              "      dtype='object')"
            ]
          },
          "metadata": {},
          "execution_count": 18
        }
      ],
      "source": [
        "drop_columns = df_nans(df, 90).index\n",
        "drop_columns"
      ]
    },
    {
      "cell_type": "code",
      "execution_count": 19,
      "metadata": {
        "id": "iTepcMY4I8Xq"
      },
      "outputs": [],
      "source": [
        "df.drop(drop_columns, axis=1, inplace=True)"
      ]
    },
    {
      "cell_type": "code",
      "execution_count": 20,
      "metadata": {
        "id": "LbKayvn2I8Xq"
      },
      "outputs": [],
      "source": [
        "df.drop(\"null\", axis=1, inplace=True)"
      ]
    },
    {
      "cell_type": "code",
      "execution_count": 21,
      "metadata": {
        "colab": {
          "base_uri": "https://localhost:8080/"
        },
        "id": "oByTtYZmI8Xq",
        "outputId": "0f95b9c3-b2d1-4895-d473-7367a6e915ae"
      },
      "outputs": [
        {
          "output_type": "stream",
          "name": "stdout",
          "text": [
            "<class 'pandas.core.frame.DataFrame'>\n",
            "RangeIndex: 15919 entries, 0 to 15918\n",
            "Data columns (total 46 columns):\n",
            " #   Column               Non-Null Count  Dtype \n",
            "---  ------               --------------  ----- \n",
            " 0   url                  15919 non-null  object\n",
            " 1   make_model           15919 non-null  object\n",
            " 2   short_description    15873 non-null  object\n",
            " 3   body_type            15859 non-null  object\n",
            " 4   price                15919 non-null  int64 \n",
            " 5   vat                  11406 non-null  object\n",
            " 6   km                   15919 non-null  object\n",
            " 7   registration         15919 non-null  object\n",
            " 8   prev_owner           9091 non-null   object\n",
            " 9   hp                   15919 non-null  object\n",
            " 10  Type                 15917 non-null  object\n",
            " 11  Previous Owners      9279 non-null   object\n",
            " 12  Next Inspection      3535 non-null   object\n",
            " 13  Inspection new       3932 non-null   object\n",
            " 14  Warranty             10499 non-null  object\n",
            " 15  Full Service         8215 non-null   object\n",
            " 16  Non-smoking Vehicle  7177 non-null   object\n",
            " 17  Make                 15919 non-null  object\n",
            " 18  Model                15919 non-null  object\n",
            " 19  Offer Number         12744 non-null  object\n",
            " 20  First Registration   14322 non-null  object\n",
            " 21  Body Color           15322 non-null  object\n",
            " 22  Paint Type           10147 non-null  object\n",
            " 23  Body Color Original  12160 non-null  object\n",
            " 24  Upholstery           12199 non-null  object\n",
            " 25  Body                 15859 non-null  object\n",
            " 26  Nr. of Doors         15707 non-null  object\n",
            " 27  Nr. of Seats         14942 non-null  object\n",
            " 28  Model Code           4978 non-null   object\n",
            " 29  Gearing Type         15919 non-null  object\n",
            " 30  Displacement         15423 non-null  object\n",
            " 31  Cylinders            10239 non-null  object\n",
            " 32  Weight               8945 non-null   object\n",
            " 33  Drive chain          9061 non-null   object\n",
            " 34  Fuel                 15919 non-null  object\n",
            " 35  Consumption          14013 non-null  object\n",
            " 36  CO2 Emission         14111 non-null  object\n",
            " 37  Emission Class       12898 non-null  object\n",
            " 38  Comfort_Convenience  14999 non-null  object\n",
            " 39  Entertainment_Media  14545 non-null  object\n",
            " 40  Extras               12957 non-null  object\n",
            " 41  Safety_Security      14937 non-null  object\n",
            " 42  description          15919 non-null  object\n",
            " 43  Emission Label       3985 non-null   object\n",
            " 44  Gears                11207 non-null  object\n",
            " 45  Country version      7586 non-null   object\n",
            "dtypes: int64(1), object(45)\n",
            "memory usage: 5.6+ MB\n"
          ]
        }
      ],
      "source": [
        "df.info()"
      ]
    },
    {
      "cell_type": "markdown",
      "metadata": {
        "id": "rxZsNzvOI8Xr"
      },
      "source": [
        "## <p style=\"background-color:#9d4f8c; font-family:newtimeroman; color:#FFF9ED; font-size:175%; text-align:center; border-radius:10px 10px;\">The Examination of Columns</p>\n",
        "\n",
        "<a id=\"3\"></a>\n",
        "<a href=\"#toc\" class=\"btn btn-primary btn-sm\" role=\"button\" aria-pressed=\"true\" \n",
        "style=\"color:blue; background-color:#dfa8e4\" data-toggle=\"popover\">Content</a>\n",
        "\n",
        "## Examining and cleaning all the columns/features one by one"
      ]
    },
    {
      "cell_type": "markdown",
      "metadata": {
        "id": "nkZMCFxxI8Xr"
      },
      "source": [
        "## url"
      ]
    },
    {
      "cell_type": "code",
      "execution_count": 22,
      "metadata": {
        "colab": {
          "base_uri": "https://localhost:8080/"
        },
        "id": "Fdm55bYYI8Xr",
        "outputId": "68a10469-e739-4572-e3e5-120283b7801a"
      },
      "outputs": [
        {
          "output_type": "execute_result",
          "data": {
            "text/plain": [
              "https://www.autoscout24.com//offers/audi-a1-sportback-1-4-tdi-s-tronic-xenon-navi-klima-diesel-black-bdab349a-caa5-41b0-98eb-c1345b84445e                  1\n",
              "https://www.autoscout24.com//offers/opel-insignia-bus-inno-2-0-cdti-aut-navi-bi-xe-led-e6-diesel-black-8710b253-dd98-4ed0-9d46-cbad2d79532b                1\n",
              "https://www.autoscout24.com//offers/opel-insignia-sport-tourer-opel-sport-tourer-1-6-cdti-136-ch-a-c-diesel-silver-10b7463b-9f56-4348-af35-df3432b2b585    1\n",
              "https://www.autoscout24.com//offers/opel-insignia-2-0cdti-st-business-innovation-navi-bt-diesel-black-ba5a3368-dedc-4e51-9127-3976b26e93c2                 1\n",
              "https://www.autoscout24.com//offers/opel-insignia-sport-tourer-opel-sport-tourer-1-6-cdti-136-ch-a-c-diesel-silver-7b52f054-78d3-4d5e-9370-8a7d081d7edd    1\n",
              "                                                                                                                                                          ..\n",
              "https://www.autoscout24.com//offers/audi-a3-sb-30-1-6-tdi-business-116cv-s-tronic-diesel-black-cf50f7b1-4d7b-466f-93a2-4e11ec0b4107                        1\n",
              "https://www.autoscout24.com//offers/audi-a3-sb-30-1-6-tdi-business-116cv-s-tronic-diesel-grey-3f47eb34-15c4-4763-860d-78fcbbd2c9ff                         1\n",
              "https://www.autoscout24.com//offers/audi-a3-sb-30-1-6-tdi-business-116cv-s-tronic-diesel-silver-f7a4bc95-b2ef-4bac-9497-6bcbcd05db0b                       1\n",
              "https://www.autoscout24.com//offers/audi-a3-sb-30-1-6-tdi-business-116cv-s-tronic-diesel-silver-1c94c7a2-67b5-49ca-ae42-42a6800fb3f5                       1\n",
              "https://www.autoscout24.com//offers/renault-espace-initiale-paris-tce-225-edc-gpf-navi-shz-aux-gasoline-grey-0bd690d9-7e93-4cab-bc5a-9d5b63402481          1\n",
              "Name: url, Length: 15919, dtype: int64"
            ]
          },
          "metadata": {},
          "execution_count": 22
        }
      ],
      "source": [
        "df.url.value_counts(dropna=False)"
      ]
    },
    {
      "cell_type": "code",
      "execution_count": 23,
      "metadata": {
        "id": "w_2sgo0gI8Xr"
      },
      "outputs": [],
      "source": [
        "# no need since this information, it can be obtained from other features.\n",
        "\n",
        "df.drop(\"url\", axis=1, inplace=True)"
      ]
    },
    {
      "cell_type": "markdown",
      "metadata": {
        "id": "pSY1YNP4I8Xs"
      },
      "source": [
        "## make_model"
      ]
    },
    {
      "cell_type": "code",
      "execution_count": 24,
      "metadata": {
        "colab": {
          "base_uri": "https://localhost:8080/"
        },
        "id": "-0BD2i9OI8Xs",
        "outputId": "db846e2a-f466-4a4d-afba-f0d7c7b898fc"
      },
      "outputs": [
        {
          "output_type": "execute_result",
          "data": {
            "text/plain": [
              "Audi A3           3097\n",
              "Audi A1           2614\n",
              "Opel Insignia     2598\n",
              "Opel Astra        2526\n",
              "Opel Corsa        2219\n",
              "Renault Clio      1839\n",
              "Renault Espace     991\n",
              "Renault Duster      34\n",
              "Audi A2              1\n",
              "Name: make_model, dtype: int64"
            ]
          },
          "metadata": {},
          "execution_count": 24
        }
      ],
      "source": [
        "df.make_model.value_counts(dropna=False)"
      ]
    },
    {
      "cell_type": "markdown",
      "metadata": {
        "id": "nRlvySEmI8Xs"
      },
      "source": [
        "**As seen, the \"make_model\" column gives more detailed information for the analysis so after the examination of the following columns, \"Make\" & \"Model\", it will be decided which one/s will be chosen.**"
      ]
    },
    {
      "cell_type": "markdown",
      "metadata": {
        "id": "bzyrzDZjI8Xt"
      },
      "source": [
        "## Make"
      ]
    },
    {
      "cell_type": "code",
      "execution_count": 25,
      "metadata": {
        "colab": {
          "base_uri": "https://localhost:8080/"
        },
        "id": "Nz9e5CxJI8Xt",
        "outputId": "91312e11-66db-4bf6-9b35-12df0d98682c"
      },
      "outputs": [
        {
          "output_type": "execute_result",
          "data": {
            "text/plain": [
              "\\nOpel\\n       7343\n",
              "\\nAudi\\n       5712\n",
              "\\nRenault\\n    2864\n",
              "Name: Make, dtype: int64"
            ]
          },
          "metadata": {},
          "execution_count": 25
        }
      ],
      "source": [
        "df.Make.value_counts(dropna=False)"
      ]
    },
    {
      "cell_type": "code",
      "execution_count": 26,
      "metadata": {
        "id": "eUOCp7c4I8Xt"
      },
      "outputs": [],
      "source": [
        "df[\"Make\"] = df.Make.str.strip('\\n')"
      ]
    },
    {
      "cell_type": "code",
      "execution_count": 27,
      "metadata": {
        "colab": {
          "base_uri": "https://localhost:8080/"
        },
        "id": "NkAAxdA4I8Xu",
        "outputId": "0f296dca-3a4c-4976-a3e6-49ef4c168863"
      },
      "outputs": [
        {
          "output_type": "execute_result",
          "data": {
            "text/plain": [
              "Opel       7343\n",
              "Audi       5712\n",
              "Renault    2864\n",
              "Name: Make, dtype: int64"
            ]
          },
          "metadata": {},
          "execution_count": 27
        }
      ],
      "source": [
        "df.Make.value_counts(dropna=False)"
      ]
    },
    {
      "cell_type": "markdown",
      "metadata": {
        "id": "yFUwVJX1I8Xu"
      },
      "source": [
        "## Model"
      ]
    },
    {
      "cell_type": "code",
      "execution_count": 28,
      "metadata": {
        "colab": {
          "base_uri": "https://localhost:8080/",
          "height": 412
        },
        "id": "_Y5bzF57I8Xu",
        "outputId": "992cdccb-dc45-4b7f-bb01-899671fae491"
      },
      "outputs": [
        {
          "output_type": "error",
          "ename": "TypeError",
          "evalue": "ignored",
          "traceback": [
            "\u001b[0;31m---------------------------------------------------------------------------\u001b[0m",
            "\u001b[0;31mTypeError\u001b[0m                                 Traceback (most recent call last)",
            "\u001b[0;32mpandas/_libs/hashtable_class_helper.pxi\u001b[0m in \u001b[0;36mpandas._libs.hashtable.PyObjectHashTable.map_locations\u001b[0;34m()\u001b[0m\n",
            "\u001b[0;31mTypeError\u001b[0m: unhashable type: 'list'"
          ]
        },
        {
          "output_type": "stream",
          "name": "stderr",
          "text": [
            "Exception ignored in: 'pandas._libs.index.IndexEngine._call_map_locations'\n",
            "Traceback (most recent call last):\n",
            "  File \"pandas/_libs/hashtable_class_helper.pxi\", line 5231, in pandas._libs.hashtable.PyObjectHashTable.map_locations\n",
            "TypeError: unhashable type: 'list'\n"
          ]
        },
        {
          "output_type": "execute_result",
          "data": {
            "text/plain": [
              "[\\n, A3, \\n]          3097\n",
              "[\\n, A1, \\n]          2614\n",
              "[\\n, Insignia, \\n]    2598\n",
              "[\\n, Astra, \\n]       2526\n",
              "[\\n, Corsa, \\n]       2219\n",
              "[\\n, Clio, \\n]        1839\n",
              "[\\n, Espace, \\n]       991\n",
              "[\\n, Duster, \\n]        34\n",
              "[\\n, A2, \\n]             1\n",
              "Name: Model, dtype: int64"
            ]
          },
          "metadata": {},
          "execution_count": 28
        }
      ],
      "source": [
        "df.Model.value_counts(dropna=False)"
      ]
    },
    {
      "cell_type": "code",
      "execution_count": 29,
      "metadata": {
        "colab": {
          "base_uri": "https://localhost:8080/"
        },
        "id": "5_GY89HQI8Xu",
        "outputId": "2775cc3e-35a1-49fe-cb26-9f5227c72831"
      },
      "outputs": [
        {
          "output_type": "execute_result",
          "data": {
            "text/plain": [
              "['\\n', 'A1', '\\n']"
            ]
          },
          "metadata": {},
          "execution_count": 29
        }
      ],
      "source": [
        "df[\"Model\"][0]"
      ]
    },
    {
      "cell_type": "code",
      "execution_count": 30,
      "metadata": {
        "colab": {
          "base_uri": "https://localhost:8080/",
          "height": 36
        },
        "id": "5m5xP2EQI8Xv",
        "outputId": "90fc7707-d64d-4694-e619-3a436fbcc52d"
      },
      "outputs": [
        {
          "output_type": "execute_result",
          "data": {
            "text/plain": [
              "'A1'"
            ],
            "application/vnd.google.colaboratory.intrinsic+json": {
              "type": "string"
            }
          },
          "metadata": {},
          "execution_count": 30
        }
      ],
      "source": [
        "df[\"Model\"][0][1]"
      ]
    },
    {
      "cell_type": "code",
      "execution_count": 31,
      "metadata": {
        "colab": {
          "base_uri": "https://localhost:8080/"
        },
        "id": "mTm0TN9WI8Xv",
        "outputId": "c9d29e58-aaab-42ce-ec43-268fea8a17cf"
      },
      "outputs": [
        {
          "output_type": "execute_result",
          "data": {
            "text/plain": [
              "0            A1\n",
              "1            A1\n",
              "2            A1\n",
              "3            A1\n",
              "4            A1\n",
              "          ...  \n",
              "15914    Espace\n",
              "15915    Espace\n",
              "15916    Espace\n",
              "15917    Espace\n",
              "15918    Espace\n",
              "Name: Model, Length: 15919, dtype: object"
            ]
          },
          "metadata": {},
          "execution_count": 31
        }
      ],
      "source": [
        "df[\"Model\"].apply(lambda x: x[1])"
      ]
    },
    {
      "cell_type": "code",
      "execution_count": 32,
      "metadata": {
        "colab": {
          "base_uri": "https://localhost:8080/"
        },
        "id": "enUBwDQwI8Xv",
        "outputId": "8548075a-a974-486d-a3e8-ea92cea063f9"
      },
      "outputs": [
        {
          "output_type": "execute_result",
          "data": {
            "text/plain": [
              "0            A1\n",
              "1            A1\n",
              "2            A1\n",
              "3            A1\n",
              "4            A1\n",
              "          ...  \n",
              "15914    Espace\n",
              "15915    Espace\n",
              "15916    Espace\n",
              "15917    Espace\n",
              "15918    Espace\n",
              "Name: Model, Length: 15919, dtype: object"
            ]
          },
          "metadata": {},
          "execution_count": 32
        }
      ],
      "source": [
        "df.Model.str[1]"
      ]
    },
    {
      "cell_type": "code",
      "execution_count": 33,
      "metadata": {
        "id": "5p8NrgtFI8Xv"
      },
      "outputs": [],
      "source": [
        "df[\"Model\"] = df.Model.str[1]"
      ]
    },
    {
      "cell_type": "code",
      "execution_count": 34,
      "metadata": {
        "colab": {
          "base_uri": "https://localhost:8080/"
        },
        "id": "Cl6qyaaiI8Xw",
        "outputId": "8661f34f-0187-495b-88b5-8bd1e3b66dcf"
      },
      "outputs": [
        {
          "output_type": "execute_result",
          "data": {
            "text/plain": [
              "A3          3097\n",
              "A1          2614\n",
              "Insignia    2598\n",
              "Astra       2526\n",
              "Corsa       2219\n",
              "Clio        1839\n",
              "Espace       991\n",
              "Duster        34\n",
              "A2             1\n",
              "Name: Model, dtype: int64"
            ]
          },
          "metadata": {},
          "execution_count": 34
        }
      ],
      "source": [
        "df.Model.value_counts(dropna=False)"
      ]
    },
    {
      "cell_type": "code",
      "execution_count": 35,
      "metadata": {
        "id": "OjAiy3fOI8Xw"
      },
      "outputs": [],
      "source": [
        "df.drop([\"Make\", \"Model\"], axis=1, inplace=True)"
      ]
    },
    {
      "cell_type": "markdown",
      "metadata": {
        "id": "eeOCQBZEI8Xw"
      },
      "source": [
        "** drop the columns, \"Make\" & \"Model\" and kept the column of \"make_model.**"
      ]
    },
    {
      "cell_type": "markdown",
      "metadata": {
        "id": "kc0uywk3I8Xw"
      },
      "source": [
        "## short_description"
      ]
    },
    {
      "cell_type": "code",
      "execution_count": 36,
      "metadata": {
        "colab": {
          "base_uri": "https://localhost:8080/"
        },
        "id": "6SVnVuC1I8Xw",
        "outputId": "90a4aa9d-c69d-4255-c2ee-bcdbcf99111f"
      },
      "outputs": [
        {
          "output_type": "execute_result",
          "data": {
            "text/plain": [
              "SPB 1.6 TDI 116 CV S tronic Sport                 64\n",
              "NaN                                               46\n",
              "1.4 66kW (90CV) Selective                         40\n",
              "MOVE KLIMA CD USB ALLWETTER BLUETOOTH             38\n",
              "SPB 30 TDI S tronic Business                      35\n",
              "                                                  ..\n",
              "K Sports Tourer Business **Navi*Voll**             1\n",
              "1.0 Turbo ecoFLEX Automatic Elective Park Navi     1\n",
              "1.6 CDTI Business *Navi*Automatik*Spurh.*          1\n",
              "1.6 136 CV Automatica Navi E 6 Garanzia Full       1\n",
              "TCe 225 EDC GPF LIM Deluxe Pano,RFK                1\n",
              "Name: short_description, Length: 10002, dtype: int64"
            ]
          },
          "metadata": {},
          "execution_count": 36
        }
      ],
      "source": [
        "df.short_description.value_counts(dropna=False)"
      ]
    },
    {
      "cell_type": "code",
      "execution_count": 37,
      "metadata": {
        "id": "y_6OO5QoI8Xx"
      },
      "outputs": [],
      "source": [
        "df.drop(\"short_description\", axis=1, inplace=True)"
      ]
    },
    {
      "cell_type": "markdown",
      "metadata": {
        "id": "CwqOt-P_I8Xx"
      },
      "source": [
        "## description"
      ]
    },
    {
      "cell_type": "code",
      "execution_count": 38,
      "metadata": {
        "colab": {
          "base_uri": "https://localhost:8080/"
        },
        "id": "i9VaXBccI8Xx",
        "outputId": "dbd1391e-a4f8-492f-ce19-f8788ed20ce9"
      },
      "outputs": [
        {
          "output_type": "execute_result",
          "data": {
            "text/plain": [
              "[]                                                                                                                                                                                                                                                                                                                                                                                                                                                                                                                                                                                                                                                                                                                                                                                                                                                                                                                                                                                                                                                                                                                                                                                                                                                                                                                                                                                                                                                                                                                                                                                                                                                                                                                                                                                                                                                                                                                                                                                                                                                                                                                                                                                                                                                                                                                                                                                                                                                                                                                                                                                                                                                                                                                                                                                                                                                                                               636\n",
              "['\\n', '\\n']                                                                                                                                                                                                                                                                                                                                                                                                                                                                                                                                                                                                                                                                                                                                                                                                                                                                                                                                                                                                                                                                                                                                                                                                                                                                                                                                                                                                                                                                                                                                                                                                                                                                                                                                                                                                                                                                                                                                                                                                                                                                                                                                                                                                                                                                                                                                                                                                                                                                                                                                                                                                                                                                                                                                                                                                                                                                                      30\n",
              "['\\n', 'Fahrzeugbeschreibung', ' Sichern Sie sich diesen Renault Clio 1.6 TCE Energy Sport Trophy zum Top-Preis inklusive dem ', 'AUTOHERO-RUNDUM-SORGLOS-PAKET', ' ', 'Infos:', ' 1.Hand, deutsche Auslieferung, Unfallfrei, scheckheftgepflegt', ' ', 'Highlights', ' ', 'Audio-Navigationssystem R-Link Evolution mit Touchscreen und Carminat TomTom', ' ', 'Sportsitze ', ' ', 'Sportfahrwerk', ' ', 'Scheinwerfer Full-LED ', 'Komfort', ' ', 'Geschwindigkeits-Regelanlage (Tempomat) ', ' ', 'Klimaanlage', ' ', 'Einparkhilfe hinten', ' ', 'Multifunktionslenkrad (Sport/Leder) mit Schaltwippen/-tasten ', ' ', 'Fensterheber elektr. mit Impulsgeber links/rechts vorn', ' ', 'Zentralverriegelung / Startanlage Handsfree Entry & Drive ', ' ', 'Berganfahr-Assistent (HSA) ', 'Multimedia', ' ', 'Audiosystem: Radio R & GO (Bluetooth, DAB-Tuner)', ' ', 'Bordcomputer', ' ', 'Freisprecheinrichtung Bluetooth ', ' ', 'USB-Anschluss inkl. AUX-IN-Anschluss (Plug & Music) ', 'Licht und Sicht', ' ', 'Außenspiegel elektr. verstell- und heizbar ', ' ', 'Licht- und Regensensor ', ' ', 'Tagfahrlicht LED ', ' ', 'Nebelscheinwerfer LED ', ' ', 'Coming-Home-Lichtfunktion ', ' ', 'Heckleuchten LED ', 'Sicherheit', ' ', 'Isofix-Aufnahmen für Kindersitz ', ' ', 'Seitenairbag vorn', ' ', 'Wegfahrsperre', ' ', 'Differentialsperre', ' ', 'Bremsassistent ', ' ', 'Elektron. Stabilitäts-Programm (ESP)', ' ', 'Anti-Blockier-System (ABS)', ' ', 'Anti-Submarining-Airbag im Fond', ' ', 'Airbag Fahrer-/Beifahrerseite ', ' ', 'Differentialsperre ', ' ', 'Reifendruck-Kontrollsystem ', ' ', 'Untersteuerungskontrolle (USC) ', ' ', 'Antischlupfregelung (ASR) ', 'Weiteres', ' ', 'Start/Stop-Anlage ', ' ', 'Servolenkung geschwindigkeitsabhängig', ' ', 'R.S. Drive (Fahrmodusschalter) ', ' ', 'Gepäckraumabdeckung / Rollo ', ' ', 'Heckdiffusor ', ' ', 'LM-Felgen ', ' ', 'Heckspoiler (Renault Sport) ', ' ', 'Pedale Aluminium ', ' ', 'Energierückgewinnung (Energy Smart Management) ', ' ', 'Elektr. Bremskraftverteilung ', ' ', 'Reifen-Reparaturkit ', ' ', 'Sitzbezug / Polsterung: Stoff ', ' Ihr ', 'AUTOHERO-RUNDUM-SORGLOS-PAKET', ' beinhaltet:', 'Kostenlose Lieferung in Ihre Nähe', 'Optische & technische Aufbereitung', 'Mindestens 12 Monate gültige HU und AU', '1-Jahr-Premium-Garantie', 'Zulassung inklusive ', '14-Tage-Rückgaberecht', 'Markenunabhängige Inzahlungnahme ', 'Individuelle Finanzierungen zu fairen Konditionen', ' ', 'HIER GEHT ES ZUR 360° - ANSICHT DES FAHRZEUGES:', ':', 'https://www.autohero.com/de/renault-clio-1-6-tce-energy-renault-sport-trophy/id/f7ca29bf-e005-453f-bbc9-8c6fe892dec6/', ' ', 'Haftungsausschluss', ':', 'Für Angaben vom Verkäufer, des Herstellers oder von Datenbankabfragen übernimmt Autohero keine Haftung. Änderungen, Zwischenverkauf und Irrtümer sind vorbehalten.\\n']     27\n",
              "['\\nPosibilidad de prueba del vehículo hasta 5 días. Consultar condiciones. PVP para particulares. Varias unidades y colores disponibles. Precios publicados para vehículos industriales (furgonetas) válidos para compradores autónomos o empresas, consultar condiciones para particulares. Las imágenes y kilómetros pueden no corresponder con el modelo anunciado. Para confirmar póngase en contacto con nuestro departamento comercial. Consulta las excepcionales condiciones de financiación que tenemos disponibles. Precio de venta final IVA y gastos de transferencia incluidos. Horario de atención al cliente: Lunes a Viernes de 09:00 a 18:00.\\n']                                                                                                                                                                                                                                                                                                                                                                                                                                                                                                                                                                                                                                                                                                                                                                                                                                                                                                                                                                                                                                                                                                                                                                                                                                                                                                                                                                                                                                                                                                                                                                                                                                                                                                                                                                                                                                                                                                                                                                                                                                                                                                                                                                                                                               27\n",
              "['\\nSichern Sie sich diesen RENAULT CLIO 1.2 LIMITED zum Top-Preis inklusive dem', 'AUTOHERO-RUNDUM-SORGLOS-PAKET', ' ', 'Infos:', ' 2.Hand, mindestens 12 Monate gültige HU und AU, deutsche Ausführung, unfallfrei ', ' ', 'Highlights', ' ', 'Audio-Navigationssystem mit Touchscreen-Farbdisplay', 'Komfort', ' ', 'Klimaanlage ', ' ', 'Multifunktionslenkrad in Leder ', ' ', 'Berganfahr-Assistent (HSA)', ' ', 'Fensterheber elektrisch vorn ', ' ', 'Geschwindigkeits-Regelanlage (Tempomat) ', ' ', 'Heckscheibe heizbar ', ' ', 'Sitz vorn links höhenverstellbar', ' ', 'Sitz vorn rechts umklappbar ', ' ', 'Stau-/Ablagefach im Laderaumboden ', ' ', 'Zentralverriegelung mit Fernbedienung ', 'Multimedia', ' ', 'Radio R&GO', ' ', 'Bluetooth Freisprechanlage ', ' ', 'USB-/AUX-Schnittstelle ', ' ', 'Bordcomputer', ' ', 'Licht und Sicht', ' ', 'Tagfahrlicht LED ', ' ', 'Außenspiegel elektrisch verstell- und heizbar', 'Sicherheit', ' ', 'Airbag für Fahrer und Beifahrer', ' ', 'Beifahrerairbag deaktivierbar ', ' ', 'Seitenairbags vorn ', ' ', 'Kopfairbagsystem', ' ', 'Anti-Blockier-System (ABS)', ' ', 'Elektronische Bremskraftverteilung ', ' ', 'Elektronische Stabilitäts-Programm (ESP) ', ' ', 'Reifen-Reparaturkit ', ' ', 'Reifendruck-Kontrollsystem ', ' ', 'Untersteuerungskontrolle (USC) ', ' ', 'ISOFIX Kindersitzverankerung ', 'Weiteres', ' ', 'Dachreling silber ', ' ', 'Look-Paket Chrom (außen) ', ' ', 'Look-Paket Grau (innen) ', ' ', 'R&GO-Paket ', ' ', 'Style-Paket ', ' Ihr ', 'AUTOHERO-RUNDUM-SORGLOS-PAKET', ' beinhaltet:', 'Kostenlose Lieferung in Ihre Nähe', 'Optische & technische Aufbereitung', 'Mindestens 12 Monate gültige HU und AU', '1-Jahr-Premium-Garantie', 'Zulassung inklusive ', '14-Tage-Rückgaberecht', 'Markenunabhängige Inzahlungnahme ', 'Individuelle Finanzierungen zu fairen Konditionen', ' ', 'HIER GEHT ES ZUR 360° - ANSICHT DES FAHRZEUGES:', ':', 'https://www.autohero.com/de/renault-clio-1-2-limited/id/30f99516-8785-47e7-a4a3-6cdac4d8e633/', ' ', 'Haftungsausschluss', ':', 'Für Angaben vom Verkäufer, des Herstellers oder von Datenbankabfragen übernimmt Autohero keine Haftung. Änderungen, Zwischenverkauf und Irrtümer sind vorbehalten.\\n']                                                                                                                                                                                                                                                                                                                                                                                                                                                                                                                                                                                                                                   27\n",
              "                                                                                                                                                                                                                                                                                                                                                                                                                                                                                                                                                                                                                                                                                                                                                                                                                                                                                                                                                                                                                                                                                                                                                                                                                                                                                                                                                                                                                                                                                                                                                                                                                                                                                                                                                                                                                                                                                                                                                                                                                                                                                                                                                                                                                                                                                                                                                                                                                                                                                                                                                                                                                                                                                                                                                                                                                                                                                                ... \n",
              "['\\nPratica\\xa067374', 'Airbag fullsize per conducente e passeggero, Alzacristalli elettrici ant. e post. con funzione attivaz. a pressione, Assetto dinamico, Audi drive select, Inserti in micrometallic argento, Kit riparazione pneumatici, Pacchetto di navigazione, Piano di copertura del vano bagagli estraibile, Presa AUX-IN, Proiettori allo Xenon Plus con reg. aut. prof. fari, Lavafari, Rivestimenti dei sedili in tessuto, Serbatoio AdBlue, Sistema controllo pressione pneumatici, Sistema di ancoraggio ISOFIX e 3° punto di ancoraggio Top Tether sui sedili post. laterali, Sistema di informazioni per il conducente con display monocromatico, Tappetini anteriori e posteriori, Versione Business, Volante sportivo multifunzionale in pelle 3 razze, ABS, EBV (Ripartitore elettronico della forza frenante), Airbag laterali anteriori integrati negli schienali dei sedili, Airbag per la testa, Airbag per le ginocchia (lato conducente), Appoggiatesta anteriori (2) e posteriori (3) regolabili, Radio MMI plus, Interfaccia Bluetooth, Appoggiabraccia centrale anteriore, Cambio manuale, Cerchi in lega 7 J x 16\" a 5 razze a stella, Chiusura centralizzata con telecomando, Regolatore di velocità, ESC - Sistema elettronico di controllo della stabilizzazione con bloccaggio trasversale elettronico, ASR - Dispositivo di controllo della trazione, EDS (Dispositivo antislittamento in partenza), Filtro anti particolato, Cinture di sicurezza con pretensionatore, Specchietti retrovisivi esterni riscaldabili e ripiegabili elettricamente, Schienale del sedile posteriore ribaltabile (divisibile in rapporto 40:60 o ribaltabile completam.), Sistema di ausilio al parcheggio posteriore, Servosterzo elettromeccanico, Tergilunotto\\n']                                                                                                                                                                                                                                                                                                                                                                                                                                                                                                                                                                                                                                                                                                                                                                                                                                                                                                                                                                                                                                                                                                          1\n",
              "['\\n', 'Getriebe:', ' Schaltgetriebe', 'Technik:', ' Bordcomputer, Start-Stop-Automatik', 'Assistenten:', ' Regensensor, Lichtsensor, Berganfahrassistent', 'Komfort:', ' Servolenkung, Zentralverriegelung, Elektrischer Fensterheber, Sitzheizung, Elektrische Aussenspiegel, Teilbare Ruecksitzlehne, Tempomat, Park Distance Control, Multifunktionslenkrad, Innenspiegel autom. abblendbar, Mittelarmlehne, Innenraumfilter, Lenksaeule einstellbar, Sportsitze, Klimaautomatik-2-Zonen', 'Sicht:', ' Xenon Scheinwerfer, Colorverglasung, Scheinwerferreinigung, Aussenspiegel beheizbar, Privacyverglasung', 'Sicherheit:', ' ABS, Airbag, Beifahrer-Airbag, Wegfahrsperre, Seitenairbags, ESP, Antriebsschlupfregelung, Reifendruckkontrolle, Traktionskontrolle, Kopfairbag, Knieairbag, Kindersitzbefestigung, Pannenkit', 'Entertainment:', ' CD, Radio, AUX-In, USB-Anschluss, MP3, Bluetooth, Freisprecheinrichtung', 'Umwelt:', ' Grüne Umweltplakette, ', 'Energieeffizienzklasse B', 'Qualität:', ' Garantie, Scheckheftgepflegt, HUAU neu, Nichtraucherfahrzeug', 'Sonstiges:', ' Metallic, Alufelgen, Dachreling, Gepaeckraumabdeckung, Stossfaenger in Wagenfarbe, Sportfahrwerk', 'Weiteres:', ' Connectivity-Paket inkl. Bluetooth-Schnittstelle, Klimaautomatik 2-Zonen, Optik-Paket schwarz Audi exclusive, Einparkhilfe (APS), Verglasung hinten abgedunkelt, Sitzheizung vorn, Dachreling (Aluminium), Soundsystem DSP / Audi Sound-System, Ablage- und Gepäckraum-Paket, Audi music interface, Scheibenwaschdüsen heizbar, Vorbereitung Navigationssystem, Adaptives Bremslicht, Anfahr-Assistent (hold assist), Antriebsart: Frontantrieb, Audi Drive Select, Außenspiegel Wagenfarbe, Blinkleuchten LED in Außenspiegel integriert, Bremsanlage mit Rekuperation - Bremsenergierückgewinnung, Bremsassistent, Dachspoiler, Dekoreinlagen Aluminium Mistral, Einstiegsleisten Aluminium, Elektron. Differentialsperre (EDS), Elektron. Stabilitätskontrolle (ESC), Elektron. Stabilitäts-Programm, Euro 6, Fahrer-Informations-System (FIS), Fensterheber elektrisch vorn und hinten, Frontscheibe Akustikglas, Fußmatten Velours, Getriebe 6-Gang, Heckscheibe heizbar, Interieur Aluminium-Optik, Isofix-Aufnahmen für Kindersitz, Kopfstützen hinten, Multi-Media-Interface MMI, Parkbremse elektro-mechanisch, Polster: Stoff Rallye, Servolenkung elektro-mechanisch, Sitze vorn mit ausziehbarer Oberschenkelauflage, Sitzhöhenverstellung, Sport/Lederlenkrad, Sport-Fahrwerk, Start/Stop-Anlage, Telefon-Vorbereitung mit Bluetooth-Schnittstelle, Wagenheber, Wärmeschutzverglasung, Xenon Plus, ZV mit Fernbedienung', '... Änderungen, Zwischenverkauf und Irrtümer vorbehalten.', ' by CG360.de\\n']                                                                                                                                                         1\n",
              "['\\n', 'Getriebe', '6-Gang', 'Licht und Sicht', 'Xenon-Scheinwerfer Plus (Abblend- und Fernlicht)', 'Technik und Sicherheit', 'Fahrerairbag', 'Airbag Fahrer-/Beifahrerseite', 'Seitenairbag vorn', 'Kopfairbags', 'Anti-Blockier-System (ABS)', 'Elektron. Stabilitätskontrolle (ESC)', 'Elektron. Differentialsperre (EDS)', 'Zentralverriegelung mit Fernbedienung', 'Schließ-/Startsystem Advanced Key (Komfortschlüssel)', 'Servolenkung elektro-mechanisch', 'Geschwindigkeits-Regelanlage (Tempomat)', 'Elektronische Wegfahrsperre', 'Bordcomputer', 'Reifendruck-Kontrollsystem', 'Assistenzsysteme', 'Fahrassistenz-System: Anfahr-Assistent (hold assist)', 'Multimedia', 'Multi-Media-Interface MMI Basic Plus / MMI Radio Plus', 'Audi Smartphone Interface', 'Komfort', 'Komfort-Klimaautomatik 2-Zonen', 'Einparkhilfe hinten (APS)', 'Fensterheber elektrisch', 'Licht- und Regensensor', 'Außenspiegel elektr. verstellbar beide', 'Scheibenwaschdüsen und Außenspiegel beheizt', 'Wärmeschutzverglasung grün getönt', 'Innenausstattung', 'Sitzheizung vorn', 'Lenkrad (Sport/Leder - 3-Speichen) mit Multifunktion', 'Mittelarmlehne vorn', 'Rücksitzlehne geteilt/klappbar', 'Aussenausstattung', 'LM-Felgen', 'Pakete', 'Komfort-Paket', 'Sonstiges', 'Rußpartikelfilter', 'Scheckheftgepflegt', 'Nichtraucherfahrzeug', 'Weitere Informationen', 'Schadstoffklasse: EURO 6D-TEMP', 'Connectivity-Paket', 'Glanz-Paket', 'LM-Felgen 7.5x17 (5-Speichen Y-Design)', 'Progressivlenkung', 'Antriebs-Schlupfregelung (ASR)', 'Elektron. Stabilitäts-Programm (ESP)', 'Getriebe 6-Gang', 'Lenkrad (Sport - 3-Speichen)', 'Parkbremse elektro-mechanisch', 'Sitze vorn höhenverstellbar', 'Vorrüstung Mobiltelefon/Handy mit Bluetooth-Schnittstelle', 'Audi music interface', 'Außenspiegel elektr. verstell- und heizbar beide', 'Vorbereitung Navigationssystem', 'Irrtümer und Änderungen vorbehalten.', 'Die im Internet angebotene Ausstattung ist kein Vertragsbestandteil.', 'Die Ausstattung muss vor Ort geprüft werden.', 'Das angebotene Fahrzeug kann von einer Rückrufaktion betroffen sein. Co2 Angaben können abweichen.', '\\n']                                                                                                                                                                                                                                                                                                                                                                                                                                                                                                                                                                                                                                                                                                                                   1\n",
              "['\\n', 'Aluminium-Gussräder im 5-Speichen-Stern-Design Größe 7 J x 16 mit Reifen 205/55 R 16', 'Dachreling eloxiert', 'Einparkhilfe hinten', 'Fahrerinformationssystem mit Farbdisplay', 'Lederlenkrad im 3-Speichen-Design mit Multifunktion plus', 'Ablage-/Gepäckraumpaket mit erweitertem USB-Buchsen-Angebot', 'Lichtpaket', \"Reifen 16'\", 'Anlaufvariante RdW', 'Vorbereitung für Anhängevorrichtung', 'Audi sound system', 'Reifen 205/55 R16 91W', 'Xenon plus', 'Allwetterlicht', 'Kopfstützen hinten (3 Stück)', 'MMI Radio plus', 'Zentralverriegelung mit Funkschlüssel', 'Bluetooth-Schnittstelle', 'Innenspiegel abblendbar', 'elektronische Stabilisierungskontrolle (ESC)', 'Airbags', '6-Gang-Schaltgetriebe', 'Seitenairbags vorn und Kopfairbagsystem', 'elektromechanische Servolenkung', 'Leuchtweitenregulierung automatisch-statisch', 'Scheibenwaschdüsen beheizbar vorn', 'Reifendruck-Kontrollanzeige', 'Tagfahrlicht', 'Start-Stop-System', 'AUX-IN-Anschluss', 'Kindersitzverankerung ISOFIX und Top Tether für die äußeren Fondsitze', 'Sitzbezüge in Stoff Index', 'Wärmeschutzverglasung', 'Akustikfrontscheibe', 'Außenspiegel links asphärisch', 'Außen-Sound Standard', 'Außenspiegel rechts (großes Sichtfeld) konvex', 'elektromechanische Parkbremse', 'Dachhimmel in Stoff felsgrau', 'Kraftstoffsystem Otto-Einspritzer', 'Linkslenker', 'Reifenreparaturset', 'Heckleuchten', 'Scheibenwaschanlage', 'Entriegelung Hintersitz Standard', 'Waschwasserstandsanzeige', 'Abgaskonzept EU6 AG/H/I', 'Frontantrieb', 'A3', 'Außenspiegelgehäuse in Wagenfarbe', 'Ohne erweitertem Sicherheitssystem', 'Geschwindigkeitsbegrenzungsanlage', 'Dachkantenspoiler', 'Heckscheibenwischer', 'Sportback', 'Kindersicherung manuell', 'Ohne Kamerasysteme/Umfeldsensorik', '4-Zyl. Ottomotor 1 5 L/110KW TSI Grundmotor ist: TJ7/N09/T9F', 'Nebelschlussleuchten', 'Nichtraucherausführung', 'Radstand', 'Doppeltonfanfare', 'Serienfahrwerk', '4 Türen', 'Modellbezeichnung gemäß neuer Leistungskennzeichnung', 'Warnleuchten', 'Zierleisten schwarz', 'Nichtraucherfahrzeug', 'Irrtümer Änderungen und Zwischenverkauf vorbehalten', 'sehr guter Zustand', 'Komfortklima', 'Aussenspiegel heizbar', 'elektrische Aussenspiegel', 'geteilte Rückbank', 'Scheckheft gepflegt', 'Fahrersitz höhenverstellbar', 'Beifahrersitz höhenverstellbar', '\\n']                                                                                                                                                                                                                                                                                                                                                                                                                                                                                                                 1\n",
              "['\\nDEK:[2691331]', 'Renault Espace Blue dCi 200CV EDC Business', 'Nuova da Immatricolare', 'COLORE: Grigio Titanio', 'INTERNO: Pelle+Tessuto', 'TRASMISSIONE: Cambio Automatico EDC', '---', 'ACCESSORI: ', '7 Posti', ', ', 'Cerchi in Lega 17, Navigatore con Display 8.7, Clima Automatico, Sensori di Parcheggio Anteriori e Posteriori con Retrocamera, Fari Full LED Pure Vision, Cruise Control, Renault Multisense', '---', 'Listino Nuovo 44.300 Euro', 'Prezzo Gruppo Carmeli: 39.700 Euro (Esclusa IPT e Messa in Strada)', 'IVA Esposta', 'In caso di Adesione alla PROMO GRUPPO CARMELI puoi Averla a 36.000 Euro', 'Contattaci per scoprire tutti i vantaggi della PROMO GRUPPO CARMELI', '____________________________________', 'Gruppo Carmeli S.p.A. è Concessionaria e Service ufficiale dei Marchi Renault, Dacia, Nissan, Mercedes e Smart per la provincia di Brescia e Bergamo ed opera nel mercato dell’auto da più di 40 anni.', 'Nelle sedi di Brescia (Nissan e Renault-Dacia Autospazio), di Coccaglio (Renault-Dacia e Nissan) e di Bergamo (Nissan) oltre a tutta la gamma di veicoli dei Marchi rappresentati, propone anche 2.000 auto a Km Zero e Aziendali di tutte le marche.', 'Offriamo Servizi:', '-VALUTAZIONE e PERMUTA del tuo USATO', '-ACQUISTO con pagamento immediato del tuo USATO', '-FINANZIAMENTI e LEASING agevolati', '-NOLEGGIO A LUNGO TERMINE di veicoli di tutte le marche', '-PACCHETTI ASSICURATIVI su misura con possibilità di garanzia del valore a Nuovo', '____________________________________', \"Sebbene sia stato fatto ogni ragionevole sforzo per assicurare l'esattezza delle informazioni riportate, vi potrebbero essere involontarie incongruenze riguardanti le immagini e la descrizione degli accessori, che pertanto non rappresentano vincolo contrattuale. Per ulteriori informazioni sulle condizioni economiche ti invitiamo a contattarci.\", '\\n']                                                                                                                                                                                                                                                                                                                                                                                                                                                                                                                                                                                                                                                                                                                                                                                                                                                                                                                                                                1\n",
              "Name: description, Length: 12874, dtype: int64"
            ]
          },
          "metadata": {},
          "execution_count": 38
        }
      ],
      "source": [
        "df['description'].astype('str').value_counts(dropna=False)"
      ]
    },
    {
      "cell_type": "code",
      "execution_count": 39,
      "metadata": {
        "id": "CB-XCQKqI8Xx"
      },
      "outputs": [],
      "source": [
        "df.drop(\"description\", axis=1, inplace=True)"
      ]
    },
    {
      "cell_type": "markdown",
      "metadata": {
        "id": "tNuC70JDI8Xy"
      },
      "source": [
        "**Even if the columns of \"short_description\" & \"description\" contain detailed information, no need it since this information can be obtained from other features.**"
      ]
    },
    {
      "cell_type": "markdown",
      "metadata": {
        "id": "FuBRrExJI8Xy"
      },
      "source": [
        "## body_type"
      ]
    },
    {
      "cell_type": "code",
      "execution_count": 40,
      "metadata": {
        "colab": {
          "base_uri": "https://localhost:8080/"
        },
        "id": "A5bkrVE4I8Xy",
        "outputId": "e41a305a-2827-4927-f2d6-d15bc43bda83"
      },
      "outputs": [
        {
          "output_type": "execute_result",
          "data": {
            "text/plain": [
              "Sedans           7903\n",
              "Station wagon    3553\n",
              "Compact          3153\n",
              "Van               783\n",
              "Other             290\n",
              "Transporter        88\n",
              "NaN                60\n",
              "Off-Road           56\n",
              "Coupe              25\n",
              "Convertible         8\n",
              "Name: body_type, dtype: int64"
            ]
          },
          "metadata": {},
          "execution_count": 40
        }
      ],
      "source": [
        "df.body_type.value_counts(dropna=False)"
      ]
    },
    {
      "cell_type": "markdown",
      "metadata": {
        "id": "-RxeTL2BI8Xy"
      },
      "source": [
        "## Body"
      ]
    },
    {
      "cell_type": "code",
      "execution_count": 41,
      "metadata": {
        "colab": {
          "base_uri": "https://localhost:8080/"
        },
        "id": "LDxmFJ7iI8Xy",
        "outputId": "ce00daa2-41e0-4834-a1c5-bc1c2a79636d"
      },
      "outputs": [
        {
          "output_type": "execute_result",
          "data": {
            "text/plain": [
              "['\\n', 'Sedans', '\\n']           7903\n",
              "['\\n', 'Station wagon', '\\n']    3553\n",
              "['\\n', 'Compact', '\\n']          3153\n",
              "['\\n', 'Van', '\\n']               783\n",
              "['\\n', 'Other', '\\n']             290\n",
              "['\\n', 'Transporter', '\\n']        88\n",
              "nan                                60\n",
              "['\\n', 'Off-Road', '\\n']           56\n",
              "['\\n', 'Coupe', '\\n']              25\n",
              "['\\n', 'Convertible', '\\n']         8\n",
              "Name: Body, dtype: int64"
            ]
          },
          "metadata": {},
          "execution_count": 41
        }
      ],
      "source": [
        "df.Body.astype('str').value_counts(dropna=False)"
      ]
    },
    {
      "cell_type": "code",
      "execution_count": 42,
      "metadata": {
        "id": "NPENsaI2I8Xz"
      },
      "outputs": [],
      "source": [
        "df.drop(\"Body\", axis = 1, inplace = True)"
      ]
    },
    {
      "cell_type": "markdown",
      "metadata": {
        "id": "plfz6RefI8Xz"
      },
      "source": [
        "**Both the columns of \"body_type\" & \"Body\" have the same information,  keep the \"body_type\" column which is more readable.**"
      ]
    },
    {
      "cell_type": "markdown",
      "metadata": {
        "id": "KBBy3GbrI8Xz"
      },
      "source": [
        "## price (target column)"
      ]
    },
    {
      "cell_type": "code",
      "execution_count": 43,
      "metadata": {
        "colab": {
          "base_uri": "https://localhost:8080/"
        },
        "id": "Yd8J_PW6I8Xz",
        "outputId": "699844df-2a87-4ea0-b1eb-575ea7bf42ff"
      },
      "outputs": [
        {
          "output_type": "execute_result",
          "data": {
            "text/plain": [
              "14990    154\n",
              "15990    151\n",
              "10990    139\n",
              "15900    106\n",
              "17990    102\n",
              "        ... \n",
              "17559      1\n",
              "17560      1\n",
              "17570      1\n",
              "17575      1\n",
              "39875      1\n",
              "Name: price, Length: 2956, dtype: int64"
            ]
          },
          "metadata": {},
          "execution_count": 43
        }
      ],
      "source": [
        "df.price.value_counts(dropna=False)"
      ]
    },
    {
      "cell_type": "code",
      "execution_count": 44,
      "metadata": {
        "colab": {
          "base_uri": "https://localhost:8080/"
        },
        "id": "UolSoyz5I8X0",
        "outputId": "aa7005d1-2cf9-4588-f73d-06933380a212"
      },
      "outputs": [
        {
          "output_type": "execute_result",
          "data": {
            "text/plain": [
              "0"
            ]
          },
          "metadata": {},
          "execution_count": 44
        }
      ],
      "source": [
        "df.price.isnull().sum()"
      ]
    },
    {
      "cell_type": "code",
      "execution_count": 45,
      "metadata": {
        "colab": {
          "base_uri": "https://localhost:8080/",
          "height": 387
        },
        "id": "ew7xhx90I8X0",
        "outputId": "4b52d459-9b7f-44b5-8b7a-a0a2726f328e"
      },
      "outputs": [
        {
          "output_type": "display_data",
          "data": {
            "text/plain": [
              "<Figure size 720x432 with 1 Axes>"
            ],
            "image/png": "[encoded data removed]"
          },
          "metadata": {}
        }
      ],
      "source": [
        "sns.boxplot(df.price);"
      ]
    },
    {
      "cell_type": "code",
      "execution_count": 46,
      "metadata": {
        "colab": {
          "base_uri": "https://localhost:8080/",
          "height": 398
        },
        "id": "siEAYfMYI8X0",
        "outputId": "c3f725a4-88b7-444f-8308-ee33e15ca4a9"
      },
      "outputs": [
        {
          "output_type": "display_data",
          "data": {
            "text/plain": [
              "<Figure size 720x432 with 1 Axes>"
            ],
            "image/png": "[encoded data removed]"
          },
          "metadata": {}
        }
      ],
      "source": [
        "sns.distplot(df.price);"
      ]
    },
    {
      "cell_type": "markdown",
      "metadata": {
        "id": "kFQh6mmiI8X0"
      },
      "source": [
        "## vat\n",
        "The **``\"Value Added Tax\"``** (VAT) in the European Union is a general, broadly based consumption tax assessed on the value added to goods and services."
      ]
    },
    {
      "cell_type": "code",
      "execution_count": 47,
      "metadata": {
        "colab": {
          "base_uri": "https://localhost:8080/"
        },
        "id": "HyctoVZTI8X0",
        "outputId": "17e4e188-cfe5-4682-aba6-9586288b5831"
      },
      "outputs": [
        {
          "output_type": "execute_result",
          "data": {
            "text/plain": [
              "VAT deductible      10980\n",
              "NaN                  4513\n",
              "Price negotiable      426\n",
              "Name: vat, dtype: int64"
            ]
          },
          "metadata": {},
          "execution_count": 47
        }
      ],
      "source": [
        "df.vat.value_counts(dropna=False)"
      ]
    },
    {
      "cell_type": "markdown",
      "metadata": {
        "id": "p5Ic9bCoI8X1"
      },
      "source": [
        "## km"
      ]
    },
    {
      "cell_type": "code",
      "execution_count": 48,
      "metadata": {
        "colab": {
          "base_uri": "https://localhost:8080/"
        },
        "id": "NYptnkHpI8X1",
        "outputId": "fb6adedf-b469-4077-ca72-f55ae0a9ceba"
      },
      "outputs": [
        {
          "output_type": "execute_result",
          "data": {
            "text/plain": [
              "10 km        1045\n",
              "- km         1024\n",
              "1 km          367\n",
              "5 km          170\n",
              "50 km         148\n",
              "             ... \n",
              "67,469 km       1\n",
              "43,197 km       1\n",
              "10,027 km       1\n",
              "35,882 km       1\n",
              "57 km           1\n",
              "Name: km, Length: 6690, dtype: int64"
            ]
          },
          "metadata": {},
          "execution_count": 48
        }
      ],
      "source": [
        "df.km.value_counts(dropna=False)"
      ]
    },
    {
      "cell_type": "code",
      "execution_count": 49,
      "metadata": {
        "id": "8mb0SFfLI8X1"
      },
      "outputs": [],
      "source": [
        "df[\"km\"] = df.km.str.replace(',', '').str.extract('(\\d{1,8})').astype('float')  # str.extract('(\\d+)')"
      ]
    },
    {
      "cell_type": "code",
      "execution_count": 50,
      "metadata": {
        "id": "wS5e1VqeI8X1"
      },
      "outputs": [],
      "source": [
        "# This is another solution\n",
        "\n",
        "#df[\"km\"] = df.km.str.replace(',', '').str.rstrip(\" km\").replace('-', np.nan).astype('float')"
      ]
    },
    {
      "cell_type": "code",
      "execution_count": 51,
      "metadata": {
        "colab": {
          "base_uri": "https://localhost:8080/"
        },
        "id": "nVZmHgkaI8X2",
        "outputId": "7cc29fff-ba78-4366-806e-59f0b37fc635"
      },
      "outputs": [
        {
          "output_type": "execute_result",
          "data": {
            "text/plain": [
              "10.00       1045\n",
              "NaN         1024\n",
              "1.00         367\n",
              "5.00         170\n",
              "50.00        148\n",
              "            ... \n",
              "67469.00       1\n",
              "43197.00       1\n",
              "10027.00       1\n",
              "35882.00       1\n",
              "57.00          1\n",
              "Name: km, Length: 6690, dtype: int64"
            ]
          },
          "metadata": {},
          "execution_count": 51
        }
      ],
      "source": [
        "df.km.value_counts(dropna=False)"
      ]
    },
    {
      "cell_type": "markdown",
      "metadata": {
        "id": "GuYm8dP8I8X2"
      },
      "source": [
        "## registration & First Registration"
      ]
    },
    {
      "cell_type": "code",
      "execution_count": 52,
      "metadata": {
        "colab": {
          "base_uri": "https://localhost:8080/"
        },
        "id": "4j6ndmlRI8X2",
        "outputId": "ac49b768-6f8b-432a-9ef0-43e544aa0a60"
      },
      "outputs": [
        {
          "output_type": "execute_result",
          "data": {
            "text/plain": [
              "-/-        1597\n",
              "03/2018     695\n",
              "02/2019     585\n",
              "05/2018     572\n",
              "03/2019     543\n",
              "01/2019     541\n",
              "04/2018     541\n",
              "02/2018     539\n",
              "03/2016     536\n",
              "04/2016     532\n",
              "06/2018     532\n",
              "01/2018     511\n",
              "04/2019     506\n",
              "02/2016     472\n",
              "03/2017     471\n",
              "05/2016     459\n",
              "06/2016     452\n",
              "05/2019     440\n",
              "06/2017     409\n",
              "05/2017     404\n",
              "07/2018     396\n",
              "04/2017     380\n",
              "01/2016     376\n",
              "02/2017     368\n",
              "01/2017     306\n",
              "08/2018     285\n",
              "06/2019     224\n",
              "07/2017     215\n",
              "11/2017     180\n",
              "07/2016     176\n",
              "10/2016     160\n",
              "10/2017     154\n",
              "09/2017     149\n",
              "11/2016     142\n",
              "09/2018     141\n",
              "09/2016     141\n",
              "12/2016     134\n",
              "12/2017     123\n",
              "08/2017     114\n",
              "11/2018     110\n",
              "12/2018     103\n",
              "10/2018      97\n",
              "08/2016      94\n",
              "07/2019       6\n",
              "09/2019       5\n",
              "08/2019       1\n",
              "11/2019       1\n",
              "12/2019       1\n",
              "Name: registration, dtype: int64"
            ]
          },
          "metadata": {},
          "execution_count": 52
        }
      ],
      "source": [
        "df.registration.value_counts(dropna=False)"
      ]
    },
    {
      "cell_type": "code",
      "execution_count": 53,
      "metadata": {
        "colab": {
          "base_uri": "https://localhost:8080/"
        },
        "id": "Dv_gXZ-yI8X3",
        "outputId": "53472ebe-dbed-478d-a6dd-35652b573822"
      },
      "outputs": [
        {
          "output_type": "execute_result",
          "data": {
            "text/plain": [
              "['\\n', '2018', '\\n']    4522\n",
              "['\\n', '2016', '\\n']    3674\n",
              "['\\n', '2017', '\\n']    3273\n",
              "['\\n', '2019', '\\n']    2853\n",
              "nan                     1597\n",
              "Name: First Registration, dtype: int64"
            ]
          },
          "metadata": {},
          "execution_count": 53
        }
      ],
      "source": [
        "df[\"First Registration\"].astype('str').value_counts(dropna=False)"
      ]
    },
    {
      "cell_type": "markdown",
      "metadata": {
        "id": "PLZDwOxtI8X3"
      },
      "source": [
        "**I prefer \"First Registration\" column because I don't need month values.**"
      ]
    },
    {
      "cell_type": "code",
      "execution_count": 54,
      "metadata": {
        "id": "Q_FUJ5aUI8X3"
      },
      "outputs": [],
      "source": [
        "df['First Registration'] = df['First Registration'].str[1].astype('float')"
      ]
    },
    {
      "cell_type": "code",
      "execution_count": 55,
      "metadata": {
        "colab": {
          "base_uri": "https://localhost:8080/"
        },
        "id": "8dkfchxzI8X4",
        "outputId": "9aea1ad1-52ec-4e03-f914-8caacdaa8fd4"
      },
      "outputs": [
        {
          "output_type": "execute_result",
          "data": {
            "text/plain": [
              "2018.00    4522\n",
              "2016.00    3674\n",
              "2017.00    3273\n",
              "2019.00    2853\n",
              "NaN        1597\n",
              "Name: First Registration, dtype: int64"
            ]
          },
          "metadata": {},
          "execution_count": 55
        }
      ],
      "source": [
        "df[\"First Registration\"].value_counts(dropna=False)"
      ]
    },
    {
      "cell_type": "code",
      "execution_count": 56,
      "metadata": {
        "id": "ZtKPfoOnI8X4"
      },
      "outputs": [],
      "source": [
        "# The data used for this project were scraped in 2019.\n",
        "\n",
        "df['age'] = 2019 - df['First Registration']"
      ]
    },
    {
      "cell_type": "code",
      "execution_count": 57,
      "metadata": {
        "colab": {
          "base_uri": "https://localhost:8080/"
        },
        "id": "uDoQS0CUI8X4",
        "outputId": "a2079dd4-be12-4c3c-d996-527f706da456"
      },
      "outputs": [
        {
          "output_type": "execute_result",
          "data": {
            "text/plain": [
              "1.00    4522\n",
              "3.00    3674\n",
              "2.00    3273\n",
              "0.00    2853\n",
              "NaN     1597\n",
              "Name: age, dtype: int64"
            ]
          },
          "metadata": {},
          "execution_count": 57
        }
      ],
      "source": [
        "df.age.value_counts(dropna=False)"
      ]
    },
    {
      "cell_type": "code",
      "execution_count": 58,
      "metadata": {
        "id": "9bJdQ74iI8X4"
      },
      "outputs": [],
      "source": [
        "df.drop([\"registration\", \"First Registration\"], axis=1, inplace=True)"
      ]
    },
    {
      "cell_type": "markdown",
      "metadata": {
        "id": "N4XFj5ZcI8X5"
      },
      "source": [
        "## prev_owner & Previous Owners"
      ]
    },
    {
      "cell_type": "code",
      "execution_count": 59,
      "metadata": {
        "colab": {
          "base_uri": "https://localhost:8080/"
        },
        "id": "p9RwIUWQI8X5",
        "outputId": "5268c2cf-81f7-4948-efdc-ba687de74122"
      },
      "outputs": [
        {
          "output_type": "execute_result",
          "data": {
            "text/plain": [
              "1 previous owner     8294\n",
              "NaN                  6828\n",
              "2 previous owners     778\n",
              "3 previous owners      17\n",
              "4 previous owners       2\n",
              "Name: prev_owner, dtype: int64"
            ]
          },
          "metadata": {},
          "execution_count": 59
        }
      ],
      "source": [
        "df.prev_owner.value_counts(dropna=False)"
      ]
    },
    {
      "cell_type": "code",
      "execution_count": 60,
      "metadata": {
        "colab": {
          "base_uri": "https://localhost:8080/",
          "height": 448
        },
        "id": "MUrVOYYZI8X6",
        "outputId": "43c6320f-cf38-4aff-ab0a-917792095436"
      },
      "outputs": [
        {
          "output_type": "error",
          "ename": "TypeError",
          "evalue": "ignored",
          "traceback": [
            "\u001b[0;31m---------------------------------------------------------------------------\u001b[0m",
            "\u001b[0;31mTypeError\u001b[0m                                 Traceback (most recent call last)",
            "\u001b[0;32mpandas/_libs/hashtable_class_helper.pxi\u001b[0m in \u001b[0;36mpandas._libs.hashtable.PyObjectHashTable.map_locations\u001b[0;34m()\u001b[0m\n",
            "\u001b[0;31mTypeError\u001b[0m: unhashable type: 'list'"
          ]
        },
        {
          "output_type": "stream",
          "name": "stderr",
          "text": [
            "Exception ignored in: 'pandas._libs.index.IndexEngine._call_map_locations'\n",
            "Traceback (most recent call last):\n",
            "  File \"pandas/_libs/hashtable_class_helper.pxi\", line 5231, in pandas._libs.hashtable.PyObjectHashTable.map_locations\n",
            "TypeError: unhashable type: 'list'\n"
          ]
        },
        {
          "output_type": "execute_result",
          "data": {
            "text/plain": [
              "\\n1\\n                                                                                        8101\n",
              "NaN                                                                                          6640\n",
              "\\n2\\n                                                                                         766\n",
              "\\n0\\n                                                                                         163\n",
              "\\n3\\n                                                                                          17\n",
              "                                                                                             ... \n",
              "[\\n1\\n, \\n111 g CO2/km (comb)\\n]                                                                1\n",
              "[\\n1\\n, \\nEuro 6\\n]                                                                             1\n",
              "[\\n2\\n, \\n119 g CO2/km (comb)\\n]                                                                1\n",
              "[\\n1\\n, \\n, 6.6 l/100 km (comb), \\n, 8.1 l/100 km (city), \\n, 5.7 l/100 km (country), \\n]       1\n",
              "[\\n2\\n, \\n137 g CO2/km (comb)\\n]                                                                1\n",
              "Name: Previous Owners, Length: 103, dtype: int64"
            ]
          },
          "metadata": {},
          "execution_count": 60
        }
      ],
      "source": [
        "df[\"Previous Owners\"].value_counts(dropna=False)"
      ]
    },
    {
      "cell_type": "markdown",
      "metadata": {
        "id": "RHlmAtDGI8X6"
      },
      "source": [
        "I prefer \"Previous Owners\" column because it has less NaN values. But before dropping \"prev_owner\", I'll fill \"Previous Owners\" with \"prev_owner\"."
      ]
    },
    {
      "cell_type": "code",
      "execution_count": 61,
      "metadata": {
        "colab": {
          "base_uri": "https://localhost:8080/"
        },
        "id": "T77wAfT8I8X7",
        "outputId": "3943d690-c560-41b2-96b4-16e470724c9f"
      },
      "outputs": [
        {
          "output_type": "execute_result",
          "data": {
            "text/plain": [
              "['\\n2\\n',\n",
              " nan,\n",
              " '\\n1\\n',\n",
              " '\\n1\\n',\n",
              " '\\n1\\n',\n",
              " '\\n1\\n',\n",
              " '\\n1\\n',\n",
              " '\\n1\\n',\n",
              " '\\n1\\n',\n",
              " nan,\n",
              " nan,\n",
              " '\\n1\\n',\n",
              " '\\n1\\n',\n",
              " nan,\n",
              " '\\n1\\n',\n",
              " '\\n1\\n',\n",
              " nan,\n",
              " '\\n1\\n',\n",
              " nan,\n",
              " nan,\n",
              " '\\n1\\n',\n",
              " '\\n1\\n',\n",
              " '\\n1\\n',\n",
              " nan,\n",
              " '\\n1\\n',\n",
              " nan,\n",
              " '\\n1\\n',\n",
              " '\\n1\\n',\n",
              " nan,\n",
              " nan,\n",
              " nan,\n",
              " '\\n1\\n',\n",
              " '\\n1\\n',\n",
              " '\\n1\\n',\n",
              " nan,\n",
              " '\\n1\\n',\n",
              " '\\n1\\n',\n",
              " '\\n1\\n',\n",
              " '\\n2\\n',\n",
              " '\\n1\\n',\n",
              " '\\n1\\n',\n",
              " '\\n1\\n',\n",
              " '\\n1\\n',\n",
              " '\\n1\\n',\n",
              " '\\n1\\n',\n",
              " '\\n1\\n',\n",
              " '\\n1\\n',\n",
              " '\\n0\\n',\n",
              " '\\n2\\n',\n",
              " '\\n1\\n',\n",
              " '\\n1\\n',\n",
              " '\\n1\\n',\n",
              " nan,\n",
              " nan,\n",
              " '\\n1\\n',\n",
              " '\\n1\\n',\n",
              " '\\n1\\n',\n",
              " '\\n1\\n',\n",
              " '\\n2\\n',\n",
              " nan,\n",
              " '\\n1\\n',\n",
              " '\\n1\\n',\n",
              " '\\n1\\n',\n",
              " '\\n1\\n',\n",
              " '\\n1\\n',\n",
              " nan,\n",
              " nan,\n",
              " nan,\n",
              " '\\n1\\n',\n",
              " '\\n1\\n',\n",
              " nan,\n",
              " '\\n1\\n',\n",
              " '\\n1\\n',\n",
              " '\\n1\\n',\n",
              " '\\n1\\n',\n",
              " '\\n1\\n',\n",
              " '\\n1\\n',\n",
              " '\\n1\\n',\n",
              " '\\n1\\n',\n",
              " '\\n1\\n',\n",
              " '\\n1\\n',\n",
              " nan,\n",
              " '\\n1\\n',\n",
              " '\\n1\\n',\n",
              " '\\n2\\n',\n",
              " nan,\n",
              " nan,\n",
              " '\\n1\\n',\n",
              " '\\n1\\n',\n",
              " '\\n1\\n',\n",
              " '\\n1\\n',\n",
              " '\\n1\\n',\n",
              " '\\n2\\n',\n",
              " '\\n1\\n',\n",
              " nan,\n",
              " nan,\n",
              " nan,\n",
              " nan,\n",
              " '\\n1\\n',\n",
              " '\\n1\\n',\n",
              " nan,\n",
              " nan,\n",
              " '\\n1\\n',\n",
              " nan,\n",
              " nan,\n",
              " nan,\n",
              " nan,\n",
              " nan,\n",
              " nan,\n",
              " nan,\n",
              " nan,\n",
              " nan,\n",
              " nan,\n",
              " nan,\n",
              " '\\n1\\n',\n",
              " nan,\n",
              " nan,\n",
              " '\\n1\\n',\n",
              " nan,\n",
              " '\\n1\\n',\n",
              " '\\n1\\n',\n",
              " '\\n1\\n',\n",
              " nan,\n",
              " '\\n1\\n',\n",
              " '\\n1\\n',\n",
              " '\\n1\\n',\n",
              " '\\n1\\n',\n",
              " '\\n1\\n',\n",
              " '\\n1\\n',\n",
              " '\\n1\\n',\n",
              " nan,\n",
              " nan,\n",
              " nan,\n",
              " '\\n1\\n',\n",
              " nan,\n",
              " '\\n1\\n',\n",
              " '\\n1\\n',\n",
              " '\\n1\\n',\n",
              " '\\n1\\n',\n",
              " '\\n2\\n',\n",
              " nan,\n",
              " nan,\n",
              " '\\n1\\n',\n",
              " '\\n1\\n',\n",
              " '\\n2\\n',\n",
              " '\\n1\\n',\n",
              " '\\n2\\n',\n",
              " '\\n2\\n',\n",
              " '\\n1\\n',\n",
              " '\\n1\\n',\n",
              " nan,\n",
              " '\\n1\\n',\n",
              " '\\n1\\n',\n",
              " '\\n1\\n',\n",
              " '\\n1\\n',\n",
              " '\\n2\\n',\n",
              " '\\n1\\n',\n",
              " '\\n1\\n',\n",
              " '\\n1\\n',\n",
              " nan,\n",
              " '\\n1\\n',\n",
              " '\\n1\\n',\n",
              " '\\n2\\n',\n",
              " '\\n1\\n',\n",
              " '\\n1\\n',\n",
              " '\\n2\\n',\n",
              " '\\n2\\n',\n",
              " '\\n1\\n',\n",
              " nan,\n",
              " '\\n1\\n',\n",
              " nan,\n",
              " nan,\n",
              " '\\n1\\n',\n",
              " nan,\n",
              " '\\n2\\n',\n",
              " '\\n1\\n',\n",
              " nan,\n",
              " '\\n2\\n',\n",
              " '\\n1\\n',\n",
              " '\\n2\\n',\n",
              " '\\n1\\n',\n",
              " '\\n2\\n',\n",
              " '\\n1\\n',\n",
              " '\\n1\\n',\n",
              " '\\n1\\n',\n",
              " '\\n1\\n',\n",
              " '\\n1\\n',\n",
              " '\\n1\\n',\n",
              " '\\n1\\n',\n",
              " '\\n1\\n',\n",
              " nan,\n",
              " nan,\n",
              " '\\n1\\n',\n",
              " '\\n1\\n',\n",
              " '\\n1\\n',\n",
              " nan,\n",
              " '\\n1\\n',\n",
              " nan,\n",
              " '\\n1\\n',\n",
              " '\\n1\\n',\n",
              " '\\n2\\n',\n",
              " nan,\n",
              " '\\n1\\n',\n",
              " '\\n1\\n',\n",
              " '\\n1\\n',\n",
              " nan,\n",
              " '\\n2\\n',\n",
              " '\\n2\\n',\n",
              " nan,\n",
              " '\\n1\\n',\n",
              " nan,\n",
              " '\\n1\\n',\n",
              " '\\n1\\n',\n",
              " '\\n1\\n',\n",
              " '\\n1\\n',\n",
              " '\\n1\\n',\n",
              " '\\n1\\n',\n",
              " '\\n1\\n',\n",
              " '\\n1\\n',\n",
              " nan,\n",
              " '\\n2\\n',\n",
              " '\\n1\\n',\n",
              " '\\n1\\n',\n",
              " '\\n1\\n',\n",
              " '\\n1\\n',\n",
              " '\\n1\\n',\n",
              " '\\n1\\n',\n",
              " nan,\n",
              " nan,\n",
              " nan,\n",
              " '\\n1\\n',\n",
              " nan,\n",
              " nan,\n",
              " nan,\n",
              " '\\n1\\n',\n",
              " '\\n1\\n',\n",
              " '\\n1\\n',\n",
              " '\\n1\\n',\n",
              " '\\n1\\n',\n",
              " '\\n1\\n',\n",
              " '\\n1\\n',\n",
              " '\\n2\\n',\n",
              " '\\n2\\n',\n",
              " '\\n1\\n',\n",
              " nan,\n",
              " '\\n1\\n',\n",
              " '\\n1\\n',\n",
              " nan,\n",
              " '\\n1\\n',\n",
              " '\\n1\\n',\n",
              " nan,\n",
              " '\\n2\\n',\n",
              " nan,\n",
              " nan,\n",
              " '\\n1\\n',\n",
              " '\\n1\\n',\n",
              " '\\n2\\n',\n",
              " '\\n1\\n',\n",
              " '\\n1\\n',\n",
              " '\\n2\\n',\n",
              " nan,\n",
              " nan,\n",
              " nan,\n",
              " '\\n1\\n',\n",
              " '\\n1\\n',\n",
              " '\\n1\\n',\n",
              " '\\n1\\n',\n",
              " '\\n2\\n',\n",
              " '\\n1\\n',\n",
              " '\\n1\\n',\n",
              " nan,\n",
              " '\\n1\\n',\n",
              " '\\n1\\n',\n",
              " '\\n1\\n',\n",
              " nan,\n",
              " nan,\n",
              " nan,\n",
              " '\\n1\\n',\n",
              " nan,\n",
              " '\\n2\\n',\n",
              " '\\n1\\n',\n",
              " '\\n1\\n',\n",
              " '\\n2\\n',\n",
              " '\\n1\\n',\n",
              " '\\n1\\n',\n",
              " '\\n1\\n',\n",
              " '\\n1\\n',\n",
              " '\\n1\\n',\n",
              " '\\n1\\n',\n",
              " '\\n1\\n',\n",
              " '\\n1\\n',\n",
              " '\\n1\\n',\n",
              " '\\n1\\n',\n",
              " '\\n1\\n',\n",
              " '\\n1\\n',\n",
              " '\\n1\\n',\n",
              " '\\n1\\n',\n",
              " '\\n1\\n',\n",
              " '\\n1\\n',\n",
              " '\\n1\\n',\n",
              " '\\n1\\n',\n",
              " '\\n1\\n',\n",
              " '\\n1\\n',\n",
              " '\\n2\\n',\n",
              " '\\n1\\n',\n",
              " '\\n1\\n',\n",
              " '\\n1\\n',\n",
              " '\\n1\\n',\n",
              " '\\n1\\n',\n",
              " nan,\n",
              " nan,\n",
              " '\\n1\\n',\n",
              " '\\n1\\n',\n",
              " '\\n1\\n',\n",
              " '\\n1\\n',\n",
              " '\\n1\\n',\n",
              " '\\n1\\n',\n",
              " '\\n1\\n',\n",
              " '\\n1\\n',\n",
              " '\\n1\\n',\n",
              " '\\n1\\n',\n",
              " '\\n1\\n',\n",
              " '\\n1\\n',\n",
              " '\\n1\\n',\n",
              " '\\n1\\n',\n",
              " '\\n1\\n',\n",
              " '\\n1\\n',\n",
              " nan,\n",
              " '\\n1\\n',\n",
              " '\\n1\\n',\n",
              " '\\n1\\n',\n",
              " nan,\n",
              " '\\n1\\n',\n",
              " '\\n1\\n',\n",
              " nan,\n",
              " '\\n2\\n',\n",
              " '\\n2\\n',\n",
              " '\\n2\\n',\n",
              " '\\n1\\n',\n",
              " '\\n2\\n',\n",
              " '\\n2\\n',\n",
              " '\\n2\\n',\n",
              " '\\n2\\n',\n",
              " '\\n2\\n',\n",
              " '\\n2\\n',\n",
              " '\\n2\\n',\n",
              " '\\n2\\n',\n",
              " '\\n1\\n',\n",
              " '\\n1\\n',\n",
              " '\\n2\\n',\n",
              " '\\n1\\n',\n",
              " '\\n2\\n',\n",
              " '\\n2\\n',\n",
              " '\\n1\\n',\n",
              " '\\n2\\n',\n",
              " nan,\n",
              " '\\n2\\n',\n",
              " '\\n2\\n',\n",
              " '\\n2\\n',\n",
              " '\\n2\\n',\n",
              " '\\n2\\n',\n",
              " nan,\n",
              " '\\n2\\n',\n",
              " '\\n2\\n',\n",
              " '\\n2\\n',\n",
              " '\\n1\\n',\n",
              " '\\n2\\n',\n",
              " nan,\n",
              " '\\n1\\n',\n",
              " '\\n2\\n',\n",
              " nan,\n",
              " '\\n1\\n',\n",
              " nan,\n",
              " '\\n1\\n',\n",
              " nan,\n",
              " '\\n2\\n',\n",
              " '\\n2\\n',\n",
              " '\\n2\\n',\n",
              " '\\n2\\n',\n",
              " '\\n2\\n',\n",
              " '\\n1\\n',\n",
              " nan,\n",
              " '\\n1\\n',\n",
              " '\\n2\\n',\n",
              " '\\n2\\n',\n",
              " '\\n2\\n',\n",
              " '\\n2\\n',\n",
              " nan,\n",
              " nan,\n",
              " '\\n1\\n',\n",
              " '\\n1\\n',\n",
              " '\\n1\\n',\n",
              " '\\n1\\n',\n",
              " '\\n1\\n',\n",
              " '\\n1\\n',\n",
              " '\\n1\\n',\n",
              " '\\n1\\n',\n",
              " nan,\n",
              " '\\n2\\n',\n",
              " '\\n1\\n',\n",
              " '\\n1\\n',\n",
              " '\\n1\\n',\n",
              " '\\n1\\n',\n",
              " '\\n1\\n',\n",
              " nan,\n",
              " nan,\n",
              " nan,\n",
              " nan,\n",
              " nan,\n",
              " '\\n1\\n',\n",
              " '\\n1\\n',\n",
              " '\\n1\\n',\n",
              " '\\n1\\n',\n",
              " '\\n1\\n',\n",
              " '\\n1\\n',\n",
              " '\\n1\\n',\n",
              " '\\n1\\n',\n",
              " '\\n1\\n',\n",
              " '\\n0\\n',\n",
              " nan,\n",
              " '\\n1\\n',\n",
              " '\\n1\\n',\n",
              " '\\n2\\n',\n",
              " '\\n2\\n',\n",
              " '\\n1\\n',\n",
              " '\\n1\\n',\n",
              " '\\n2\\n',\n",
              " nan,\n",
              " '\\n1\\n',\n",
              " '\\n1\\n',\n",
              " '\\n1\\n',\n",
              " '\\n1\\n',\n",
              " '\\n1\\n',\n",
              " '\\n2\\n',\n",
              " '\\n1\\n',\n",
              " nan,\n",
              " '\\n1\\n',\n",
              " '\\n1\\n',\n",
              " '\\n1\\n',\n",
              " '\\n1\\n',\n",
              " '\\n1\\n',\n",
              " '\\n1\\n',\n",
              " '\\n1\\n',\n",
              " '\\n2\\n',\n",
              " nan,\n",
              " '\\n1\\n',\n",
              " nan,\n",
              " nan,\n",
              " nan,\n",
              " '\\n1\\n',\n",
              " '\\n1\\n',\n",
              " '\\n1\\n',\n",
              " '\\n1\\n',\n",
              " '\\n1\\n',\n",
              " '\\n1\\n',\n",
              " '\\n1\\n',\n",
              " '\\n1\\n',\n",
              " nan,\n",
              " '\\n1\\n',\n",
              " nan,\n",
              " nan,\n",
              " nan,\n",
              " '\\n1\\n',\n",
              " '\\n1\\n',\n",
              " '\\n1\\n',\n",
              " '\\n1\\n',\n",
              " nan,\n",
              " '\\n1\\n',\n",
              " nan,\n",
              " nan,\n",
              " nan,\n",
              " '\\n2\\n',\n",
              " '\\n1\\n',\n",
              " '\\n1\\n',\n",
              " '\\n1\\n',\n",
              " '\\n1\\n',\n",
              " nan,\n",
              " '\\n1\\n',\n",
              " '\\n1\\n',\n",
              " nan,\n",
              " nan,\n",
              " '\\n1\\n',\n",
              " '\\n1\\n',\n",
              " nan,\n",
              " nan,\n",
              " nan,\n",
              " nan,\n",
              " nan,\n",
              " '\\n1\\n',\n",
              " nan,\n",
              " '\\n1\\n',\n",
              " '\\n1\\n',\n",
              " '\\n1\\n',\n",
              " '\\n1\\n',\n",
              " '\\n1\\n',\n",
              " '\\n1\\n',\n",
              " '\\n1\\n',\n",
              " nan,\n",
              " '\\n1\\n',\n",
              " '\\n1\\n',\n",
              " '\\n1\\n',\n",
              " nan,\n",
              " '\\n1\\n',\n",
              " '\\n2\\n',\n",
              " '\\n2\\n',\n",
              " nan,\n",
              " '\\n1\\n',\n",
              " '\\n1\\n',\n",
              " '\\n1\\n',\n",
              " '\\n1\\n',\n",
              " nan,\n",
              " '\\n1\\n',\n",
              " '\\n1\\n',\n",
              " '\\n2\\n',\n",
              " '\\n1\\n',\n",
              " nan,\n",
              " '\\n2\\n',\n",
              " nan,\n",
              " nan,\n",
              " '\\n1\\n',\n",
              " '\\n1\\n',\n",
              " '\\n1\\n',\n",
              " '\\n2\\n',\n",
              " '\\n1\\n',\n",
              " nan,\n",
              " '\\n1\\n',\n",
              " '\\n1\\n',\n",
              " '\\n1\\n',\n",
              " '\\n1\\n',\n",
              " '\\n1\\n',\n",
              " nan,\n",
              " '\\n1\\n',\n",
              " nan,\n",
              " '\\n1\\n',\n",
              " '\\n1\\n',\n",
              " '\\n1\\n',\n",
              " '\\n1\\n',\n",
              " '\\n1\\n',\n",
              " '\\n1\\n',\n",
              " '\\n1\\n',\n",
              " '\\n1\\n',\n",
              " '\\n1\\n',\n",
              " '\\n1\\n',\n",
              " '\\n1\\n',\n",
              " '\\n1\\n',\n",
              " '\\n1\\n',\n",
              " nan,\n",
              " nan,\n",
              " '\\n1\\n',\n",
              " '\\n1\\n',\n",
              " '\\n1\\n',\n",
              " '\\n1\\n',\n",
              " '\\n1\\n',\n",
              " '\\n1\\n',\n",
              " '\\n1\\n',\n",
              " '\\n1\\n',\n",
              " '\\n1\\n',\n",
              " '\\n1\\n',\n",
              " '\\n1\\n',\n",
              " '\\n1\\n',\n",
              " '\\n1\\n',\n",
              " '\\n1\\n',\n",
              " nan,\n",
              " nan,\n",
              " nan,\n",
              " nan,\n",
              " nan,\n",
              " '\\n2\\n',\n",
              " '\\n1\\n',\n",
              " nan,\n",
              " nan,\n",
              " '\\n1\\n',\n",
              " '\\n1\\n',\n",
              " '\\n1\\n',\n",
              " '\\n1\\n',\n",
              " '\\n1\\n',\n",
              " '\\n1\\n',\n",
              " nan,\n",
              " nan,\n",
              " '\\n1\\n',\n",
              " '\\n1\\n',\n",
              " nan,\n",
              " '\\n1\\n',\n",
              " '\\n1\\n',\n",
              " nan,\n",
              " '\\n2\\n',\n",
              " '\\n0\\n',\n",
              " '\\n1\\n',\n",
              " '\\n2\\n',\n",
              " nan,\n",
              " '\\n1\\n',\n",
              " '\\n1\\n',\n",
              " '\\n1\\n',\n",
              " '\\n1\\n',\n",
              " '\\n2\\n',\n",
              " nan,\n",
              " '\\n1\\n',\n",
              " '\\n1\\n',\n",
              " nan,\n",
              " '\\n1\\n',\n",
              " '\\n1\\n',\n",
              " nan,\n",
              " '\\n1\\n',\n",
              " '\\n1\\n',\n",
              " '\\n2\\n',\n",
              " nan,\n",
              " '\\n1\\n',\n",
              " '\\n1\\n',\n",
              " nan,\n",
              " '\\n1\\n',\n",
              " '\\n1\\n',\n",
              " '\\n1\\n',\n",
              " '\\n2\\n',\n",
              " '\\n1\\n',\n",
              " '\\n2\\n',\n",
              " '\\n1\\n',\n",
              " '\\n1\\n',\n",
              " nan,\n",
              " '\\n1\\n',\n",
              " '\\n1\\n',\n",
              " '\\n1\\n',\n",
              " '\\n1\\n',\n",
              " '\\n1\\n',\n",
              " nan,\n",
              " '\\n1\\n',\n",
              " '\\n1\\n',\n",
              " '\\n1\\n',\n",
              " '\\n2\\n',\n",
              " '\\n1\\n',\n",
              " '\\n1\\n',\n",
              " '\\n1\\n',\n",
              " '\\n1\\n',\n",
              " '\\n1\\n',\n",
              " '\\n1\\n',\n",
              " nan,\n",
              " '\\n1\\n',\n",
              " '\\n1\\n',\n",
              " nan,\n",
              " '\\n1\\n',\n",
              " '\\n2\\n',\n",
              " '\\n2\\n',\n",
              " nan,\n",
              " '\\n1\\n',\n",
              " nan,\n",
              " nan,\n",
              " '\\n1\\n',\n",
              " '\\n1\\n',\n",
              " nan,\n",
              " '\\n0\\n',\n",
              " '\\n1\\n',\n",
              " '\\n1\\n',\n",
              " '\\n2\\n',\n",
              " '\\n1\\n',\n",
              " '\\n2\\n',\n",
              " '\\n1\\n',\n",
              " nan,\n",
              " nan,\n",
              " '\\n1\\n',\n",
              " '\\n1\\n',\n",
              " '\\n1\\n',\n",
              " '\\n1\\n',\n",
              " nan,\n",
              " nan,\n",
              " '\\n2\\n',\n",
              " '\\n1\\n',\n",
              " nan,\n",
              " '\\n1\\n',\n",
              " '\\n1\\n',\n",
              " '\\n1\\n',\n",
              " '\\n1\\n',\n",
              " '\\n1\\n',\n",
              " nan,\n",
              " nan,\n",
              " '\\n1\\n',\n",
              " nan,\n",
              " '\\n1\\n',\n",
              " '\\n1\\n',\n",
              " '\\n1\\n',\n",
              " nan,\n",
              " '\\n3\\n',\n",
              " '\\n1\\n',\n",
              " nan,\n",
              " '\\n1\\n',\n",
              " '\\n1\\n',\n",
              " '\\n1\\n',\n",
              " '\\n1\\n',\n",
              " '\\n1\\n',\n",
              " '\\n1\\n',\n",
              " nan,\n",
              " nan,\n",
              " '\\n1\\n',\n",
              " '\\n1\\n',\n",
              " '\\n1\\n',\n",
              " '\\n1\\n',\n",
              " '\\n1\\n',\n",
              " nan,\n",
              " '\\n1\\n',\n",
              " '\\n1\\n',\n",
              " '\\n1\\n',\n",
              " '\\n1\\n',\n",
              " '\\n1\\n',\n",
              " '\\n1\\n',\n",
              " '\\n2\\n',\n",
              " '\\n1\\n',\n",
              " '\\n1\\n',\n",
              " '\\n1\\n',\n",
              " nan,\n",
              " '\\n1\\n',\n",
              " nan,\n",
              " '\\n1\\n',\n",
              " nan,\n",
              " '\\n1\\n',\n",
              " '\\n1\\n',\n",
              " nan,\n",
              " '\\n1\\n',\n",
              " '\\n1\\n',\n",
              " '\\n1\\n',\n",
              " '\\n1\\n',\n",
              " '\\n1\\n',\n",
              " '\\n1\\n',\n",
              " nan,\n",
              " '\\n1\\n',\n",
              " '\\n1\\n',\n",
              " nan,\n",
              " '\\n1\\n',\n",
              " '\\n2\\n',\n",
              " '\\n1\\n',\n",
              " '\\n2\\n',\n",
              " '\\n1\\n',\n",
              " '\\n1\\n',\n",
              " '\\n1\\n',\n",
              " '\\n1\\n',\n",
              " '\\n1\\n',\n",
              " nan,\n",
              " '\\n0\\n',\n",
              " nan,\n",
              " '\\n1\\n',\n",
              " '\\n1\\n',\n",
              " '\\n1\\n',\n",
              " '\\n1\\n',\n",
              " '\\n1\\n',\n",
              " nan,\n",
              " '\\n1\\n',\n",
              " '\\n0\\n',\n",
              " nan,\n",
              " '\\n1\\n',\n",
              " '\\n1\\n',\n",
              " '\\n1\\n',\n",
              " '\\n1\\n',\n",
              " '\\n1\\n',\n",
              " '\\n1\\n',\n",
              " '\\n2\\n',\n",
              " nan,\n",
              " '\\n1\\n',\n",
              " nan,\n",
              " nan,\n",
              " nan,\n",
              " nan,\n",
              " '\\n2\\n',\n",
              " '\\n1\\n',\n",
              " nan,\n",
              " '\\n1\\n',\n",
              " '\\n1\\n',\n",
              " '\\n1\\n',\n",
              " '\\n2\\n',\n",
              " '\\n1\\n',\n",
              " '\\n1\\n',\n",
              " nan,\n",
              " nan,\n",
              " nan,\n",
              " nan,\n",
              " nan,\n",
              " nan,\n",
              " nan,\n",
              " nan,\n",
              " nan,\n",
              " nan,\n",
              " nan,\n",
              " nan,\n",
              " nan,\n",
              " '\\n1\\n',\n",
              " nan,\n",
              " nan,\n",
              " nan,\n",
              " nan,\n",
              " nan,\n",
              " nan,\n",
              " nan,\n",
              " nan,\n",
              " '\\n1\\n',\n",
              " '\\n1\\n',\n",
              " nan,\n",
              " '\\n2\\n',\n",
              " '\\n1\\n',\n",
              " nan,\n",
              " nan,\n",
              " '\\n1\\n',\n",
              " '\\n1\\n',\n",
              " nan,\n",
              " '\\n1\\n',\n",
              " '\\n1\\n',\n",
              " '\\n1\\n',\n",
              " nan,\n",
              " '\\n2\\n',\n",
              " '\\n1\\n',\n",
              " nan,\n",
              " '\\n1\\n',\n",
              " '\\n1\\n',\n",
              " '\\n1\\n',\n",
              " '\\n2\\n',\n",
              " nan,\n",
              " nan,\n",
              " '\\n2\\n',\n",
              " nan,\n",
              " nan,\n",
              " '\\n2\\n',\n",
              " nan,\n",
              " '\\n1\\n',\n",
              " '\\n1\\n',\n",
              " '\\n1\\n',\n",
              " '\\n1\\n',\n",
              " '\\n1\\n',\n",
              " '\\n2\\n',\n",
              " '\\n2\\n',\n",
              " '\\n1\\n',\n",
              " '\\n1\\n',\n",
              " '\\n2\\n',\n",
              " '\\n1\\n',\n",
              " '\\n1\\n',\n",
              " '\\n1\\n',\n",
              " '\\n1\\n',\n",
              " nan,\n",
              " nan,\n",
              " nan,\n",
              " '\\n1\\n',\n",
              " '\\n1\\n',\n",
              " '\\n1\\n',\n",
              " nan,\n",
              " nan,\n",
              " '\\n1\\n',\n",
              " '\\n2\\n',\n",
              " '\\n1\\n',\n",
              " '\\n2\\n',\n",
              " nan,\n",
              " '\\n1\\n',\n",
              " '\\n1\\n',\n",
              " '\\n1\\n',\n",
              " '\\n1\\n',\n",
              " '\\n1\\n',\n",
              " '\\n1\\n',\n",
              " '\\n1\\n',\n",
              " '\\n1\\n',\n",
              " '\\n1\\n',\n",
              " '\\n1\\n',\n",
              " nan,\n",
              " nan,\n",
              " '\\n1\\n',\n",
              " '\\n2\\n',\n",
              " '\\n1\\n',\n",
              " '\\n1\\n',\n",
              " nan,\n",
              " nan,\n",
              " nan,\n",
              " nan,\n",
              " '\\n1\\n',\n",
              " nan,\n",
              " nan,\n",
              " nan,\n",
              " nan,\n",
              " '\\n0\\n',\n",
              " '\\n1\\n',\n",
              " '\\n1\\n',\n",
              " '\\n1\\n',\n",
              " '\\n1\\n',\n",
              " nan,\n",
              " nan,\n",
              " nan,\n",
              " nan,\n",
              " '\\n1\\n',\n",
              " nan,\n",
              " '\\n1\\n',\n",
              " nan,\n",
              " '\\n1\\n',\n",
              " '\\n1\\n',\n",
              " '\\n2\\n',\n",
              " nan,\n",
              " nan,\n",
              " '\\n1\\n',\n",
              " nan,\n",
              " nan,\n",
              " nan,\n",
              " '\\n1\\n',\n",
              " '\\n1\\n',\n",
              " '\\n1\\n',\n",
              " '\\n2\\n',\n",
              " '\\n1\\n',\n",
              " nan,\n",
              " '\\n1\\n',\n",
              " nan,\n",
              " nan,\n",
              " '\\n1\\n',\n",
              " nan,\n",
              " nan,\n",
              " nan,\n",
              " '\\n1\\n',\n",
              " '\\n1\\n',\n",
              " nan,\n",
              " '\\n1\\n',\n",
              " nan,\n",
              " '\\n1\\n',\n",
              " '\\n1\\n',\n",
              " '\\n1\\n',\n",
              " '\\n1\\n',\n",
              " '\\n1\\n',\n",
              " '\\n1\\n',\n",
              " '\\n1\\n',\n",
              " '\\n1\\n',\n",
              " '\\n1\\n',\n",
              " '\\n1\\n',\n",
              " '\\n1\\n',\n",
              " '\\n2\\n',\n",
              " '\\n1\\n',\n",
              " '\\n1\\n',\n",
              " '\\n1\\n',\n",
              " '\\n1\\n',\n",
              " '\\n1\\n',\n",
              " '\\n1\\n',\n",
              " nan,\n",
              " '\\n1\\n',\n",
              " '\\n1\\n',\n",
              " nan,\n",
              " '\\n2\\n',\n",
              " nan,\n",
              " nan,\n",
              " '\\n1\\n',\n",
              " '\\n1\\n',\n",
              " nan,\n",
              " nan,\n",
              " nan,\n",
              " nan,\n",
              " nan,\n",
              " nan,\n",
              " '\\n1\\n',\n",
              " '\\n1\\n',\n",
              " '\\n1\\n',\n",
              " '\\n1\\n',\n",
              " nan,\n",
              " '\\n1\\n',\n",
              " '\\n1\\n',\n",
              " '\\n1\\n',\n",
              " '\\n1\\n',\n",
              " '\\n1\\n',\n",
              " nan,\n",
              " nan,\n",
              " nan,\n",
              " '\\n2\\n',\n",
              " '\\n1\\n',\n",
              " '\\n2\\n',\n",
              " '\\n1\\n',\n",
              " '\\n1\\n',\n",
              " nan,\n",
              " nan,\n",
              " nan,\n",
              " '\\n1\\n',\n",
              " '\\n1\\n',\n",
              " '\\n1\\n',\n",
              " nan,\n",
              " '\\n1\\n',\n",
              " '\\n1\\n',\n",
              " nan,\n",
              " '\\n1\\n',\n",
              " '\\n1\\n',\n",
              " '\\n4\\n',\n",
              " '\\n1\\n',\n",
              " nan,\n",
              " '\\n1\\n',\n",
              " '\\n1\\n',\n",
              " nan,\n",
              " '\\n1\\n',\n",
              " '\\n1\\n',\n",
              " '\\n0\\n',\n",
              " '\\n1\\n',\n",
              " nan,\n",
              " '\\n1\\n',\n",
              " nan,\n",
              " '\\n1\\n',\n",
              " '\\n1\\n',\n",
              " nan,\n",
              " '\\n1\\n',\n",
              " '\\n1\\n',\n",
              " nan,\n",
              " nan,\n",
              " nan,\n",
              " nan,\n",
              " '\\n1\\n',\n",
              " '\\n1\\n',\n",
              " '\\n1\\n',\n",
              " '\\n1\\n',\n",
              " '\\n1\\n',\n",
              " '\\n1\\n',\n",
              " ...]"
            ]
          },
          "metadata": {},
          "execution_count": 61
        }
      ],
      "source": [
        "[item[0] if type(item) == list else item for item in df[\"Previous Owners\"]]"
      ]
    },
    {
      "cell_type": "code",
      "execution_count": 62,
      "metadata": {
        "colab": {
          "base_uri": "https://localhost:8080/"
        },
        "id": "Aa0r2kDYI8X7",
        "outputId": "f2ba24eb-f560-42c8-a010-1180bde3773b"
      },
      "outputs": [
        {
          "output_type": "execute_result",
          "data": {
            "text/plain": [
              "0        \\n2\\n\n",
              "1          NaN\n",
              "2        \\n1\\n\n",
              "3        \\n1\\n\n",
              "4        \\n1\\n\n",
              "         ...  \n",
              "15914      NaN\n",
              "15915    \\n1\\n\n",
              "15916    \\n1\\n\n",
              "15917      NaN\n",
              "15918    \\n1\\n\n",
              "Name: Previous_Owners, Length: 15919, dtype: object"
            ]
          },
          "metadata": {},
          "execution_count": 62
        }
      ],
      "source": [
        "# With list comprehension\n",
        "\n",
        "df[\"Previous_Owners\"] = [item[0] if type(item) == list else item for item in df[\"Previous Owners\"]]\n",
        "df[\"Previous_Owners\"]"
      ]
    },
    {
      "cell_type": "code",
      "execution_count": 63,
      "metadata": {
        "colab": {
          "base_uri": "https://localhost:8080/"
        },
        "id": "GTQQ3O9EI8X7",
        "outputId": "4579ef80-137e-4a9f-d2aa-a89b69991176"
      },
      "outputs": [
        {
          "output_type": "execute_result",
          "data": {
            "text/plain": [
              "0        \\n2\\n\n",
              "1          NaN\n",
              "2        \\n1\\n\n",
              "3        \\n1\\n\n",
              "4        \\n1\\n\n",
              "         ...  \n",
              "15914      NaN\n",
              "15915    \\n1\\n\n",
              "15916    \\n1\\n\n",
              "15917      NaN\n",
              "15918    \\n1\\n\n",
              "Name: Previous_Owners2, Length: 15919, dtype: object"
            ]
          },
          "metadata": {},
          "execution_count": 63
        }
      ],
      "source": [
        "# With apply() function\n",
        "\n",
        "df[\"Previous_Owners2\"] = df[\"Previous Owners\"].apply(lambda item: item[0] if type(item) == list else item)\n",
        "df[\"Previous_Owners2\"]"
      ]
    },
    {
      "cell_type": "code",
      "execution_count": 64,
      "metadata": {
        "id": "41EDI9SeI8X8"
      },
      "outputs": [],
      "source": [
        "df[\"Previous_Owners\"] = df[\"Previous_Owners\"].str.strip(\"\\n\").astype('float')"
      ]
    },
    {
      "cell_type": "code",
      "execution_count": 65,
      "metadata": {
        "scrolled": true,
        "colab": {
          "base_uri": "https://localhost:8080/"
        },
        "id": "rITksgEbI8X8",
        "outputId": "39ccec32-0d2c-4044-eb99-6dd0b9d9ad69"
      },
      "outputs": [
        {
          "output_type": "execute_result",
          "data": {
            "text/plain": [
              "1.00    8294\n",
              "NaN     6640\n",
              "2.00     778\n",
              "0.00     188\n",
              "3.00      17\n",
              "4.00       2\n",
              "Name: Previous_Owners, dtype: int64"
            ]
          },
          "metadata": {},
          "execution_count": 65
        }
      ],
      "source": [
        "df[\"Previous_Owners\"].value_counts(dropna=False)"
      ]
    },
    {
      "cell_type": "code",
      "execution_count": 66,
      "metadata": {
        "id": "WxHkR938I8X8"
      },
      "outputs": [],
      "source": [
        "df[\"prev_owner\"] = df[\"prev_owner\"].str.extract(\"(\\d*)\").astype('float')"
      ]
    },
    {
      "cell_type": "code",
      "execution_count": 67,
      "metadata": {
        "id": "uo9VVp4sI8X9"
      },
      "outputs": [],
      "source": [
        "#Alternative method\n",
        "\n",
        "#df[\"prev_owner\"] = df[\"prev_owner\"].str.split(\" \").str[0].astype('float')"
      ]
    },
    {
      "cell_type": "code",
      "execution_count": 68,
      "metadata": {
        "colab": {
          "base_uri": "https://localhost:8080/"
        },
        "id": "ZoKnqpWII8X9",
        "outputId": "a330e7a9-72a4-403b-d264-2deaf0e89a28"
      },
      "outputs": [
        {
          "output_type": "execute_result",
          "data": {
            "text/plain": [
              "1.00    8294\n",
              "NaN     6828\n",
              "2.00     778\n",
              "3.00      17\n",
              "4.00       2\n",
              "Name: prev_owner, dtype: int64"
            ]
          },
          "metadata": {},
          "execution_count": 68
        }
      ],
      "source": [
        "df[\"prev_owner\"].value_counts(dropna=False)"
      ]
    },
    {
      "cell_type": "code",
      "execution_count": 69,
      "metadata": {
        "id": "6a4dKGu9I8X9"
      },
      "outputs": [],
      "source": [
        "df[\"Previous_Owners\"].fillna(df[\"prev_owner\"], inplace=True)"
      ]
    },
    {
      "cell_type": "code",
      "execution_count": 70,
      "metadata": {
        "colab": {
          "base_uri": "https://localhost:8080/"
        },
        "id": "zxJn-sU9I8X9",
        "outputId": "01cc87af-5e2e-47bf-b942-f597f7c92ff8"
      },
      "outputs": [
        {
          "output_type": "execute_result",
          "data": {
            "text/plain": [
              "1.00    8294\n",
              "NaN     6640\n",
              "2.00     778\n",
              "0.00     188\n",
              "3.00      17\n",
              "4.00       2\n",
              "Name: Previous_Owners, dtype: int64"
            ]
          },
          "metadata": {},
          "execution_count": 70
        }
      ],
      "source": [
        "df[\"Previous_Owners\"].value_counts(dropna=False)"
      ]
    },
    {
      "cell_type": "code",
      "execution_count": 71,
      "metadata": {
        "colab": {
          "base_uri": "https://localhost:8080/",
          "height": 147
        },
        "id": "uPBwLlkjI8X9",
        "outputId": "b7df899e-2bf3-4532-a4e6-b2185e405e49"
      },
      "outputs": [
        {
          "output_type": "execute_result",
          "data": {
            "text/plain": [
              "Empty DataFrame\n",
              "Columns: [make_model, body_type, price, vat, km, prev_owner, hp, Type, Previous Owners, Next Inspection, Inspection new, Warranty, Full Service, Non-smoking Vehicle, Offer Number, Body Color, Paint Type, Body Color Original, Upholstery, Nr. of Doors, Nr. of Seats, Model Code, Gearing Type, Displacement, Cylinders, Weight, Drive chain, Fuel, Consumption, CO2 Emission, Emission Class, Comfort_Convenience, Entertainment_Media, Extras, Safety_Security, Emission Label, Gears, Country version, age, Previous_Owners, Previous_Owners2]\n",
              "Index: []"
            ],
            "text/html": [
              "\n",
              "  <div id=\"df-d21a6d72-162e-4344-87ec-15aac7adbc99\">\n",
              "    <div class=\"colab-df-container\">\n",
              "      <div>\n",
              "<style scoped>\n",
              "    .dataframe tbody tr th:only-of-type {\n",
              "        vertical-align: middle;\n",
              "    }\n",
              "\n",
              "    .dataframe tbody tr th {\n",
              "        vertical-align: top;\n",
              "    }\n",
              "\n",
              "    .dataframe thead th {\n",
              "        text-align: right;\n",
              "    }\n",
              "</style>\n",
              "<table border=\"1\" class=\"dataframe\">\n",
              "  <thead>\n",
              "    <tr style=\"text-align: right;\">\n",
              "      <th></th>\n",
              "      <th>make_model</th>\n",
              "      <th>body_type</th>\n",
              "      <th>price</th>\n",
              "      <th>vat</th>\n",
              "      <th>km</th>\n",
              "      <th>prev_owner</th>\n",
              "      <th>hp</th>\n",
              "      <th>Type</th>\n",
              "      <th>Previous Owners</th>\n",
              "      <th>Next Inspection</th>\n",
              "      <th>Inspection new</th>\n",
              "      <th>Warranty</th>\n",
              "      <th>Full Service</th>\n",
              "      <th>Non-smoking Vehicle</th>\n",
              "      <th>Offer Number</th>\n",
              "      <th>Body Color</th>\n",
              "      <th>Paint Type</th>\n",
              "      <th>Body Color Original</th>\n",
              "      <th>Upholstery</th>\n",
              "      <th>Nr. of Doors</th>\n",
              "      <th>Nr. of Seats</th>\n",
              "      <th>Model Code</th>\n",
              "      <th>Gearing Type</th>\n",
              "      <th>Displacement</th>\n",
              "      <th>Cylinders</th>\n",
              "      <th>Weight</th>\n",
              "      <th>Drive chain</th>\n",
              "      <th>Fuel</th>\n",
              "      <th>Consumption</th>\n",
              "      <th>CO2 Emission</th>\n",
              "      <th>Emission Class</th>\n",
              "      <th>Comfort_Convenience</th>\n",
              "      <th>Entertainment_Media</th>\n",
              "      <th>Extras</th>\n",
              "      <th>Safety_Security</th>\n",
              "      <th>Emission Label</th>\n",
              "      <th>Gears</th>\n",
              "      <th>Country version</th>\n",
              "      <th>age</th>\n",
              "      <th>Previous_Owners</th>\n",
              "      <th>Previous_Owners2</th>\n",
              "    </tr>\n",
              "  </thead>\n",
              "  <tbody>\n",
              "  </tbody>\n",
              "</table>\n",
              "</div>\n",
              "      <button class=\"colab-df-convert\" onclick=\"convertToInteractive('df-d21a6d72-162e-4344-87ec-15aac7adbc99')\"\n",
              "              title=\"Convert this dataframe to an interactive table.\"\n",
              "              style=\"display:none;\">\n",
              "        \n",
              "  <svg xmlns=\"http://www.w3.org/2000/svg\" height=\"24px\"viewBox=\"0 0 24 24\"\n",
              "       width=\"24px\">\n",
              "    <path d=\"M0 0h24v24H0V0z\" fill=\"none\"/>\n",
              "    <path d=\"M18.56 5.44l.94 2.06.94-2.06 2.06-.94-2.06-.94-.94-2.06-.94 2.06-2.06.94zm-11 1L8.5 8.5l.94-2.06 2.06-.94-2.06-.94L8.5 2.5l-.94 2.06-2.06.94zm10 10l.94 2.06.94-2.06 2.06-.94-2.06-.94-.94-2.06-.94 2.06-2.06.94z\"/><path d=\"M17.41 7.96l-1.37-1.37c-.4-.4-.92-.59-1.43-.59-.52 0-1.04.2-1.43.59L10.3 9.45l-7.72 7.72c-.78.78-.78 2.05 0 2.83L4 21.41c.39.39.9.59 1.41.59.51 0 1.02-.2 1.41-.59l7.78-7.78 2.81-2.81c.8-.78.8-2.07 0-2.86zM5.41 20L4 18.59l7.72-7.72 1.47 1.35L5.41 20z\"/>\n",
              "  </svg>\n",
              "      </button>\n",
              "      \n",
              "  <style>\n",
              "    .colab-df-container {\n",
              "      display:flex;\n",
              "      flex-wrap:wrap;\n",
              "      gap: 12px;\n",
              "    }\n",
              "\n",
              "    .colab-df-convert {\n",
              "      background-color: #E8F0FE;\n",
              "      border: none;\n",
              "      border-radius: 50%;\n",
              "      cursor: pointer;\n",
              "      display: none;\n",
              "      fill: #1967D2;\n",
              "      height: 32px;\n",
              "      padding: 0 0 0 0;\n",
              "      width: 32px;\n",
              "    }\n",
              "\n",
              "    .colab-df-convert:hover {\n",
              "      background-color: #E2EBFA;\n",
              "      box-shadow: 0px 1px 2px rgba(60, 64, 67, 0.3), 0px 1px 3px 1px rgba(60, 64, 67, 0.15);\n",
              "      fill: #174EA6;\n",
              "    }\n",
              "\n",
              "    [theme=dark] .colab-df-convert {\n",
              "      background-color: #3B4455;\n",
              "      fill: #D2E3FC;\n",
              "    }\n",
              "\n",
              "    [theme=dark] .colab-df-convert:hover {\n",
              "      background-color: #434B5C;\n",
              "      box-shadow: 0px 1px 3px 1px rgba(0, 0, 0, 0.15);\n",
              "      filter: drop-shadow(0px 1px 2px rgba(0, 0, 0, 0.3));\n",
              "      fill: #FFFFFF;\n",
              "    }\n",
              "  </style>\n",
              "\n",
              "      <script>\n",
              "        const buttonEl =\n",
              "          document.querySelector('#df-d21a6d72-162e-4344-87ec-15aac7adbc99 button.colab-df-convert');\n",
              "        buttonEl.style.display =\n",
              "          google.colab.kernel.accessAllowed ? 'block' : 'none';\n",
              "\n",
              "        async function convertToInteractive(key) {\n",
              "          const element = document.querySelector('#df-d21a6d72-162e-4344-87ec-15aac7adbc99');\n",
              "          const dataTable =\n",
              "            await google.colab.kernel.invokeFunction('convertToInteractive',\n",
              "                                                     [key], {});\n",
              "          if (!dataTable) return;\n",
              "\n",
              "          const docLinkHtml = 'Like what you see? Visit the ' +\n",
              "            '<a target=\"_blank\" href=https://colab.research.google.com/notebooks/data_table.ipynb>data table notebook</a>'\n",
              "            + ' to learn more about interactive tables.';\n",
              "          element.innerHTML = '';\n",
              "          dataTable['output_type'] = 'display_data';\n",
              "          await google.colab.output.renderOutput(dataTable, element);\n",
              "          const docLink = document.createElement('div');\n",
              "          docLink.innerHTML = docLinkHtml;\n",
              "          element.appendChild(docLink);\n",
              "        }\n",
              "      </script>\n",
              "    </div>\n",
              "  </div>\n",
              "  "
            ]
          },
          "metadata": {},
          "execution_count": 71
        }
      ],
      "source": [
        "df[(df[\"Previous_Owners\"].isna()) & (df[\"prev_owner\"].notna())]#.value_counts()"
      ]
    },
    {
      "cell_type": "code",
      "execution_count": 72,
      "metadata": {
        "id": "PjEPTBHhI8X-"
      },
      "outputs": [],
      "source": [
        "df.drop([\"prev_owner\", \"Previous Owners\", \"Previous_Owners2\"], axis=1, inplace=True)"
      ]
    },
    {
      "cell_type": "markdown",
      "metadata": {
        "id": "wGFvj5ZrI8X-"
      },
      "source": [
        "## hp"
      ]
    },
    {
      "cell_type": "code",
      "execution_count": 73,
      "metadata": {
        "colab": {
          "base_uri": "https://localhost:8080/"
        },
        "id": "UPPp2wIKI8X-",
        "outputId": "b01554c5-e495-4432-e82b-b26797e3f90e"
      },
      "outputs": [
        {
          "output_type": "execute_result",
          "data": {
            "text/plain": [
              "85 kW     2542\n",
              "66 kW     2122\n",
              "81 kW     1402\n",
              "100 kW    1308\n",
              "110 kW    1112\n",
              "70 kW      888\n",
              "125 kW     707\n",
              "51 kW      695\n",
              "55 kW      569\n",
              "118 kW     516\n",
              "92 kW      466\n",
              "121 kW     392\n",
              "147 kW     380\n",
              "77 kW      345\n",
              "56 kW      286\n",
              "54 kW      276\n",
              "103 kW     253\n",
              "87 kW      232\n",
              "165 kW     194\n",
              "88 kW      177\n",
              "60 kW      160\n",
              "162 kW      98\n",
              "- kW        88\n",
              "74 kW       81\n",
              "96 kW       72\n",
              "71 kW       59\n",
              "101 kW      47\n",
              "67 kW       40\n",
              "154 kW      39\n",
              "122 kW      35\n",
              "119 kW      30\n",
              "164 kW      27\n",
              "135 kW      24\n",
              "82 kW       22\n",
              "52 kW       22\n",
              "78 kW       20\n",
              "1 kW        20\n",
              "294 kW      18\n",
              "146 kW      18\n",
              "141 kW      16\n",
              "57 kW       10\n",
              "104 kW       8\n",
              "120 kW       8\n",
              "191 kW       7\n",
              "112 kW       7\n",
              "155 kW       6\n",
              "117 kW       6\n",
              "184 kW       5\n",
              "90 kW        4\n",
              "76 kW        4\n",
              "65 kW        4\n",
              "149 kW       3\n",
              "80 kW        3\n",
              "168 kW       3\n",
              "98 kW        3\n",
              "93 kW        3\n",
              "228 kW       2\n",
              "270 kW       2\n",
              "53 kW        2\n",
              "140 kW       2\n",
              "86 kW        2\n",
              "167 kW       2\n",
              "127 kW       2\n",
              "89 kW        2\n",
              "143 kW       2\n",
              "63 kW        2\n",
              "40 kW        2\n",
              "150 kW       2\n",
              "163 kW       1\n",
              "115 kW       1\n",
              "132 kW       1\n",
              "75 kW        1\n",
              "4 kW         1\n",
              "137 kW       1\n",
              "123 kW       1\n",
              "133 kW       1\n",
              "84 kW        1\n",
              "195 kW       1\n",
              "44 kW        1\n",
              "239 kW       1\n",
              "9 kW         1\n",
              "Name: hp, dtype: int64"
            ]
          },
          "metadata": {},
          "execution_count": 73
        }
      ],
      "source": [
        "df.hp.value_counts(dropna=False)"
      ]
    },
    {
      "cell_type": "code",
      "execution_count": 74,
      "metadata": {
        "id": "hWFvHl37I8X-"
      },
      "outputs": [],
      "source": [
        "df[\"hp_kW\"] = df.hp.str.extract('(\\d{1,4})').astype('float') # str.extract('(\\d+)')"
      ]
    },
    {
      "cell_type": "code",
      "execution_count": 75,
      "metadata": {
        "id": "VzjF0Ev1I8X_"
      },
      "outputs": [],
      "source": [
        "#Alternative method\n",
        "\n",
        "#df.replace({\"hp\" : {\" kW\" : \"\"}}, regex = True, inplace = True)\n",
        "#df[\"hp_kw\"] = pd.to_numeric(df.hp)"
      ]
    },
    {
      "cell_type": "code",
      "execution_count": 76,
      "metadata": {
        "colab": {
          "base_uri": "https://localhost:8080/"
        },
        "id": "Zg137VddI8X_",
        "outputId": "9c92b85d-055d-417c-f9b8-cb1b79bda885"
      },
      "outputs": [
        {
          "output_type": "execute_result",
          "data": {
            "text/plain": [
              "85.00     2542\n",
              "66.00     2122\n",
              "81.00     1402\n",
              "100.00    1308\n",
              "110.00    1112\n",
              "70.00      888\n",
              "125.00     707\n",
              "51.00      695\n",
              "55.00      569\n",
              "118.00     516\n",
              "92.00      466\n",
              "121.00     392\n",
              "147.00     380\n",
              "77.00      345\n",
              "56.00      286\n",
              "54.00      276\n",
              "103.00     253\n",
              "87.00      232\n",
              "165.00     194\n",
              "88.00      177\n",
              "60.00      160\n",
              "162.00      98\n",
              "NaN         88\n",
              "74.00       81\n",
              "96.00       72\n",
              "71.00       59\n",
              "101.00      47\n",
              "67.00       40\n",
              "154.00      39\n",
              "122.00      35\n",
              "119.00      30\n",
              "164.00      27\n",
              "135.00      24\n",
              "82.00       22\n",
              "52.00       22\n",
              "78.00       20\n",
              "1.00        20\n",
              "294.00      18\n",
              "146.00      18\n",
              "141.00      16\n",
              "57.00       10\n",
              "104.00       8\n",
              "120.00       8\n",
              "191.00       7\n",
              "112.00       7\n",
              "155.00       6\n",
              "117.00       6\n",
              "184.00       5\n",
              "90.00        4\n",
              "76.00        4\n",
              "65.00        4\n",
              "149.00       3\n",
              "80.00        3\n",
              "168.00       3\n",
              "98.00        3\n",
              "93.00        3\n",
              "228.00       2\n",
              "270.00       2\n",
              "53.00        2\n",
              "140.00       2\n",
              "86.00        2\n",
              "167.00       2\n",
              "127.00       2\n",
              "89.00        2\n",
              "143.00       2\n",
              "63.00        2\n",
              "40.00        2\n",
              "150.00       2\n",
              "163.00       1\n",
              "115.00       1\n",
              "132.00       1\n",
              "75.00        1\n",
              "4.00         1\n",
              "137.00       1\n",
              "123.00       1\n",
              "133.00       1\n",
              "84.00        1\n",
              "195.00       1\n",
              "44.00        1\n",
              "239.00       1\n",
              "9.00         1\n",
              "Name: hp_kW, dtype: int64"
            ]
          },
          "metadata": {},
          "execution_count": 76
        }
      ],
      "source": [
        "df.hp_kW.value_counts(dropna=False)"
      ]
    },
    {
      "cell_type": "code",
      "execution_count": 77,
      "metadata": {
        "id": "0NHDQsHeI8X_"
      },
      "outputs": [],
      "source": [
        "df.drop('hp', axis=1, inplace=True)"
      ]
    },
    {
      "cell_type": "markdown",
      "metadata": {
        "id": "lOVASQc5I8X_"
      },
      "source": [
        "## Type"
      ]
    },
    {
      "cell_type": "code",
      "execution_count": 78,
      "metadata": {
        "colab": {
          "base_uri": "https://localhost:8080/"
        },
        "id": "J8mfkZAvI8X_",
        "outputId": "8469ab5d-41e0-497a-ddec-73671e93531b"
      },
      "outputs": [
        {
          "output_type": "execute_result",
          "data": {
            "text/plain": [
              "['', 'Used', '', 'Diesel (Particulate Filter)']                                                                                 3475\n",
              "['', 'Used', '', 'Diesel']                                                                                                      2516\n",
              "['', 'Used', '', 'Gasoline']                                                                                                    2367\n",
              "['', 'Used', '', 'Super 95']                                                                                                    1818\n",
              "['', 'Pre-registered', '', 'Super 95']                                                                                           500\n",
              "                                                                                                                                ... \n",
              "['', 'New', '', 'Regular/Benzine 91 / Super 95 / Super Plus 98 / Regular/Benzine E10 91 / Super Plus E10 98 / Super E10 95']       1\n",
              "['', 'Used', '', 'Super 95 / Super Plus 98 / Super E10 95 / Super Plus E10 98 (Particulate Filter)']                               1\n",
              "['', 'Demonstration', '', 'Super Plus 98']                                                                                         1\n",
              "['', 'New', '', 'Super Plus E10 98']                                                                                               1\n",
              "['', 'Demonstration', '', 'Regular/Benzine E10 91']                                                                                1\n",
              "Name: Type, Length: 170, dtype: int64"
            ]
          },
          "metadata": {},
          "execution_count": 78
        }
      ],
      "source": [
        "df.Type.astype('str').value_counts()"
      ]
    },
    {
      "cell_type": "code",
      "execution_count": 79,
      "metadata": {
        "id": "uV5Ac6rwI8YA"
      },
      "outputs": [],
      "source": [
        "# df.Type.apply(pd.Series).stack().value_counts()"
      ]
    },
    {
      "cell_type": "code",
      "execution_count": 80,
      "metadata": {
        "id": "57BMFHbAI8YA"
      },
      "outputs": [],
      "source": [
        "# pd.value_counts(np.hstack(df.Type.values))"
      ]
    },
    {
      "cell_type": "code",
      "execution_count": 81,
      "metadata": {
        "scrolled": false,
        "id": "6VP35MEwI8YA"
      },
      "outputs": [],
      "source": [
        "# from itertools import chain\n",
        "\n",
        "# pd.Series(list(chain.from_iterable(i if isinstance(i, list) else [i] for i in df.Type))).value_counts()"
      ]
    },
    {
      "cell_type": "code",
      "execution_count": 82,
      "metadata": {
        "id": "m0QsKR-gI8YA"
      },
      "outputs": [],
      "source": [
        "df[\"Type\"] = df.Type.str[1]"
      ]
    },
    {
      "cell_type": "code",
      "execution_count": 83,
      "metadata": {
        "colab": {
          "base_uri": "https://localhost:8080/"
        },
        "id": "a14Ueof3I8YB",
        "outputId": "0162fb0f-92d9-4291-8b13-67dfa5c46218"
      },
      "outputs": [
        {
          "output_type": "execute_result",
          "data": {
            "text/plain": [
              "Used              11096\n",
              "New                1650\n",
              "Pre-registered     1364\n",
              "Employee's car     1011\n",
              "Demonstration       796\n",
              "NaN                   2\n",
              "Name: Type, dtype: int64"
            ]
          },
          "metadata": {},
          "execution_count": 83
        }
      ],
      "source": [
        "df['Type'].value_counts(dropna=False)"
      ]
    },
    {
      "cell_type": "markdown",
      "metadata": {
        "id": "CaUPX4eRI8YB"
      },
      "source": [
        "## Next Inspection & Inspection new"
      ]
    },
    {
      "cell_type": "code",
      "execution_count": 84,
      "metadata": {
        "colab": {
          "base_uri": "https://localhost:8080/"
        },
        "id": "R5f2NoKbI8YB",
        "outputId": "b9852453-8820-4e9c-ee43-3596e327cecb"
      },
      "outputs": [
        {
          "output_type": "execute_result",
          "data": {
            "text/plain": [
              "nan                                           12384\n",
              "\\n04/2022\\n                                      62\n",
              "\\n03/2021\\n                                      38\n",
              "\\n03/2022\\n                                      36\n",
              "\\n06/2021\\n                                      34\n",
              "                                              ...  \n",
              "['\\n12/2018\\n', '\\n97 g CO2/km (comb)\\n']         1\n",
              "['\\n03/2022\\n', '\\n1 (No sticker)\\n']             1\n",
              "['\\n05/2021\\n', '\\n93 g CO2/km (comb)\\n']         1\n",
              "['\\n06/2021\\n', '\\n93 g CO2/km (comb)\\n']         1\n",
              "['\\n01/2022\\n', '\\n168 g CO2/km (comb)\\n']        1\n",
              "Name: Next Inspection, Length: 1400, dtype: int64"
            ]
          },
          "metadata": {},
          "execution_count": 84
        }
      ],
      "source": [
        "df[\"Next Inspection\"].astype('str').value_counts(dropna=False)"
      ]
    },
    {
      "cell_type": "code",
      "execution_count": 85,
      "metadata": {
        "colab": {
          "base_uri": "https://localhost:8080/"
        },
        "id": "0mdfEsNKI8YB",
        "outputId": "05efbc2e-60aa-40a3-d4e0-dfe5286f1854"
      },
      "outputs": [
        {
          "output_type": "execute_result",
          "data": {
            "text/plain": [
              "nan                                                                                                            11987\n",
              "['\\nYes\\n', '\\nEuro 6\\n']                                                                                        523\n",
              "\\nYes\\n                                                                                                          362\n",
              "['\\nYes\\n', '\\n102 g CO2/km (comb)\\n']                                                                           174\n",
              "['\\nYes\\n', '\\n4 (Green)\\n']                                                                                     166\n",
              "                                                                                                               ...  \n",
              "['\\nYes\\n', '\\n', '6 l/100 km (comb)', '\\n', '8 l/100 km (city)', '\\n', '4.9 l/100 km (country)', '\\n']            1\n",
              "['\\nYes\\n', '\\n', '6.8 l/100 km (comb)', '\\n', '8.5 l/100 km (city)', '\\n', '6.1 l/100 km (country)', '\\n']        1\n",
              "['\\nYes\\n', '\\n', '4.1 l/100 km (comb)', '\\n', '7.5 l/100 km (city)', '\\n', '5.2 l/100 km (country)', '\\n']        1\n",
              "['\\nYes\\n', '\\n', '5.2 l/100 km (comb)', '\\n', '6.8 l/100 km (city)', '\\n', '4.3 l/100 km (country)', '\\n']        1\n",
              "['\\nYes\\n', '\\n172 g CO2/km (comb)\\n']                                                                             1\n",
              "Name: Inspection new, Length: 203, dtype: int64"
            ]
          },
          "metadata": {},
          "execution_count": 85
        }
      ],
      "source": [
        "df[\"Inspection new\"].astype('str').value_counts(dropna=False)"
      ]
    },
    {
      "cell_type": "code",
      "execution_count": 86,
      "metadata": {
        "id": "8Dn59HnoI8YC"
      },
      "outputs": [],
      "source": [
        "df[\"Inspection_new\"] = [item[0] if type(item) == list else item for item in df[\"Inspection new\"]]\n",
        "\n",
        "df[\"Inspection_new\"] = df[\"Inspection_new\"].str.strip(\"\\n\")"
      ]
    },
    {
      "cell_type": "code",
      "execution_count": 87,
      "metadata": {
        "colab": {
          "base_uri": "https://localhost:8080/"
        },
        "id": "LndZa7c-I8YC",
        "outputId": "0dadcefb-7252-4ed7-976d-44d61bf539f7"
      },
      "outputs": [
        {
          "output_type": "execute_result",
          "data": {
            "text/plain": [
              "NaN    11987\n",
              "Yes     3932\n",
              "Name: Inspection_new, dtype: int64"
            ]
          },
          "metadata": {},
          "execution_count": 87
        }
      ],
      "source": [
        "df[\"Inspection_new\"].value_counts(dropna=False)"
      ]
    },
    {
      "cell_type": "code",
      "execution_count": 88,
      "metadata": {
        "id": "QB6LM6HTI8YC"
      },
      "outputs": [],
      "source": [
        "df.drop([\"Next Inspection\", \"Inspection new\"], axis=1, inplace=True)"
      ]
    },
    {
      "cell_type": "markdown",
      "metadata": {
        "id": "v8gVa7efI8YC"
      },
      "source": [
        "## Warranty"
      ]
    },
    {
      "cell_type": "code",
      "execution_count": 89,
      "metadata": {
        "colab": {
          "base_uri": "https://localhost:8080/"
        },
        "id": "u2q0q_PzI8YD",
        "outputId": "f0aa2fb8-67cc-4f4d-da82-7b5591d8ce39"
      },
      "outputs": [
        {
          "output_type": "execute_result",
          "data": {
            "text/plain": [
              "nan                                                                                                                5420\n",
              "['\\n', '\\n', '\\nEuro 6\\n']                                                                                         1868\n",
              "\\n12 months\\n                                                                                                      1177\n",
              "\\n                                                                                                                  979\n",
              "\\n24 months\\n                                                                                                       566\n",
              "                                                                                                                   ... \n",
              "['\\n72 months\\n', '\\n125 g CO2/km (comb)\\n']                                                                          1\n",
              "['\\n60 months\\n', '\\n14 g CO2/km (comb)\\n']                                                                           1\n",
              "['\\n24 months\\n', '\\n121 g CO2/km (comb)\\n']                                                                          1\n",
              "['\\n12 months\\n', '\\nEuro 6d\\n']                                                                                      1\n",
              "['\\n36 months\\n', '\\n', '7.4 l/100 km (comb)', '\\n', '9.6 l/100 km (city)', '\\n', '6 l/100 km (country)', '\\n']       1\n",
              "Name: Warranty, Length: 516, dtype: int64"
            ]
          },
          "metadata": {},
          "execution_count": 89
        }
      ],
      "source": [
        "df.Warranty.astype('str').value_counts(dropna=False)"
      ]
    },
    {
      "cell_type": "code",
      "execution_count": 90,
      "metadata": {
        "id": "_5SgXGWqI8YD"
      },
      "outputs": [],
      "source": [
        "df[\"Warranty\"] = df.Warranty.apply(lambda x : x[0] if type(x)==list else x)\n",
        "\n",
        "df[\"Warranty\"] = df.Warranty.str.strip(\"\\n\").str.extract('(\\d{1,2})').astype(\"float\") # str.extract('(\\d+)')"
      ]
    },
    {
      "cell_type": "code",
      "execution_count": 91,
      "metadata": {
        "colab": {
          "base_uri": "https://localhost:8080/"
        },
        "id": "BVuHPntQI8YD",
        "outputId": "f425b7d1-a5e9-4c52-f11a-e3fad942d2e6"
      },
      "outputs": [
        {
          "output_type": "execute_result",
          "data": {
            "text/plain": [
              "NaN      11066\n",
              "12.00     2594\n",
              "24.00     1118\n",
              "60.00      401\n",
              "36.00      279\n",
              "48.00      149\n",
              "6.00       125\n",
              "72.00       59\n",
              "3.00        33\n",
              "23.00       11\n",
              "18.00       10\n",
              "20.00        7\n",
              "25.00        6\n",
              "2.00         5\n",
              "50.00        4\n",
              "26.00        4\n",
              "16.00        4\n",
              "4.00         3\n",
              "1.00         3\n",
              "19.00        3\n",
              "34.00        3\n",
              "13.00        3\n",
              "28.00        2\n",
              "22.00        2\n",
              "14.00        2\n",
              "11.00        2\n",
              "46.00        2\n",
              "21.00        2\n",
              "9.00         2\n",
              "17.00        2\n",
              "45.00        2\n",
              "33.00        1\n",
              "40.00        1\n",
              "65.00        1\n",
              "10.00        1\n",
              "15.00        1\n",
              "7.00         1\n",
              "8.00         1\n",
              "56.00        1\n",
              "49.00        1\n",
              "47.00        1\n",
              "30.00        1\n",
              "Name: Warranty, dtype: int64"
            ]
          },
          "metadata": {},
          "execution_count": 91
        }
      ],
      "source": [
        "df.Warranty.value_counts(dropna=False)"
      ]
    },
    {
      "cell_type": "markdown",
      "metadata": {
        "id": "B-q2DhXMI8YD"
      },
      "source": [
        "## Full Service"
      ]
    },
    {
      "cell_type": "code",
      "execution_count": 92,
      "metadata": {
        "colab": {
          "base_uri": "https://localhost:8080/"
        },
        "id": "1mtkuKqVI8YE",
        "outputId": "1b9b7366-4327-47b3-9cd6-258f7f4becd0"
      },
      "outputs": [
        {
          "output_type": "execute_result",
          "data": {
            "text/plain": [
              "nan                                                                                                             7704\n",
              "['\\n', '\\n', '\\n4 (Green)\\n']                                                                                   2235\n",
              "['\\n', '\\n', '\\nEuro 6\\n']                                                                                      2097\n",
              "['\\n', '\\n']                                                                                                    1702\n",
              "['\\n', '\\n', '\\nEuro 6d-TEMP\\n']                                                                                 399\n",
              "                                                                                                                ... \n",
              "['\\n', '\\n', '\\n80 g CO2/km (comb)\\n']                                                                             1\n",
              "['\\n', '\\n', '\\n84 g CO2/km (comb)\\n']                                                                             1\n",
              "['\\n', '\\n', '\\n', '6 l/100 km (comb)', '\\n', '8 l/100 km (city)', '\\n', '4.9 l/100 km (country)', '\\n']           1\n",
              "['\\n', '\\n', '\\n', '4.9 l/100 km (comb)', '\\n', '6.2 l/100 km (city)', '\\n', '4.1 l/100 km (country)', '\\n']       1\n",
              "['\\n', '\\n', '\\nEuro 4\\n']                                                                                         1\n",
              "Name: Full Service, Length: 123, dtype: int64"
            ]
          },
          "metadata": {},
          "execution_count": 92
        }
      ],
      "source": [
        "df['Full Service'].astype('str').value_counts(dropna=False)"
      ]
    },
    {
      "cell_type": "code",
      "execution_count": 93,
      "metadata": {
        "id": "TM5mP6GbI8YE"
      },
      "outputs": [],
      "source": [
        "df.drop(\"Full Service\", axis=1, inplace=True)"
      ]
    },
    {
      "cell_type": "markdown",
      "metadata": {
        "id": "fHCoKdGVI8YG"
      },
      "source": [
        "## Non-smoking Vehicle"
      ]
    },
    {
      "cell_type": "code",
      "execution_count": 94,
      "metadata": {
        "colab": {
          "base_uri": "https://localhost:8080/",
          "height": 1000
        },
        "id": "ZY-qr8WLI8YG",
        "outputId": "c2f86b78-37b7-410e-b928-15722a63805e"
      },
      "outputs": [
        {
          "output_type": "error",
          "ename": "TypeError",
          "evalue": "ignored",
          "traceback": [
            "\u001b[0;31m---------------------------------------------------------------------------\u001b[0m",
            "\u001b[0;31mTypeError\u001b[0m                                 Traceback (most recent call last)",
            "\u001b[0;32mpandas/_libs/hashtable_class_helper.pxi\u001b[0m in \u001b[0;36mpandas._libs.hashtable.PyObjectHashTable.map_locations\u001b[0;34m()\u001b[0m\n",
            "\u001b[0;31mTypeError\u001b[0m: unhashable type: 'list'"
          ]
        },
        {
          "output_type": "stream",
          "name": "stderr",
          "text": [
            "Exception ignored in: 'pandas._libs.index.IndexEngine._call_map_locations'\n",
            "Traceback (most recent call last):\n",
            "  File \"pandas/_libs/hashtable_class_helper.pxi\", line 5231, in pandas._libs.hashtable.PyObjectHashTable.map_locations\n",
            "TypeError: unhashable type: 'list'\n"
          ]
        },
        {
          "output_type": "execute_result",
          "data": {
            "text/plain": [
              "NaN                                                                                           8742\n",
              "[\\n, \\n]                                                                                      3647\n",
              "[\\n, \\n, \\n4 (Green)\\n]                                                                       1240\n",
              "[\\n, \\n, \\nEuro 6\\n]                                                                          1127\n",
              "[\\n, \\n, \\nEuro 6d-TEMP\\n]                                                                     345\n",
              "\\n                                                                                              70\n",
              "[\\n, \\n, \\n120 g CO2/km (comb)\\n]                                                               63\n",
              "[\\n, \\n, \\n85 g CO2/km (comb)\\n]                                                                46\n",
              "[\\n, \\n, \\n104 g CO2/km (comb)\\n]                                                               36\n",
              "[\\n, \\n, \\n107 g CO2/km (comb)\\n]                                                               36\n",
              "[\\n, \\n, \\n153 g CO2/km (comb)\\n]                                                               31\n",
              "[\\n, \\n, \\n124 g CO2/km (comb)\\n]                                                               29\n",
              "[\\n, \\n, \\n1 (No sticker)\\n]                                                                    24\n",
              "[\\n, \\n, \\n99 g CO2/km (comb)\\n]                                                                23\n",
              "[\\n, \\n, \\n106 g CO2/km (comb)\\n]                                                               20\n",
              "[\\n, \\n, \\n97 g CO2/km (comb)\\n]                                                                20\n",
              "[\\n, \\n, \\n108 g CO2/km (comb)\\n]                                                               19\n",
              "[\\n, \\n, \\n113 g CO2/km (comb)\\n]                                                               18\n",
              "[\\n, \\n, \\n100 g CO2/km (comb)\\n]                                                               18\n",
              "[\\n, \\n, \\n109 g CO2/km (comb)\\n]                                                               18\n",
              "[\\n, \\n, \\n105 g CO2/km (comb)\\n]                                                               18\n",
              "[\\n, \\n, \\nEuro 6c\\n]                                                                           17\n",
              "[\\n, \\n, \\n98 g CO2/km (comb)\\n]                                                                15\n",
              "[\\n, \\n, \\n129 g CO2/km (comb)\\n]                                                               14\n",
              "[\\n, \\n, \\n131 g CO2/km (comb)\\n]                                                               13\n",
              "[\\n, \\n, \\n133 g CO2/km (comb)\\n]                                                               12\n",
              "[\\n, \\n, \\n103 g CO2/km (comb)\\n]                                                               12\n",
              "[\\n, \\n, \\n114 g CO2/km (comb)\\n]                                                               12\n",
              "[\\n, \\n, \\n116 g CO2/km (comb)\\n]                                                               11\n",
              "[\\n, \\n, \\n135 g CO2/km (comb)\\n]                                                               11\n",
              "[\\n, \\n, \\n102 g CO2/km (comb)\\n]                                                               11\n",
              "[\\n, \\n, \\n127 g CO2/km (comb)\\n]                                                               10\n",
              "[\\n, \\n, \\n143 g CO2/km (comb)\\n]                                                               10\n",
              "[\\n, \\n, \\n92 g CO2/km (comb)\\n]                                                                 9\n",
              "[\\n, \\n, \\nEuro 6d\\n]                                                                            9\n",
              "[\\n, \\n, \\n112 g CO2/km (comb)\\n]                                                                9\n",
              "[\\n, \\n, \\n5 (Blue)\\n]                                                                           8\n",
              "[\\n, \\n, \\n118 g CO2/km (comb)\\n]                                                                8\n",
              "[\\n, \\n, \\n139 g CO2/km (comb)\\n]                                                                7\n",
              "[\\n, \\n, \\n128 g CO2/km (comb)\\n]                                                                7\n",
              "[\\n, \\n, \\n147 g CO2/km (comb)\\n]                                                                7\n",
              "[\\n, \\n, \\n126 g CO2/km (comb)\\n]                                                                6\n",
              "[\\n, \\n, \\n137 g CO2/km (comb)\\n]                                                                6\n",
              "[\\n, \\n, \\n117 g CO2/km (comb)\\n]                                                                6\n",
              "[\\n, \\n, \\n140 g CO2/km (comb)\\n]                                                                6\n",
              "[\\n, \\n, \\n130 g CO2/km (comb)\\n]                                                                5\n",
              "[\\n, \\n, \\n115 g CO2/km (comb)\\n]                                                                5\n",
              "[\\n, \\n, \\nEuro 5\\n]                                                                             4\n",
              "[\\n, \\n, \\n, 5.2 l/100 km (comb), \\n, 5.8 l/100 km (city), \\n, 4.8 l/100 km (country), \\n]       4\n",
              "[\\n, \\n, \\n123 g CO2/km (comb)\\n]                                                                4\n",
              "[\\n, \\n, \\n151 g CO2/km (comb)\\n]                                                                4\n",
              "[\\n, \\n, \\n95 g CO2/km (comb)\\n]                                                                 3\n",
              "[\\n, \\n, \\n119 g CO2/km (comb)\\n]                                                                3\n",
              "[\\n, \\n, \\n148 g CO2/km (comb)\\n]                                                                3\n",
              "[\\n, \\n, \\n157 g CO2/km (comb)\\n]                                                                3\n",
              "[\\n, \\n, \\n136 g CO2/km (comb)\\n]                                                                3\n",
              "[\\n, \\n, \\n110 g CO2/km (comb)\\n]                                                                3\n",
              "[\\n, \\n, \\n149 g CO2/km (comb)\\n]                                                                3\n",
              "[\\n, \\n, \\n138 g CO2/km (comb)\\n]                                                                2\n",
              "[\\n, \\n, \\n125 g CO2/km (comb)\\n]                                                                2\n",
              "[\\n, \\n, \\n, 5.2 l/100 km (comb), \\n, 6.4 l/100 km (city), \\n, 4.4 l/100 km (country), \\n]       2\n",
              "[\\n, \\n, \\n166 g CO2/km (comb)\\n]                                                                2\n",
              "[\\n, \\n, \\n121 g CO2/km (comb)\\n]                                                                2\n",
              "[\\n, \\n, \\n142 g CO2/km (comb)\\n]                                                                2\n",
              "[\\n, \\n, \\n90 g CO2/km (comb)\\n]                                                                 2\n",
              "[\\n, \\n, \\n111 g CO2/km (comb)\\n]                                                                2\n",
              "[\\n, \\n, \\n134 g CO2/km (comb)\\n]                                                                2\n",
              "[\\n, \\n, \\n, 6.5 l/100 km (comb), \\n, 8.5 l/100 km (city), \\n, 5.4 l/100 km (country), \\n]       1\n",
              "[\\n, \\n, \\n, 6.4 l/100 km (comb), \\n, 8.1 l/100 km (city), \\n, 5.4 l/100 km (country), \\n]       1\n",
              "[\\n, \\n, \\n161 g CO2/km (comb)\\n]                                                                1\n",
              "[\\n, \\n, \\n172 g CO2/km (comb)\\n]                                                                1\n",
              "[\\n, \\n, \\n189 g CO2/km (comb)\\n]                                                                1\n",
              "[\\n, \\n, \\n82 g CO2/km (comb)\\n]                                                                 1\n",
              "[\\n, \\n, \\n154 g CO2/km (comb)\\n]                                                                1\n",
              "[\\n, \\n, \\n, 6.5 l/100 km (comb), \\n, 7.9 l/100 km (city), \\n, 5.6 l/100 km (country), \\n]       1\n",
              "[\\n, \\n, \\n, 6.3 l/100 km (comb), \\n, 8 l/100 km (city), \\n, 5.3 l/100 km (country), \\n]         1\n",
              "[\\n, \\n, \\n146 g CO2/km (comb)\\n]                                                                1\n",
              "[\\n, \\n, \\n, 5.7 l/100 km (comb), \\n, 7.3 l/100 km (city), \\n, 4.7 l/100 km (country), \\n]       1\n",
              "[\\n, \\n, \\n, 6.1 l/100 km (comb), \\n, 7.7 l/100 km (city), \\n, 5.2 l/100 km (country), \\n]       1\n",
              "[\\n, \\n, \\n156 g CO2/km (comb)\\n]                                                                1\n",
              "[\\n, \\n, \\n, 6.1 l/100 km (comb), \\n, 7.8 l/100 km (city), \\n, 5.1 l/100 km (country), \\n]       1\n",
              "[\\n, \\n, \\n, 6.2 l/100 km (comb), \\n, 7.9 l/100 km (city), \\n, 5.3 l/100 km (country), \\n]       1\n",
              "[\\n, \\n, \\n152 g CO2/km (comb)\\n]                                                                1\n",
              "[\\n, \\n, \\n144 g CO2/km (comb)\\n]                                                                1\n",
              "[\\n, \\n, \\n132 g CO2/km (comb)\\n]                                                                1\n",
              "[\\n, \\n, \\n, 1.6 l/100 km (comb), \\n, \\n, \\n]                                                    1\n",
              "[\\n, \\n, \\n169 g CO2/km (comb)\\n]                                                                1\n",
              "[\\n, \\n, \\n101 g CO2/km (comb)\\n]                                                                1\n",
              "[\\n, \\n, \\n159 g CO2/km (comb)\\n]                                                                1\n",
              "[\\n, \\n, \\n91 g CO2/km (comb)\\n]                                                                 1\n",
              "[\\n, \\n, \\n, 5.6 l/100 km (comb), \\n, 7.3 l/100 km (city), \\n, 4.7 l/100 km (country), \\n]       1\n",
              "[\\n, \\n, \\n122 g CO2/km (comb)\\n]                                                                1\n",
              "[\\n, \\n, \\n158 g CO2/km (comb)\\n]                                                                1\n",
              "[\\n, \\n, \\n150 g CO2/km (comb)\\n]                                                                1\n",
              "[\\n, \\n, \\n175 g CO2/km (comb)\\n]                                                                1\n",
              "Name: Non-smoking Vehicle, dtype: int64"
            ]
          },
          "metadata": {},
          "execution_count": 94
        }
      ],
      "source": [
        "df['Non-smoking Vehicle'].value_counts(dropna=False)"
      ]
    },
    {
      "cell_type": "code",
      "execution_count": 95,
      "metadata": {
        "id": "JIi6CnqLI8YH"
      },
      "outputs": [],
      "source": [
        "df.drop(\"Non-smoking Vehicle\", axis=1, inplace=True)"
      ]
    },
    {
      "cell_type": "markdown",
      "metadata": {
        "id": "AhqT4kFGI8YH"
      },
      "source": [
        "## Offer Number"
      ]
    },
    {
      "cell_type": "code",
      "execution_count": 96,
      "metadata": {
        "colab": {
          "base_uri": "https://localhost:8080/"
        },
        "id": "tDusUCPmI8YH",
        "outputId": "9d5bde2f-d772-4e6e-ceab-a8373d6fe5be"
      },
      "outputs": [
        {
          "output_type": "execute_result",
          "data": {
            "text/plain": [
              "nan                                                 3175\n",
              "['\\nLT67679\\n']                                       27\n",
              "['\\nUN89904\\n']                                       27\n",
              "['\\nXJ38068\\n']                                       27\n",
              "['\\nJV03654\\n']                                       27\n",
              "                                                    ... \n",
              "['\\n160_dcbb6c3e-a6da-43a3-8754-ccd994cec93b\\n']       1\n",
              "['\\n6701576\\n']                                        1\n",
              "['\\n6701569\\n']                                        1\n",
              "['\\n158121\\n']                                         1\n",
              "['\\nRe_30000008029\\n']                                 1\n",
              "Name: Offer Number, Length: 11441, dtype: int64"
            ]
          },
          "metadata": {},
          "execution_count": 96
        }
      ],
      "source": [
        "df['Offer Number'].astype('str').value_counts(dropna=False)"
      ]
    },
    {
      "cell_type": "code",
      "execution_count": 97,
      "metadata": {
        "id": "Dv1ex0SnI8YH"
      },
      "outputs": [],
      "source": [
        "df.drop(\"Offer Number\", axis=1, inplace=True)"
      ]
    },
    {
      "cell_type": "markdown",
      "metadata": {
        "id": "YqE7LFrYI8YI"
      },
      "source": [
        "## Body Color"
      ]
    },
    {
      "cell_type": "code",
      "execution_count": 98,
      "metadata": {
        "colab": {
          "base_uri": "https://localhost:8080/"
        },
        "id": "6VuawqsSI8YI",
        "outputId": "822684d7-ac67-4abd-a86d-0f0548d7bdbc"
      },
      "outputs": [
        {
          "output_type": "execute_result",
          "data": {
            "text/plain": [
              "['\\n', 'Black', '\\n']     3745\n",
              "['\\n', 'Grey', '\\n']      3505\n",
              "['\\n', 'White', '\\n']     3406\n",
              "['\\n', 'Silver', '\\n']    1647\n",
              "['\\n', 'Blue', '\\n']      1431\n",
              "['\\n', 'Red', '\\n']        957\n",
              "nan                        597\n",
              "['\\n', 'Brown', '\\n']      289\n",
              "['\\n', 'Green', '\\n']      154\n",
              "['\\n', 'Beige', '\\n']      108\n",
              "['\\n', 'Yellow', '\\n']      51\n",
              "['\\n', 'Violet', '\\n']      18\n",
              "['\\n', 'Bronze', '\\n']       6\n",
              "['\\n', 'Orange', '\\n']       3\n",
              "['\\n', 'Gold', '\\n']         2\n",
              "Name: Body Color, dtype: int64"
            ]
          },
          "metadata": {},
          "execution_count": 98
        }
      ],
      "source": [
        "df['Body Color'].astype('str').value_counts(dropna=False)"
      ]
    },
    {
      "cell_type": "code",
      "execution_count": 99,
      "metadata": {
        "id": "blru3IOGI8YI"
      },
      "outputs": [],
      "source": [
        "df.drop(\"Body Color\", axis=1, inplace=True)"
      ]
    },
    {
      "cell_type": "markdown",
      "metadata": {
        "id": "secjotQ1I8YJ"
      },
      "source": [
        "## Body Color Original"
      ]
    },
    {
      "cell_type": "code",
      "execution_count": 100,
      "metadata": {
        "colab": {
          "base_uri": "https://localhost:8080/"
        },
        "id": "XBhQKWMnI8YJ",
        "outputId": "804ec6e7-67b7-45d8-b218-05344f3ce58e"
      },
      "outputs": [
        {
          "output_type": "execute_result",
          "data": {
            "text/plain": [
              "nan                                      3759\n",
              "['\\nOnyx Schwarz\\n']                      338\n",
              "['\\nBianco\\n']                            282\n",
              "['\\nMythosschwarz Metallic\\n']            238\n",
              "['\\nBrillantschwarz\\n']                   216\n",
              "                                         ... \n",
              "['\\nRouge-Braun (G0Y)\\n']                   1\n",
              "['\\nVARI COLRI DISPONIBILI\\n']              1\n",
              "['\\nKokosnussbraun Metallic\\n']             1\n",
              "['\\nFarbe frei wählbar\\n']                  1\n",
              "['\\nPerlmutt-Weiß Metallic (Weiß)\\n']       1\n",
              "Name: Body Color Original, Length: 1928, dtype: int64"
            ]
          },
          "metadata": {},
          "execution_count": 100
        }
      ],
      "source": [
        "df['Body Color Original'].astype('str').value_counts(dropna=False)"
      ]
    },
    {
      "cell_type": "code",
      "execution_count": 101,
      "metadata": {
        "id": "yQwTNV73I8YK"
      },
      "outputs": [],
      "source": [
        "df.drop(\"Body Color Original\", axis=1, inplace=True)"
      ]
    },
    {
      "cell_type": "markdown",
      "metadata": {
        "id": "Mxp3hscJI8YK"
      },
      "source": [
        "## Paint Type"
      ]
    },
    {
      "cell_type": "code",
      "execution_count": 102,
      "metadata": {
        "colab": {
          "base_uri": "https://localhost:8080/"
        },
        "id": "EgyV5We5I8YK",
        "outputId": "f0d8e0dd-1871-403b-b432-5f37bf39ed0d"
      },
      "outputs": [
        {
          "output_type": "execute_result",
          "data": {
            "text/plain": [
              "['\\nMetallic\\n']       9794\n",
              "nan                    5772\n",
              "['\\nUni/basic\\n']       347\n",
              "['\\nPerl effect\\n']       6\n",
              "Name: Paint Type, dtype: int64"
            ]
          },
          "metadata": {},
          "execution_count": 102
        }
      ],
      "source": [
        "df['Paint Type'].astype('str').value_counts(dropna=False)"
      ]
    },
    {
      "cell_type": "code",
      "execution_count": 103,
      "metadata": {
        "id": "pHV2dFfYI8YL"
      },
      "outputs": [],
      "source": [
        "df['Paint_Type'] = df['Paint Type'].str[0].str.strip('\\n')"
      ]
    },
    {
      "cell_type": "code",
      "execution_count": 104,
      "metadata": {
        "colab": {
          "base_uri": "https://localhost:8080/"
        },
        "id": "hMwEUqULI8YL",
        "outputId": "0bc0c68e-3f3b-4d33-dddd-cff95f1858c3"
      },
      "outputs": [
        {
          "output_type": "execute_result",
          "data": {
            "text/plain": [
              "Metallic       9794\n",
              "NaN            5772\n",
              "Uni/basic       347\n",
              "Perl effect       6\n",
              "Name: Paint_Type, dtype: int64"
            ]
          },
          "metadata": {},
          "execution_count": 104
        }
      ],
      "source": [
        "df['Paint_Type'].value_counts(dropna=False)"
      ]
    },
    {
      "cell_type": "code",
      "execution_count": 105,
      "metadata": {
        "id": "idS8WAOcI8YM"
      },
      "outputs": [],
      "source": [
        "df.drop(\"Paint Type\", axis=1, inplace=True)"
      ]
    },
    {
      "cell_type": "markdown",
      "metadata": {
        "id": "pf1ewN7mI8YM"
      },
      "source": [
        "## Upholstery"
      ]
    },
    {
      "cell_type": "code",
      "execution_count": 106,
      "metadata": {
        "colab": {
          "base_uri": "https://localhost:8080/"
        },
        "id": "nVJ12mKlI8YM",
        "outputId": "495f7e3d-6055-4f12-cc92-3a354047e9af"
      },
      "outputs": [
        {
          "output_type": "execute_result",
          "data": {
            "text/plain": [
              "['\\nCloth, Black\\n']           5821\n",
              "nan                            3720\n",
              "['\\nPart leather, Black\\n']    1121\n",
              "['\\nCloth\\n']                  1005\n",
              "['\\nCloth, Grey\\n']             891\n",
              "['\\nCloth, Other\\n']            639\n",
              "['\\nFull leather, Black\\n']     575\n",
              "['\\nBlack\\n']                   491\n",
              "['\\nGrey\\n']                    273\n",
              "['\\nOther, Other\\n']            182\n",
              "['\\nPart leather\\n']            140\n",
              "['\\nFull leather\\n']            139\n",
              "['\\nFull leather, Brown\\n']     116\n",
              "['\\nPart leather, Grey\\n']      116\n",
              "['\\nOther, Black\\n']            110\n",
              "['\\nFull leather, Other\\n']      72\n",
              "['\\nFull leather, Grey\\n']       67\n",
              "['\\nPart leather, Other\\n']      65\n",
              "['\\nOther\\n']                    56\n",
              "['\\nPart leather, Brown\\n']      50\n",
              "['\\nalcantara, Black\\n']         47\n",
              "['\\nVelour, Black\\n']            36\n",
              "['\\nFull leather, Beige\\n']      36\n",
              "['\\nCloth, Brown\\n']             28\n",
              "['\\nVelour\\n']                   16\n",
              "['\\nOther, Grey\\n']              15\n",
              "['\\nCloth, Beige\\n']             13\n",
              "['\\nBrown\\n']                    12\n",
              "['\\nCloth, Blue\\n']              12\n",
              "['\\nVelour, Grey\\n']              8\n",
              "['\\nCloth, White\\n']              8\n",
              "['\\nalcantara, Grey\\n']           6\n",
              "['\\nCloth, Red\\n']                5\n",
              "['\\nOther, Yellow\\n']             4\n",
              "['\\nPart leather, Red\\n']         3\n",
              "['\\nBeige\\n']                     3\n",
              "['\\nPart leather, White\\n']       2\n",
              "['\\nFull leather, Blue\\n']        2\n",
              "['\\nalcantara, Other\\n']          2\n",
              "['\\nalcantara\\n']                 2\n",
              "['\\nWhite\\n']                     2\n",
              "['\\nPart leather, Beige\\n']       2\n",
              "['\\nBlue\\n']                      2\n",
              "['\\nCloth, Orange\\n']             1\n",
              "['\\nFull leather, Red\\n']         1\n",
              "['\\nOther, Brown\\n']              1\n",
              "['\\nFull leather, White\\n']       1\n",
              "Name: Upholstery, dtype: int64"
            ]
          },
          "metadata": {},
          "execution_count": 106
        }
      ],
      "source": [
        "df['Upholstery'].astype('str').value_counts(dropna=False)"
      ]
    },
    {
      "cell_type": "code",
      "execution_count": 107,
      "metadata": {
        "id": "bOiU3844I8YN"
      },
      "outputs": [],
      "source": [
        "df[\"Upholstery\"] = [item[0] if type(item) == list else item for item in df.Upholstery]"
      ]
    },
    {
      "cell_type": "code",
      "execution_count": 108,
      "metadata": {
        "colab": {
          "base_uri": "https://localhost:8080/"
        },
        "id": "w3h3eGRPI8YN",
        "outputId": "44a7794c-c79a-4021-d4a6-78147d152a7c"
      },
      "outputs": [
        {
          "output_type": "execute_result",
          "data": {
            "text/plain": [
              "\\nCloth, Black\\n           5821\n",
              "NaN                        3720\n",
              "\\nPart leather, Black\\n    1121\n",
              "\\nCloth\\n                  1005\n",
              "\\nCloth, Grey\\n             891\n",
              "\\nCloth, Other\\n            639\n",
              "\\nFull leather, Black\\n     575\n",
              "\\nBlack\\n                   491\n",
              "\\nGrey\\n                    273\n",
              "\\nOther, Other\\n            182\n",
              "\\nPart leather\\n            140\n",
              "\\nFull leather\\n            139\n",
              "\\nFull leather, Brown\\n     116\n",
              "\\nPart leather, Grey\\n      116\n",
              "\\nOther, Black\\n            110\n",
              "\\nFull leather, Other\\n      72\n",
              "\\nFull leather, Grey\\n       67\n",
              "\\nPart leather, Other\\n      65\n",
              "\\nOther\\n                    56\n",
              "\\nPart leather, Brown\\n      50\n",
              "\\nalcantara, Black\\n         47\n",
              "\\nVelour, Black\\n            36\n",
              "\\nFull leather, Beige\\n      36\n",
              "\\nCloth, Brown\\n             28\n",
              "\\nVelour\\n                   16\n",
              "\\nOther, Grey\\n              15\n",
              "\\nCloth, Beige\\n             13\n",
              "\\nBrown\\n                    12\n",
              "\\nCloth, Blue\\n              12\n",
              "\\nVelour, Grey\\n              8\n",
              "\\nCloth, White\\n              8\n",
              "\\nalcantara, Grey\\n           6\n",
              "\\nCloth, Red\\n                5\n",
              "\\nOther, Yellow\\n             4\n",
              "\\nPart leather, Red\\n         3\n",
              "\\nBeige\\n                     3\n",
              "\\nPart leather, White\\n       2\n",
              "\\nFull leather, Blue\\n        2\n",
              "\\nalcantara, Other\\n          2\n",
              "\\nalcantara\\n                 2\n",
              "\\nWhite\\n                     2\n",
              "\\nPart leather, Beige\\n       2\n",
              "\\nBlue\\n                      2\n",
              "\\nCloth, Orange\\n             1\n",
              "\\nFull leather, Red\\n         1\n",
              "\\nOther, Brown\\n              1\n",
              "\\nFull leather, White\\n       1\n",
              "Name: Upholstery, dtype: int64"
            ]
          },
          "metadata": {},
          "execution_count": 108
        }
      ],
      "source": [
        "df[\"Upholstery\"].value_counts(dropna=False)"
      ]
    },
    {
      "cell_type": "code",
      "execution_count": 109,
      "metadata": {
        "id": "GaxVhADOI8YN"
      },
      "outputs": [],
      "source": [
        "df[\"Upholstery\"] = df.Upholstery.str.strip(\"\\n\").str.split(\", \")"
      ]
    },
    {
      "cell_type": "code",
      "execution_count": 110,
      "metadata": {
        "colab": {
          "base_uri": "https://localhost:8080/"
        },
        "id": "dLXmKfbgI8YN",
        "outputId": "d623df4a-7e6b-47c7-abae-4215bc730f6f"
      },
      "outputs": [
        {
          "output_type": "execute_result",
          "data": {
            "text/plain": [
              "['Cloth', 'Black']           5821\n",
              "nan                          3720\n",
              "['Part leather', 'Black']    1121\n",
              "['Cloth']                    1005\n",
              "['Cloth', 'Grey']             891\n",
              "['Cloth', 'Other']            639\n",
              "['Full leather', 'Black']     575\n",
              "['Black']                     491\n",
              "['Grey']                      273\n",
              "['Other', 'Other']            182\n",
              "['Part leather']              140\n",
              "['Full leather']              139\n",
              "['Full leather', 'Brown']     116\n",
              "['Part leather', 'Grey']      116\n",
              "['Other', 'Black']            110\n",
              "['Full leather', 'Other']      72\n",
              "['Full leather', 'Grey']       67\n",
              "['Part leather', 'Other']      65\n",
              "['Other']                      56\n",
              "['Part leather', 'Brown']      50\n",
              "['alcantara', 'Black']         47\n",
              "['Velour', 'Black']            36\n",
              "['Full leather', 'Beige']      36\n",
              "['Cloth', 'Brown']             28\n",
              "['Velour']                     16\n",
              "['Other', 'Grey']              15\n",
              "['Cloth', 'Beige']             13\n",
              "['Brown']                      12\n",
              "['Cloth', 'Blue']              12\n",
              "['Velour', 'Grey']              8\n",
              "['Cloth', 'White']              8\n",
              "['alcantara', 'Grey']           6\n",
              "['Cloth', 'Red']                5\n",
              "['Other', 'Yellow']             4\n",
              "['Part leather', 'Red']         3\n",
              "['Beige']                       3\n",
              "['Part leather', 'White']       2\n",
              "['Full leather', 'Blue']        2\n",
              "['alcantara', 'Other']          2\n",
              "['alcantara']                   2\n",
              "['White']                       2\n",
              "['Part leather', 'Beige']       2\n",
              "['Blue']                        2\n",
              "['Cloth', 'Orange']             1\n",
              "['Full leather', 'Red']         1\n",
              "['Other', 'Brown']              1\n",
              "['Full leather', 'White']       1\n",
              "Name: Upholstery, dtype: int64"
            ]
          },
          "metadata": {},
          "execution_count": 110
        }
      ],
      "source": [
        "df[\"Upholstery\"].astype('str').value_counts(dropna=False)"
      ]
    },
    {
      "cell_type": "code",
      "execution_count": 111,
      "metadata": {
        "id": "3DruaI6sI8YO"
      },
      "outputs": [],
      "source": [
        "u_type = [\"Cloth\", 'Part leather', 'Full leather', 'Velour', 'alcantara']\n",
        "\n",
        "df[\"Upholstery_type\"] = df[\"Upholstery\"].apply(lambda x : x[0] if type(x) == list and x[0] in u_type else np.nan)"
      ]
    },
    {
      "cell_type": "code",
      "execution_count": 112,
      "metadata": {
        "colab": {
          "base_uri": "https://localhost:8080/"
        },
        "id": "4yWvcWFXI8YO",
        "outputId": "7d715a7f-6fee-40e4-a85d-9288c29f2b86"
      },
      "outputs": [
        {
          "output_type": "execute_result",
          "data": {
            "text/plain": [
              "Cloth           8423\n",
              "NaN             4871\n",
              "Part leather    1499\n",
              "Full leather    1009\n",
              "Velour            60\n",
              "alcantara         57\n",
              "Name: Upholstery_type, dtype: int64"
            ]
          },
          "metadata": {},
          "execution_count": 112
        }
      ],
      "source": [
        "df[\"Upholstery_type\"].value_counts(dropna=False)"
      ]
    },
    {
      "cell_type": "code",
      "execution_count": 113,
      "metadata": {
        "id": "vlCo8VbjI8YO"
      },
      "outputs": [],
      "source": [
        "color = ['Black', 'Grey', 'Brown', 'Beige', 'White', 'Blue', 'Red', 'Yellow', 'Orange']\n",
        "\n",
        "def color_finder(x):\n",
        "    if type(x) == list and len(x) == 2:\n",
        "        return x[1]\n",
        "    elif type(x) == list and x[0] in color:\n",
        "        return x[0]\n",
        "    else:\n",
        "        return np.nan\n",
        "    \n",
        "df['Upholstery_color'] = df.Upholstery.apply(color_finder)"
      ]
    },
    {
      "cell_type": "code",
      "execution_count": 114,
      "metadata": {
        "colab": {
          "base_uri": "https://localhost:8080/"
        },
        "id": "mtK5-2O3I8YP",
        "outputId": "6b460efe-2091-4251-d4e0-24d08a65d6a7"
      },
      "outputs": [
        {
          "output_type": "execute_result",
          "data": {
            "text/plain": [
              "Black     8201\n",
              "NaN       5078\n",
              "Grey      1376\n",
              "Other      960\n",
              "Brown      207\n",
              "Beige       54\n",
              "Blue        16\n",
              "White       13\n",
              "Red          9\n",
              "Yellow       4\n",
              "Orange       1\n",
              "Name: Upholstery_color, dtype: int64"
            ]
          },
          "metadata": {},
          "execution_count": 114
        }
      ],
      "source": [
        "df[\"Upholstery_color\"].value_counts(dropna=False)"
      ]
    },
    {
      "cell_type": "code",
      "execution_count": 115,
      "metadata": {
        "id": "rmoS1CdSI8YQ"
      },
      "outputs": [],
      "source": [
        "df.drop(\"Upholstery\", axis=1, inplace=True)"
      ]
    },
    {
      "cell_type": "markdown",
      "metadata": {
        "id": "THnDtxR8I8YQ"
      },
      "source": [
        "## Nr. of Doors"
      ]
    },
    {
      "cell_type": "code",
      "execution_count": 116,
      "metadata": {
        "colab": {
          "base_uri": "https://localhost:8080/"
        },
        "id": "JTPuMEC9I8YQ",
        "outputId": "e828f527-9893-441a-8530-132beb83abfb"
      },
      "outputs": [
        {
          "output_type": "execute_result",
          "data": {
            "text/plain": [
              "['\\n5\\n']    11575\n",
              "['\\n4\\n']     3079\n",
              "['\\n3\\n']      832\n",
              "['\\n2\\n']      219\n",
              "nan            212\n",
              "['\\n1\\n']        1\n",
              "['\\n7\\n']        1\n",
              "Name: Nr. of Doors, dtype: int64"
            ]
          },
          "metadata": {},
          "execution_count": 116
        }
      ],
      "source": [
        "df[\"Nr. of Doors\"].astype('str').value_counts(dropna=False)"
      ]
    },
    {
      "cell_type": "code",
      "execution_count": 117,
      "metadata": {
        "id": "S-kVfkwtI8YQ"
      },
      "outputs": [],
      "source": [
        "df['Nr_of_Doors'] = df['Nr. of Doors'].str[0].str.strip('\\n').astype('float')"
      ]
    },
    {
      "cell_type": "code",
      "execution_count": 118,
      "metadata": {
        "colab": {
          "base_uri": "https://localhost:8080/"
        },
        "id": "J5vjwElII8YR",
        "outputId": "cf161d38-79a5-4efc-8e5d-2ea423883631"
      },
      "outputs": [
        {
          "output_type": "execute_result",
          "data": {
            "text/plain": [
              "5.00    11575\n",
              "4.00     3079\n",
              "3.00      832\n",
              "2.00      219\n",
              "NaN       212\n",
              "1.00        1\n",
              "7.00        1\n",
              "Name: Nr_of_Doors, dtype: int64"
            ]
          },
          "metadata": {},
          "execution_count": 118
        }
      ],
      "source": [
        "df[\"Nr_of_Doors\"].value_counts(dropna=False)"
      ]
    },
    {
      "cell_type": "code",
      "execution_count": 119,
      "metadata": {
        "id": "-ab0vAOlI8YR"
      },
      "outputs": [],
      "source": [
        "df.drop(\"Nr. of Doors\", axis=1, inplace=True)"
      ]
    },
    {
      "cell_type": "markdown",
      "metadata": {
        "id": "EjZ4Hct_I8YR"
      },
      "source": [
        "## Nr. of Seats"
      ]
    },
    {
      "cell_type": "code",
      "execution_count": 120,
      "metadata": {
        "colab": {
          "base_uri": "https://localhost:8080/"
        },
        "id": "ENMHL8nTI8YS",
        "outputId": "ec36f8cf-efde-4ef6-f556-f6540bef9c20"
      },
      "outputs": [
        {
          "output_type": "execute_result",
          "data": {
            "text/plain": [
              "['\\n5\\n']    13336\n",
              "['\\n4\\n']     1125\n",
              "nan            977\n",
              "['\\n7\\n']      362\n",
              "['\\n2\\n']      116\n",
              "['\\n6\\n']        2\n",
              "['\\n3\\n']        1\n",
              "Name: Nr. of Seats, dtype: int64"
            ]
          },
          "metadata": {},
          "execution_count": 120
        }
      ],
      "source": [
        "df[\"Nr. of Seats\"].astype('str').value_counts(dropna=False)"
      ]
    },
    {
      "cell_type": "code",
      "execution_count": 121,
      "metadata": {
        "id": "ViUZV7ujI8YS"
      },
      "outputs": [],
      "source": [
        "df['Nr_of_Seats'] = df['Nr. of Seats'].str[0].str.strip('\\n').astype('float')"
      ]
    },
    {
      "cell_type": "code",
      "execution_count": 122,
      "metadata": {
        "colab": {
          "base_uri": "https://localhost:8080/"
        },
        "id": "9yqvRHp1I8YS",
        "outputId": "7cff14e3-e5b1-4b72-f31f-68e859183672"
      },
      "outputs": [
        {
          "output_type": "execute_result",
          "data": {
            "text/plain": [
              "5.00    13336\n",
              "4.00     1125\n",
              "NaN       977\n",
              "7.00      362\n",
              "2.00      116\n",
              "6.00        2\n",
              "3.00        1\n",
              "Name: Nr_of_Seats, dtype: int64"
            ]
          },
          "metadata": {},
          "execution_count": 122
        }
      ],
      "source": [
        "df[\"Nr_of_Seats\"].value_counts(dropna=False)"
      ]
    },
    {
      "cell_type": "code",
      "execution_count": 123,
      "metadata": {
        "id": "H7xa140OI8YS"
      },
      "outputs": [],
      "source": [
        "df.drop(\"Nr. of Seats\", axis=1, inplace=True)"
      ]
    },
    {
      "cell_type": "markdown",
      "metadata": {
        "id": "aaF5FfCQI8YS"
      },
      "source": [
        "## Model Code"
      ]
    },
    {
      "cell_type": "code",
      "execution_count": 124,
      "metadata": {
        "colab": {
          "base_uri": "https://localhost:8080/"
        },
        "id": "P-ldh4o9I8YT",
        "outputId": "26e49427-0c90-44e7-980a-d0cb0ef1c0a8"
      },
      "outputs": [
        {
          "output_type": "execute_result",
          "data": {
            "text/plain": [
              "nan                 10941\n",
              "['\\n0035/BCB\\n']      268\n",
              "['\\n0588/BNO\\n']      245\n",
              "['\\n0588/BDB\\n']      206\n",
              "['\\n0588/BHX\\n']      188\n",
              "                    ...  \n",
              "['\\n0035/AVN\\n']        1\n",
              "['\\n0035/BEM\\n']        1\n",
              "['\\n0035/BAG\\n']        1\n",
              "['\\n0035/BAA\\n']        1\n",
              "['\\n3333/BKG\\n']        1\n",
              "Name: Model Code, Length: 233, dtype: int64"
            ]
          },
          "metadata": {},
          "execution_count": 124
        }
      ],
      "source": [
        "df[\"Model Code\"].astype('str').value_counts(dropna=False)"
      ]
    },
    {
      "cell_type": "code",
      "execution_count": 125,
      "metadata": {
        "id": "XMYH_kTeI8YT"
      },
      "outputs": [],
      "source": [
        "df.drop(\"Model Code\", axis=1, inplace=True)"
      ]
    },
    {
      "cell_type": "markdown",
      "metadata": {
        "id": "sSlFLqCPI8YT"
      },
      "source": [
        "## Gearing Type"
      ]
    },
    {
      "cell_type": "code",
      "execution_count": 126,
      "metadata": {
        "colab": {
          "base_uri": "https://localhost:8080/"
        },
        "id": "X_HbzVHgI8YU",
        "outputId": "0b1101f3-e07c-4484-aded-ea88f6bca09d"
      },
      "outputs": [
        {
          "output_type": "execute_result",
          "data": {
            "text/plain": [
              "['\\n', 'Manual', '\\n']            8153\n",
              "['\\n', 'Automatic', '\\n']         7297\n",
              "['\\n', 'Semi-automatic', '\\n']     469\n",
              "Name: Gearing Type, dtype: int64"
            ]
          },
          "metadata": {},
          "execution_count": 126
        }
      ],
      "source": [
        "df[\"Gearing Type\"].astype('str').value_counts(dropna=False)"
      ]
    },
    {
      "cell_type": "code",
      "execution_count": 127,
      "metadata": {
        "id": "V641W9iYI8YU"
      },
      "outputs": [],
      "source": [
        "df['Gearing_Type'] = df['Gearing Type'].str[1]"
      ]
    },
    {
      "cell_type": "code",
      "execution_count": 128,
      "metadata": {
        "colab": {
          "base_uri": "https://localhost:8080/"
        },
        "id": "URJ5nz7JI8YU",
        "outputId": "3a17fb00-6d0d-4a6d-8e0f-083835e121ea"
      },
      "outputs": [
        {
          "output_type": "execute_result",
          "data": {
            "text/plain": [
              "Manual            8153\n",
              "Automatic         7297\n",
              "Semi-automatic     469\n",
              "Name: Gearing_Type, dtype: int64"
            ]
          },
          "metadata": {},
          "execution_count": 128
        }
      ],
      "source": [
        "df[\"Gearing_Type\"].value_counts(dropna=False)"
      ]
    },
    {
      "cell_type": "code",
      "execution_count": 129,
      "metadata": {
        "id": "m1MZWT8FI8YU"
      },
      "outputs": [],
      "source": [
        "df.drop(\"Gearing Type\", axis=1, inplace=True)"
      ]
    },
    {
      "cell_type": "markdown",
      "metadata": {
        "id": "pLL4y4-6I8YV"
      },
      "source": [
        "## Displacement"
      ]
    },
    {
      "cell_type": "code",
      "execution_count": 130,
      "metadata": {
        "colab": {
          "base_uri": "https://localhost:8080/"
        },
        "id": "UbpgUcXII8YV",
        "outputId": "38a8cb24-ba69-4b58-b46e-e79a21f5e88b"
      },
      "outputs": [
        {
          "output_type": "execute_result",
          "data": {
            "text/plain": [
              "['\\n1,598 cc\\n']     4761\n",
              "['\\n999 cc\\n']       2438\n",
              "['\\n1,398 cc\\n']     1314\n",
              "['\\n1,399 cc\\n']      749\n",
              "['\\n1,229 cc\\n']      677\n",
              "['\\n1,956 cc\\n']      670\n",
              "['\\n1,461 cc\\n']      595\n",
              "['\\n1,490 cc\\n']      559\n",
              "nan                   496\n",
              "['\\n1,422 cc\\n']      467\n",
              "['\\n1,197 cc\\n']      353\n",
              "['\\n898 cc\\n']        351\n",
              "['\\n1,395 cc\\n']      320\n",
              "['\\n1,968 cc\\n']      301\n",
              "['\\n1,149 cc\\n']      288\n",
              "['\\n1,618 cc\\n']      212\n",
              "['\\n1,798 cc\\n']      210\n",
              "['\\n1,498 cc\\n']      196\n",
              "['\\n1,600 cc\\n']      130\n",
              "['\\n1,248 cc\\n']      110\n",
              "['\\n1,997 cc\\n']      103\n",
              "['\\n1,364 cc\\n']      102\n",
              "['\\n1,400 cc\\n']       90\n",
              "['\\n998 cc\\n']         72\n",
              "['\\n1,500 cc\\n']       50\n",
              "['\\n2,000 cc\\n']       46\n",
              "['\\n1,000 cc\\n']       40\n",
              "['\\n1 cc\\n']           36\n",
              "['\\n1,998 cc\\n']       25\n",
              "['\\n2,480 cc\\n']       20\n",
              "['\\n1,200 cc\\n']       18\n",
              "['\\n1,984 cc\\n']       18\n",
              "['\\n1,397 cc\\n']       11\n",
              "['\\n899 cc\\n']         11\n",
              "['\\n160 cc\\n']          6\n",
              "['\\n929 cc\\n']          5\n",
              "['\\n1,499 cc\\n']        5\n",
              "['\\n997 cc\\n']          4\n",
              "['\\n1,596 cc\\n']        4\n",
              "['\\n139 cc\\n']          4\n",
              "['\\n900 cc\\n']          4\n",
              "['\\n1,599 cc\\n']        3\n",
              "['\\n1,199 cc\\n']        3\n",
              "['\\n1,396 cc\\n']        3\n",
              "['\\n1,495 cc\\n']        2\n",
              "['\\n1,589 cc\\n']        2\n",
              "['\\n1,300 cc\\n']        2\n",
              "['\\n2 cc\\n']            2\n",
              "['\\n995 cc\\n']          2\n",
              "['\\n1,496 cc\\n']        1\n",
              "['\\n890 cc\\n']          1\n",
              "['\\n1,580 cc\\n']        1\n",
              "['\\n1,995 cc\\n']        1\n",
              "['\\n1,333 cc\\n']        1\n",
              "['\\n54 cc\\n']           1\n",
              "['\\n1,533 cc\\n']        1\n",
              "['\\n1,100 cc\\n']        1\n",
              "['\\n1,350 cc\\n']        1\n",
              "['\\n16,000 cc\\n']       1\n",
              "['\\n1,856 cc\\n']        1\n",
              "['\\n1,568 cc\\n']        1\n",
              "['\\n1,896 cc\\n']        1\n",
              "['\\n1,584 cc\\n']        1\n",
              "['\\n996 cc\\n']          1\n",
              "['\\n1,696 cc\\n']        1\n",
              "['\\n1,686 cc\\n']        1\n",
              "['\\n15,898 cc\\n']       1\n",
              "['\\n1,368 cc\\n']        1\n",
              "['\\n140 cc\\n']          1\n",
              "['\\n973 cc\\n']          1\n",
              "['\\n1,239 cc\\n']        1\n",
              "['\\n1,369 cc\\n']        1\n",
              "['\\n1,390 cc\\n']        1\n",
              "['\\n122 cc\\n']          1\n",
              "['\\n1,198 cc\\n']        1\n",
              "['\\n1,195 cc\\n']        1\n",
              "['\\n2,967 cc\\n']        1\n",
              "['\\n1,800 cc\\n']        1\n",
              "Name: Displacement, dtype: int64"
            ]
          },
          "metadata": {},
          "execution_count": 130
        }
      ],
      "source": [
        "df[\"Displacement\"].astype('str').value_counts(dropna=False)"
      ]
    },
    {
      "cell_type": "code",
      "execution_count": 131,
      "metadata": {
        "id": "k9Ns4YfyI8YV"
      },
      "outputs": [],
      "source": [
        "df[\"Displacement_cc\"] = df.Displacement.str[0].str.strip('\\n').str.replace(',', '').str.extract('(\\d{1,5})').astype(\"float\") # str.extract('(\\d+)')"
      ]
    },
    {
      "cell_type": "code",
      "execution_count": 132,
      "metadata": {
        "colab": {
          "base_uri": "https://localhost:8080/"
        },
        "id": "xaxOTrizI8YV",
        "outputId": "04a7752b-9ee5-4222-e36e-5bd401c8d316"
      },
      "outputs": [
        {
          "output_type": "execute_result",
          "data": {
            "text/plain": [
              "1598.00     4761\n",
              "999.00      2438\n",
              "1398.00     1314\n",
              "1399.00      749\n",
              "1229.00      677\n",
              "1956.00      670\n",
              "1461.00      595\n",
              "1490.00      559\n",
              "NaN          496\n",
              "1422.00      467\n",
              "1197.00      353\n",
              "898.00       351\n",
              "1395.00      320\n",
              "1968.00      301\n",
              "1149.00      288\n",
              "1618.00      212\n",
              "1798.00      210\n",
              "1498.00      196\n",
              "1600.00      130\n",
              "1248.00      110\n",
              "1997.00      103\n",
              "1364.00      102\n",
              "1400.00       90\n",
              "998.00        72\n",
              "1500.00       50\n",
              "2000.00       46\n",
              "1000.00       40\n",
              "1.00          36\n",
              "1998.00       25\n",
              "2480.00       20\n",
              "1200.00       18\n",
              "1984.00       18\n",
              "1397.00       11\n",
              "899.00        11\n",
              "160.00         6\n",
              "929.00         5\n",
              "1499.00        5\n",
              "997.00         4\n",
              "1596.00        4\n",
              "139.00         4\n",
              "900.00         4\n",
              "1599.00        3\n",
              "1199.00        3\n",
              "1396.00        3\n",
              "1495.00        2\n",
              "1589.00        2\n",
              "1300.00        2\n",
              "2.00           2\n",
              "995.00         2\n",
              "1496.00        1\n",
              "890.00         1\n",
              "1580.00        1\n",
              "1995.00        1\n",
              "1333.00        1\n",
              "54.00          1\n",
              "1533.00        1\n",
              "1100.00        1\n",
              "1350.00        1\n",
              "16000.00       1\n",
              "1856.00        1\n",
              "1568.00        1\n",
              "1896.00        1\n",
              "1584.00        1\n",
              "996.00         1\n",
              "1696.00        1\n",
              "1686.00        1\n",
              "15898.00       1\n",
              "1368.00        1\n",
              "140.00         1\n",
              "973.00         1\n",
              "1239.00        1\n",
              "1369.00        1\n",
              "1390.00        1\n",
              "122.00         1\n",
              "1198.00        1\n",
              "1195.00        1\n",
              "2967.00        1\n",
              "1800.00        1\n",
              "Name: Displacement_cc, dtype: int64"
            ]
          },
          "metadata": {},
          "execution_count": 132
        }
      ],
      "source": [
        "df[\"Displacement_cc\"].value_counts(dropna=False)"
      ]
    },
    {
      "cell_type": "code",
      "execution_count": 133,
      "metadata": {
        "id": "RmWIoXBTI8YW"
      },
      "outputs": [],
      "source": [
        "df.drop(\"Displacement\", axis=1, inplace=True)"
      ]
    },
    {
      "cell_type": "markdown",
      "metadata": {
        "id": "uE8w-_M4I8YW"
      },
      "source": [
        "## Cylinders"
      ]
    },
    {
      "cell_type": "code",
      "execution_count": 134,
      "metadata": {
        "colab": {
          "base_uri": "https://localhost:8080/"
        },
        "id": "ZE4-gq70I8YW",
        "outputId": "8f69b75f-1819-4a7d-8777-53d1818f9223"
      },
      "outputs": [
        {
          "output_type": "execute_result",
          "data": {
            "text/plain": [
              "['\\n4\\n']    8105\n",
              "nan          5680\n",
              "['\\n3\\n']    2104\n",
              "['\\n5\\n']      22\n",
              "['\\n6\\n']       3\n",
              "['\\n8\\n']       2\n",
              "['\\n2\\n']       2\n",
              "['\\n1\\n']       1\n",
              "Name: Cylinders, dtype: int64"
            ]
          },
          "metadata": {},
          "execution_count": 134
        }
      ],
      "source": [
        "df[\"Cylinders\"].astype('str').value_counts(dropna=False)"
      ]
    },
    {
      "cell_type": "code",
      "execution_count": 135,
      "metadata": {
        "id": "SEWcpLXfI8YW"
      },
      "outputs": [],
      "source": [
        "df[\"Cylinders\"] = df.Cylinders.str[0].str.strip('\\n').astype(\"float\")"
      ]
    },
    {
      "cell_type": "code",
      "execution_count": 136,
      "metadata": {
        "colab": {
          "base_uri": "https://localhost:8080/"
        },
        "id": "QBwksDxdI8YX",
        "outputId": "992d9b36-7c44-4171-a406-fe4a455c4249"
      },
      "outputs": [
        {
          "output_type": "execute_result",
          "data": {
            "text/plain": [
              "4.00    8105\n",
              "NaN     5680\n",
              "3.00    2104\n",
              "5.00      22\n",
              "6.00       3\n",
              "8.00       2\n",
              "2.00       2\n",
              "1.00       1\n",
              "Name: Cylinders, dtype: int64"
            ]
          },
          "metadata": {},
          "execution_count": 136
        }
      ],
      "source": [
        "df[\"Cylinders\"].value_counts(dropna=False)"
      ]
    },
    {
      "cell_type": "markdown",
      "metadata": {
        "id": "lwD3_Tf1I8YX"
      },
      "source": [
        "## Weight"
      ]
    },
    {
      "cell_type": "code",
      "execution_count": 137,
      "metadata": {
        "colab": {
          "base_uri": "https://localhost:8080/"
        },
        "id": "EhORnW5CI8YX",
        "outputId": "20291a23-06fc-4c2f-f049-8cc65d6c7a69"
      },
      "outputs": [
        {
          "output_type": "execute_result",
          "data": {
            "text/plain": [
              "nan                 6974\n",
              "['\\n1,163 kg\\n']     574\n",
              "['\\n1,360 kg\\n']     356\n",
              "['\\n1,165 kg\\n']     301\n",
              "['\\n1,335 kg\\n']     242\n",
              "                    ... \n",
              "['\\n1,960 kg\\n']       1\n",
              "['\\n1,258 kg\\n']       1\n",
              "['\\n1,167 kg\\n']       1\n",
              "['\\n1,331 kg\\n']       1\n",
              "['\\n2,037 kg\\n']       1\n",
              "Name: Weight, Length: 435, dtype: int64"
            ]
          },
          "metadata": {},
          "execution_count": 137
        }
      ],
      "source": [
        "df[\"Weight\"].astype('str').value_counts(dropna=False)"
      ]
    },
    {
      "cell_type": "code",
      "execution_count": 138,
      "metadata": {
        "id": "CODL6gemI8YX"
      },
      "outputs": [],
      "source": [
        "df[\"Weight_kg\"] = df.Weight.str[0].str.strip('\\n').str.replace(',', '').str.extract('(\\d{1,6})').astype('float') # str.extract('(\\d+)')"
      ]
    },
    {
      "cell_type": "code",
      "execution_count": 139,
      "metadata": {
        "colab": {
          "base_uri": "https://localhost:8080/"
        },
        "id": "5HK8hrgfI8YY",
        "outputId": "fe5e6a09-651c-457f-a902-2388e052d141"
      },
      "outputs": [
        {
          "output_type": "execute_result",
          "data": {
            "text/plain": [
              "NaN        6974\n",
              "1163.00     574\n",
              "1360.00     356\n",
              "1165.00     301\n",
              "1335.00     242\n",
              "           ... \n",
              "1960.00       1\n",
              "1258.00       1\n",
              "1167.00       1\n",
              "1331.00       1\n",
              "2037.00       1\n",
              "Name: Weight_kg, Length: 435, dtype: int64"
            ]
          },
          "metadata": {},
          "execution_count": 139
        }
      ],
      "source": [
        "df[\"Weight_kg\"].value_counts(dropna=False)"
      ]
    },
    {
      "cell_type": "code",
      "execution_count": 140,
      "metadata": {
        "id": "7xaLykcQI8YY"
      },
      "outputs": [],
      "source": [
        "df.drop(\"Weight\", axis=1, inplace=True)"
      ]
    },
    {
      "cell_type": "markdown",
      "metadata": {
        "id": "ZMgUZLGdI8YY"
      },
      "source": [
        "## Drive chain"
      ]
    },
    {
      "cell_type": "code",
      "execution_count": 141,
      "metadata": {
        "colab": {
          "base_uri": "https://localhost:8080/"
        },
        "id": "liGLyE3wI8YY",
        "outputId": "2390a3d5-01f8-4e6c-88ea-5396df5c292c"
      },
      "outputs": [
        {
          "output_type": "execute_result",
          "data": {
            "text/plain": [
              "['\\nfront\\n']    8886\n",
              "nan              6858\n",
              "['\\n4WD\\n']       171\n",
              "['\\nrear\\n']        4\n",
              "Name: Drive chain, dtype: int64"
            ]
          },
          "metadata": {},
          "execution_count": 141
        }
      ],
      "source": [
        "df[\"Drive chain\"].astype('str').value_counts(dropna=False)"
      ]
    },
    {
      "cell_type": "code",
      "execution_count": 142,
      "metadata": {
        "id": "dRED0D0wI8YZ"
      },
      "outputs": [],
      "source": [
        "df['Drive_chain'] = df['Drive chain'].str[0].str.strip('\\n')"
      ]
    },
    {
      "cell_type": "code",
      "execution_count": 143,
      "metadata": {
        "colab": {
          "base_uri": "https://localhost:8080/"
        },
        "id": "vk2I898pI8YZ",
        "outputId": "288e931b-4782-45db-d660-fdda4a79700b"
      },
      "outputs": [
        {
          "output_type": "execute_result",
          "data": {
            "text/plain": [
              "front    8886\n",
              "NaN      6858\n",
              "4WD       171\n",
              "rear        4\n",
              "Name: Drive_chain, dtype: int64"
            ]
          },
          "metadata": {},
          "execution_count": 143
        }
      ],
      "source": [
        "df[\"Drive_chain\"].value_counts(dropna=False)"
      ]
    },
    {
      "cell_type": "code",
      "execution_count": 144,
      "metadata": {
        "id": "mMxGu_k5I8YZ"
      },
      "outputs": [],
      "source": [
        "df.drop(\"Drive chain\", axis=1, inplace=True)"
      ]
    },
    {
      "cell_type": "markdown",
      "metadata": {
        "id": "QwXzP8KrI8Ya"
      },
      "source": [
        "## Fuel"
      ]
    },
    {
      "cell_type": "code",
      "execution_count": 145,
      "metadata": {
        "colab": {
          "base_uri": "https://localhost:8080/"
        },
        "id": "bbPAcTjfI8Ya",
        "outputId": "ec00caf9-984d-4872-c950-3d767c6a5f2c"
      },
      "outputs": [
        {
          "output_type": "execute_result",
          "data": {
            "text/plain": [
              "['\\n', 'Diesel (Particulate Filter)', '\\n']                                                                                                       4315\n",
              "['\\n', 'Super 95', '\\n']                                                                                                                          3338\n",
              "['\\n', 'Gasoline', '\\n']                                                                                                                          3175\n",
              "['\\n', 'Diesel', '\\n']                                                                                                                            2984\n",
              "['\\n', 'Super 95 / Regular/Benzine 91', '\\n']                                                                                                      424\n",
              "['\\n', 'Regular/Benzine 91', '\\n']                                                                                                                 354\n",
              "['\\n', 'Super E10 95', '\\n']                                                                                                                       331\n",
              "['\\n', 'Super 95 (Particulate Filter)', '\\n']                                                                                                      268\n",
              "['\\n', 'Super 95 / Super E10 95', '\\n']                                                                                                            131\n",
              "['\\n', 'Regular/Benzine 91 (Particulate Filter)', '\\n']                                                                                            100\n",
              "['\\n', 'Super 95 / Super Plus 98', '\\n']                                                                                                            85\n",
              "['\\n', 'Gasoline (Particulate Filter)', '\\n']                                                                                                       77\n",
              "['\\n', 'Super 95 / Super Plus 98 / Super E10 95 / Super Plus E10 98', '\\n']                                                                         40\n",
              "['\\n', 'Super E10 95 / Super 95', '\\n']                                                                                                             38\n",
              "['\\n', 'CNG', '\\n']                                                                                                                                 33\n",
              "['\\n', 'Super 95 / Super E10 95 (Particulate Filter)', '\\n']                                                                                        25\n",
              "['\\n', 'Super E10 95 / Super 95 / Super Plus 98 / Super Plus E10 98', '\\n']                                                                         19\n",
              "['\\n', 'LPG', '\\n']                                                                                                                                 16\n",
              "['\\n', 'Super 95 / Super Plus 98 (Particulate Filter)', '\\n']                                                                                       14\n",
              "['\\n', 'Regular/Benzine 91 / Super 95 / Super Plus 98 / Regular/Benzine E10 91 / Super E10 95 / Super Plus E10 98', '\\n']                           13\n",
              "['\\n', 'Regular/Benzine E10 91', '\\n']                                                                                                              11\n",
              "['\\n', 'Liquid petroleum gas (LPG)', '\\n']                                                                                                          10\n",
              "['\\n', 'Super 95 / Super Plus 98 / Super E10 95', '\\n']                                                                                              8\n",
              "['\\n', 'Regular/Benzine 91 / Regular/Benzine E10 91', '\\n']                                                                                          7\n",
              "['\\n', 'Super 95 / Regular/Benzine 91 / Super Plus 98 / Regular/Benzine E10 91 / Super E10 95 / Super Plus E10 98', '\\n']                            7\n",
              "['\\n', 'Super Plus 98', '\\n']                                                                                                                        7\n",
              "['\\n', 'Super E10 95 (Particulate Filter)', '\\n']                                                                                                    7\n",
              "['\\n', 'Super 95 / Super Plus 98 / Super Plus E10 98 / Super E10 95', '\\n']                                                                          5\n",
              "['\\n', 'Others', '\\n']                                                                                                                               5\n",
              "['\\n', 'Super E10 95 / Super Plus E10 98', '\\n']                                                                                                     4\n",
              "['\\n', 'Electric/Gasoline', '\\n']                                                                                                                    4\n",
              "['\\n', 'Super 95 / Super Plus 98 / Super E10 95 / Super Plus E10 98 (Particulate Filter)', '\\n']                                                     4\n",
              "['\\n', 'Super 95 / Super E10 95 / Super Plus E10 98 / Super Plus 98', '\\n']                                                                          4\n",
              "['\\n', 'Regular/Benzine 91 / Super 95 / Super Plus 98 / Regular/Benzine E10 91 / Super Plus E10 98 / Super E10 95', '\\n']                            4\n",
              "['\\n', 'CNG (Particulate Filter)', '\\n']                                                                                                             3\n",
              "['\\n', 'Super E10 95 / Super 95 / Super Plus 98 / Super Plus E10 98 (Particulate Filter)', '\\n']                                                     3\n",
              "['\\n', 'Super E10 95 / Super 95 / Super Plus 98', '\\n']                                                                                              3\n",
              "['\\n', 'Super E10 95 / Regular/Benzine 91', '\\n']                                                                                                    2\n",
              "['\\n', 'Super 95 / Regular/Benzine 91 / Super Plus 98', '\\n']                                                                                        2\n",
              "['\\n', 'Regular/Benzine 91 / Super 95 / Super Plus 98 / Super Plus E10 98 / Super E10 95 / Regular/Benzine E10 91', '\\n']                            2\n",
              "['\\n', 'Regular/Benzine 91 / Super 95 / Super E10 95', '\\n']                                                                                         1\n",
              "['\\n', 'Electric', '\\n']                                                                                                                             1\n",
              "['\\n', 'Regular/Benzine 91 / Super 95 / Super E10 95 / Super Plus E10 98 / Super Plus 98 / Regular/Benzine E10 91', '\\n']                            1\n",
              "['\\n', 'Super 95 / Super E10 95 / Super Plus E10 98', '\\n']                                                                                          1\n",
              "['\\n', 'Super 95 / Super E10 95 / Super Plus 98', '\\n']                                                                                              1\n",
              "['\\n', 'Regular/Benzine 91 / Super 95 / Super Plus E10 98 / Super E10 95 / Regular/Benzine E10 91 / Super Plus 98', '\\n']                            1\n",
              "['\\n', 'Super 95 / Super Plus 98 / Regular/Benzine E10 91 / Super Plus E10 98 / Super E10 95 / Regular/Benzine 91', '\\n']                            1\n",
              "['\\n', 'Super 95 / Regular/Benzine E10 91', '\\n']                                                                                                    1\n",
              "['\\n', 'Super E10 95 / Regular/Benzine 91 / Regular/Benzine E10 91 / Super 95', '\\n']                                                                1\n",
              "['\\n', 'Super Plus 98 / Regular/Benzine 91', '\\n']                                                                                                   1\n",
              "['\\n', 'Super 95 / Regular/Benzine 91 / Super E10 95 / Super Plus 98 / Super Plus E10 98 / Regular/Benzine E10 91', '\\n']                            1\n",
              "['\\n', 'Super 95 / Super Plus 98 / Super Plus E10 98', '\\n']                                                                                         1\n",
              "['\\n', 'Super 95 / Regular/Benzine 91 (Particulate Filter)', '\\n']                                                                                   1\n",
              "['\\n', 'Super 95 / Super E10 95 / Regular/Benzine 91', '\\n']                                                                                         1\n",
              "['\\n', 'Regular/Benzine 91 / Super 95 / Super E10 95 / Regular/Benzine E10 91', '\\n']                                                                1\n",
              "['\\n', 'Super 95 / Regular/Benzine E10 91 / Super E10 95', '\\n']                                                                                     1\n",
              "['\\n', 'Super 95 / Regular/Benzine 91 / Super Plus 98 / Regular/Benzine E10 91 / Super Plus E10 98 / Super E10 95', '\\n']                            1\n",
              "['\\n', 'Regular/Benzine E10 91 / Super E10 95 / Super Plus E10 98 / Super Plus 98 / Super 95 / Regular/Benzine 91', '\\n']                            1\n",
              "['\\n', 'Super 95 / Regular/Benzine 91 / Super E10 95 / Super Plus E10 98 / Super Plus 98', '\\n']                                                     1\n",
              "['\\n', 'Others (Particulate Filter)', '\\n']                                                                                                          1\n",
              "['\\n', 'Biogas', '\\n']                                                                                                                               1\n",
              "['\\n', 'Super 95 / Biodiesel', '\\n']                                                                                                                 1\n",
              "['\\n', 'Regular/Benzine 91 / Super 95 / Super Plus 98 / Super Plus E10 98 / Super E10 95 / Regular/Benzine E10 91 (Particulate Filter)', '\\n']       1\n",
              "['\\n', 'Regular/Benzine 91 / Super 95 / Super Plus 98', '\\n']                                                                                        1\n",
              "['\\n', 'Regular/Benzine 91 / Super 95', '\\n']                                                                                                        1\n",
              "['\\n', 'Regular/Benzine E10 91 / Regular/Benzine 91 / Super 95 / Super Plus 98 / Super E10 95 / Super Plus E10 98', '\\n']                            1\n",
              "['\\n', 'Domestic gas H', '\\n']                                                                                                                       1\n",
              "['\\n', 'Super E10 95 / Regular/Benzine 91 / Super 95 / Super Plus 98 / Regular/Benzine E10 91 / Super Plus E10 98', '\\n']                            1\n",
              "['\\n', 'Super Plus E10 98 / Super 95 / Super Plus 98 / Super E10 95', '\\n']                                                                          1\n",
              "['\\n', 'Super 95 / Regular/Benzine 91 / Super E10 95 / Super Plus E10 98 / Super Plus 98 / Regular/Benzine E10 91', '\\n']                            1\n",
              "['\\n', 'Super Plus 98 / Super 95 / Super E10 95', '\\n']                                                                                              1\n",
              "['\\n', 'Super Plus E10 98', '\\n']                                                                                                                    1\n",
              "['\\n', 'Regular/Benzine 91 / Super 95 / Regular/Benzine E10 91', '\\n']                                                                               1\n",
              "['\\n', 'Super Plus 98 / Super E10 95', '\\n']                                                                                                         1\n",
              "['\\n', 'Regular/Benzine 91 / Super 95 / Regular/Benzine E10 91 / Super E10 95 / Super Plus 98 / Super Plus E10 98', '\\n']                            1\n",
              "['\\n', 'Regular/Benzine 91 / Super Plus 98 / Regular/Benzine E10 91 / Super 95 / Super E10 95 / Super Plus E10 98', '\\n']                            1\n",
              "['\\n', 'Super Plus 98 / Super 95 / Super Plus E10 98', '\\n']                                                                                         1\n",
              "Name: Fuel, dtype: int64"
            ]
          },
          "metadata": {},
          "execution_count": 145
        }
      ],
      "source": [
        "df[\"Fuel\"].astype('str').value_counts(dropna=False)"
      ]
    },
    {
      "cell_type": "code",
      "execution_count": 146,
      "metadata": {
        "id": "QAlOZGrzI8Yc"
      },
      "outputs": [],
      "source": [
        "df[\"Fuel\"] = df.Fuel.str[1].str.split(\"/\").str[0].str.strip()"
      ]
    },
    {
      "cell_type": "code",
      "execution_count": 147,
      "metadata": {
        "colab": {
          "base_uri": "https://localhost:8080/"
        },
        "id": "JXHJwPy5I8Yd",
        "outputId": "e487d694-1c2b-45dd-e86f-73c8043df36e"
      },
      "outputs": [
        {
          "output_type": "execute_result",
          "data": {
            "text/plain": [
              "Diesel (Particulate Filter)          4315\n",
              "Super 95                             4100\n",
              "Gasoline                             3175\n",
              "Diesel                               2984\n",
              "Regular                               503\n",
              "Super E10 95                          402\n",
              "Super 95 (Particulate Filter)         268\n",
              "Gasoline (Particulate Filter)          77\n",
              "CNG                                    33\n",
              "LPG                                    16\n",
              "Super Plus 98                          11\n",
              "Liquid petroleum gas (LPG)             10\n",
              "Super E10 95 (Particulate Filter)       7\n",
              "Electric                                5\n",
              "Others                                  5\n",
              "CNG (Particulate Filter)                3\n",
              "Super Plus E10 98                       2\n",
              "Others (Particulate Filter)             1\n",
              "Biogas                                  1\n",
              "Domestic gas H                          1\n",
              "Name: Fuel, dtype: int64"
            ]
          },
          "metadata": {},
          "execution_count": 147
        }
      ],
      "source": [
        "df[\"Fuel\"].value_counts(dropna=False)"
      ]
    },
    {
      "cell_type": "code",
      "execution_count": 148,
      "metadata": {
        "id": "F2LnnrQsI8Yd"
      },
      "outputs": [],
      "source": [
        "df[\"Fuel\"] = df.Fuel.str.split(\"(\").str[0].str.strip()"
      ]
    },
    {
      "cell_type": "code",
      "execution_count": 149,
      "metadata": {
        "colab": {
          "base_uri": "https://localhost:8080/"
        },
        "id": "Nsyx-jFBI8Ye",
        "outputId": "049e2b2a-b4cc-4684-8bbe-e1f6e0043b07"
      },
      "outputs": [
        {
          "output_type": "execute_result",
          "data": {
            "text/plain": [
              "Diesel                  7299\n",
              "Super 95                4368\n",
              "Gasoline                3252\n",
              "Regular                  503\n",
              "Super E10 95             409\n",
              "CNG                       36\n",
              "LPG                       16\n",
              "Super Plus 98             11\n",
              "Liquid petroleum gas      10\n",
              "Others                     6\n",
              "Electric                   5\n",
              "Super Plus E10 98          2\n",
              "Biogas                     1\n",
              "Domestic gas H             1\n",
              "Name: Fuel, dtype: int64"
            ]
          },
          "metadata": {},
          "execution_count": 149
        }
      ],
      "source": [
        "df[\"Fuel\"].value_counts(dropna=False)"
      ]
    },
    {
      "cell_type": "code",
      "execution_count": 150,
      "metadata": {
        "id": "fGgi7VDhI8Ye"
      },
      "outputs": [],
      "source": [
        "benzine = [\"Gasoline\", \"Super 95\", \"Regular\", \"Super E10 95\", \"Super Plus 98\", \"Super Plus E10 98\", \"Others\"]\n",
        "lpg = [\"LPG\", \"Liquid petroleum gas\", \"CNG\", \"Biogas\", \"Domestic gas H\"]\n",
        "\n",
        "def fueltype(x):\n",
        "    if x in benzine:\n",
        "        return \"Benzine\"\n",
        "    elif x in lpg:\n",
        "        return \"LPG/CNG\"\n",
        "    else:\n",
        "        return x\n",
        "\n",
        "df[\"Fuel\"] = df.Fuel.apply(fueltype)"
      ]
    },
    {
      "cell_type": "code",
      "execution_count": 151,
      "metadata": {
        "colab": {
          "base_uri": "https://localhost:8080/"
        },
        "id": "FAaIIDhPI8Ye",
        "outputId": "65c2b2d1-8b5c-4eac-aa38-2536be608a69"
      },
      "outputs": [
        {
          "output_type": "execute_result",
          "data": {
            "text/plain": [
              "Benzine     8551\n",
              "Diesel      7299\n",
              "LPG/CNG       64\n",
              "Electric       5\n",
              "Name: Fuel, dtype: int64"
            ]
          },
          "metadata": {},
          "execution_count": 151
        }
      ],
      "source": [
        "df.Fuel.value_counts(dropna=False)"
      ]
    },
    {
      "cell_type": "code",
      "execution_count": 152,
      "metadata": {
        "scrolled": true,
        "colab": {
          "base_uri": "https://localhost:8080/",
          "height": 206
        },
        "id": "8Pau4D32I8Yf",
        "outputId": "7ca1b01b-438d-4f03-b361-0e49060f536b"
      },
      "outputs": [
        {
          "output_type": "execute_result",
          "data": {
            "text/plain": [
              "         make_model body_type              CO2 Emission    Gears  hp_kW  \\\n",
              "3356        Audi A3   Compact                       NaN  [\\n6\\n] 150.00   \n",
              "3612        Audi A3    Sedans  [\\n36 g CO2/km (comb)\\n]  [\\n6\\n] 110.00   \n",
              "3615        Audi A3    Sedans  [\\n36 g CO2/km (comb)\\n]  [\\n6\\n] 110.00   \n",
              "3617        Audi A3    Sedans  [\\n36 g CO2/km (comb)\\n]  [\\n6\\n] 110.00   \n",
              "13397  Renault Clio    Sedans              [[], [], []]      NaN    NaN   \n",
              "\n",
              "                                 Consumption  price  \n",
              "3356                                     NaN  24950  \n",
              "3612   [\\n, 1.6 l/100 km (comb), \\n, \\n, \\n]  38450  \n",
              "3615   [\\n, 1.6 l/100 km (comb), \\n, \\n, \\n]  35899  \n",
              "3617   [\\n, 1.6 l/100 km (comb), \\n, \\n, \\n]  38000  \n",
              "13397                                    NaN   8490  "
            ],
            "text/html": [
              "\n",
              "  <div id=\"df-c184a4fa-a30a-43b9-a0d5-60f7a740d3aa\">\n",
              "    <div class=\"colab-df-container\">\n",
              "      <div>\n",
              "<style scoped>\n",
              "    .dataframe tbody tr th:only-of-type {\n",
              "        vertical-align: middle;\n",
              "    }\n",
              "\n",
              "    .dataframe tbody tr th {\n",
              "        vertical-align: top;\n",
              "    }\n",
              "\n",
              "    .dataframe thead th {\n",
              "        text-align: right;\n",
              "    }\n",
              "</style>\n",
              "<table border=\"1\" class=\"dataframe\">\n",
              "  <thead>\n",
              "    <tr style=\"text-align: right;\">\n",
              "      <th></th>\n",
              "      <th>make_model</th>\n",
              "      <th>body_type</th>\n",
              "      <th>CO2 Emission</th>\n",
              "      <th>Gears</th>\n",
              "      <th>hp_kW</th>\n",
              "      <th>Consumption</th>\n",
              "      <th>price</th>\n",
              "    </tr>\n",
              "  </thead>\n",
              "  <tbody>\n",
              "    <tr>\n",
              "      <th>3356</th>\n",
              "      <td>Audi A3</td>\n",
              "      <td>Compact</td>\n",
              "      <td>NaN</td>\n",
              "      <td>[\\n6\\n]</td>\n",
              "      <td>150.00</td>\n",
              "      <td>NaN</td>\n",
              "      <td>24950</td>\n",
              "    </tr>\n",
              "    <tr>\n",
              "      <th>3612</th>\n",
              "      <td>Audi A3</td>\n",
              "      <td>Sedans</td>\n",
              "      <td>[\\n36 g CO2/km (comb)\\n]</td>\n",
              "      <td>[\\n6\\n]</td>\n",
              "      <td>110.00</td>\n",
              "      <td>[\\n, 1.6 l/100 km (comb), \\n, \\n, \\n]</td>\n",
              "      <td>38450</td>\n",
              "    </tr>\n",
              "    <tr>\n",
              "      <th>3615</th>\n",
              "      <td>Audi A3</td>\n",
              "      <td>Sedans</td>\n",
              "      <td>[\\n36 g CO2/km (comb)\\n]</td>\n",
              "      <td>[\\n6\\n]</td>\n",
              "      <td>110.00</td>\n",
              "      <td>[\\n, 1.6 l/100 km (comb), \\n, \\n, \\n]</td>\n",
              "      <td>35899</td>\n",
              "    </tr>\n",
              "    <tr>\n",
              "      <th>3617</th>\n",
              "      <td>Audi A3</td>\n",
              "      <td>Sedans</td>\n",
              "      <td>[\\n36 g CO2/km (comb)\\n]</td>\n",
              "      <td>[\\n6\\n]</td>\n",
              "      <td>110.00</td>\n",
              "      <td>[\\n, 1.6 l/100 km (comb), \\n, \\n, \\n]</td>\n",
              "      <td>38000</td>\n",
              "    </tr>\n",
              "    <tr>\n",
              "      <th>13397</th>\n",
              "      <td>Renault Clio</td>\n",
              "      <td>Sedans</td>\n",
              "      <td>[[], [], []]</td>\n",
              "      <td>NaN</td>\n",
              "      <td>NaN</td>\n",
              "      <td>NaN</td>\n",
              "      <td>8490</td>\n",
              "    </tr>\n",
              "  </tbody>\n",
              "</table>\n",
              "</div>\n",
              "      <button class=\"colab-df-convert\" onclick=\"convertToInteractive('df-c184a4fa-a30a-43b9-a0d5-60f7a740d3aa')\"\n",
              "              title=\"Convert this dataframe to an interactive table.\"\n",
              "              style=\"display:none;\">\n",
              "        \n",
              "  <svg xmlns=\"http://www.w3.org/2000/svg\" height=\"24px\"viewBox=\"0 0 24 24\"\n",
              "       width=\"24px\">\n",
              "    <path d=\"M0 0h24v24H0V0z\" fill=\"none\"/>\n",
              "    <path d=\"M18.56 5.44l.94 2.06.94-2.06 2.06-.94-2.06-.94-.94-2.06-.94 2.06-2.06.94zm-11 1L8.5 8.5l.94-2.06 2.06-.94-2.06-.94L8.5 2.5l-.94 2.06-2.06.94zm10 10l.94 2.06.94-2.06 2.06-.94-2.06-.94-.94-2.06-.94 2.06-2.06.94z\"/><path d=\"M17.41 7.96l-1.37-1.37c-.4-.4-.92-.59-1.43-.59-.52 0-1.04.2-1.43.59L10.3 9.45l-7.72 7.72c-.78.78-.78 2.05 0 2.83L4 21.41c.39.39.9.59 1.41.59.51 0 1.02-.2 1.41-.59l7.78-7.78 2.81-2.81c.8-.78.8-2.07 0-2.86zM5.41 20L4 18.59l7.72-7.72 1.47 1.35L5.41 20z\"/>\n",
              "  </svg>\n",
              "      </button>\n",
              "      \n",
              "  <style>\n",
              "    .colab-df-container {\n",
              "      display:flex;\n",
              "      flex-wrap:wrap;\n",
              "      gap: 12px;\n",
              "    }\n",
              "\n",
              "    .colab-df-convert {\n",
              "      background-color: #E8F0FE;\n",
              "      border: none;\n",
              "      border-radius: 50%;\n",
              "      cursor: pointer;\n",
              "      display: none;\n",
              "      fill: #1967D2;\n",
              "      height: 32px;\n",
              "      padding: 0 0 0 0;\n",
              "      width: 32px;\n",
              "    }\n",
              "\n",
              "    .colab-df-convert:hover {\n",
              "      background-color: #E2EBFA;\n",
              "      box-shadow: 0px 1px 2px rgba(60, 64, 67, 0.3), 0px 1px 3px 1px rgba(60, 64, 67, 0.15);\n",
              "      fill: #174EA6;\n",
              "    }\n",
              "\n",
              "    [theme=dark] .colab-df-convert {\n",
              "      background-color: #3B4455;\n",
              "      fill: #D2E3FC;\n",
              "    }\n",
              "\n",
              "    [theme=dark] .colab-df-convert:hover {\n",
              "      background-color: #434B5C;\n",
              "      box-shadow: 0px 1px 3px 1px rgba(0, 0, 0, 0.15);\n",
              "      filter: drop-shadow(0px 1px 2px rgba(0, 0, 0, 0.3));\n",
              "      fill: #FFFFFF;\n",
              "    }\n",
              "  </style>\n",
              "\n",
              "      <script>\n",
              "        const buttonEl =\n",
              "          document.querySelector('#df-c184a4fa-a30a-43b9-a0d5-60f7a740d3aa button.colab-df-convert');\n",
              "        buttonEl.style.display =\n",
              "          google.colab.kernel.accessAllowed ? 'block' : 'none';\n",
              "\n",
              "        async function convertToInteractive(key) {\n",
              "          const element = document.querySelector('#df-c184a4fa-a30a-43b9-a0d5-60f7a740d3aa');\n",
              "          const dataTable =\n",
              "            await google.colab.kernel.invokeFunction('convertToInteractive',\n",
              "                                                     [key], {});\n",
              "          if (!dataTable) return;\n",
              "\n",
              "          const docLinkHtml = 'Like what you see? Visit the ' +\n",
              "            '<a target=\"_blank\" href=https://colab.research.google.com/notebooks/data_table.ipynb>data table notebook</a>'\n",
              "            + ' to learn more about interactive tables.';\n",
              "          element.innerHTML = '';\n",
              "          dataTable['output_type'] = 'display_data';\n",
              "          await google.colab.output.renderOutput(dataTable, element);\n",
              "          const docLink = document.createElement('div');\n",
              "          docLink.innerHTML = docLinkHtml;\n",
              "          element.appendChild(docLink);\n",
              "        }\n",
              "      </script>\n",
              "    </div>\n",
              "  </div>\n",
              "  "
            ]
          },
          "metadata": {},
          "execution_count": 152
        }
      ],
      "source": [
        "df[df.Fuel == \"Electric\"][[\"make_model\", \"body_type\", \"CO2 Emission\", \"Gears\", \"hp_kW\", \"Consumption\", \"price\"]]"
      ]
    },
    {
      "cell_type": "code",
      "execution_count": 153,
      "metadata": {
        "id": "LldB94-wI8Yf"
      },
      "outputs": [],
      "source": [
        "#alternative method\n",
        "\n",
        "#df[\"fuel_new\"] = df.Fuel.str[1]\n",
        "#diesel_bool = df[\"fuel_new\"].str.contains(\"diesel\", case = False, regex = True)\n",
        "#lpg_bool = df[\"fuel_new\"].str.contains(\"lpg|cng|bio|domestic|electric\", case=False, regex=True)\n",
        "#df.loc[diesel_bool, \"fuel_new\"] = \"Diesel\"\n",
        "#df.loc[lpg_bool, \"fuel_new\"] = \"LPG/CNG\"\n",
        "#benz = list(df.fuel_new.loc[lambda x : x != \"Diesel\"][lambda x : x != \"LPG/CNG\"].index)\n",
        "#df.fuel_new.iloc[benz] = \"Benzine\""
      ]
    },
    {
      "cell_type": "markdown",
      "metadata": {
        "id": "NWLf_Jk5I8Yf"
      },
      "source": [
        "## Consumption"
      ]
    },
    {
      "cell_type": "code",
      "execution_count": 154,
      "metadata": {
        "scrolled": true,
        "colab": {
          "base_uri": "https://localhost:8080/"
        },
        "id": "sSYEeR2eI8Yf",
        "outputId": "71c93721-75c3-4b70-e308-96c36dcf9436"
      },
      "outputs": [
        {
          "output_type": "execute_result",
          "data": {
            "text/plain": [
              "nan                                                                                                 1906\n",
              "[['3.9 l/100 km (comb)'], ['4.1 l/100 km (city)'], ['3.7 l/100 km (country)']]                       304\n",
              "[['4.2 l/100 km (comb)'], ['5 l/100 km (city)'], ['3.7 l/100 km (country)']]                         276\n",
              "[['5.4 l/100 km (comb)'], ['6.8 l/100 km (city)'], ['4.5 l/100 km (country)']]                       257\n",
              "[['3.8 l/100 km (comb)'], ['4.3 l/100 km (city)'], ['3.5 l/100 km (country)']]                       253\n",
              "                                                                                                    ... \n",
              "[['4.2 l/100 km (comb)'], ['5.3 l/100 km (city)'], ['3.6 l/100 km (country)']]                         1\n",
              "['\\n', '5.1 l/100 km (comb)', '\\n', '6.4 l/100 km (city)', '\\n', '4.3 l/100 km (country)', '\\n']       1\n",
              "[['4.6 l/100 km (comb)'], ['5.4 l/100 km (city)'], ['6.7 l/100 km (country)']]                         1\n",
              "['\\n', '6.3 l/100 km (comb)', '\\n', '\\n', '\\n']                                                        1\n",
              "['\\n', '7.4 l/100 km (comb)', '\\n', '9.6 l/100 km (city)', '\\n', '6 l/100 km (country)', '\\n']         1\n",
              "Name: Consumption, Length: 882, dtype: int64"
            ]
          },
          "metadata": {},
          "execution_count": 154
        }
      ],
      "source": [
        "df[\"Consumption\"].astype('str').value_counts(dropna=False)"
      ]
    },
    {
      "cell_type": "code",
      "execution_count": 155,
      "metadata": {
        "id": "ChlSDskhI8Yf"
      },
      "outputs": [],
      "source": [
        "def cons_comb(x):\n",
        "    \n",
        "    if type(x)==list and len(x)==3:\n",
        "        if x[0] != []: return x[0][0]\n",
        "        else: return None\n",
        "        \n",
        "    if type(x)==list and len(x)==5:\n",
        "        return x[1]\n",
        "    \n",
        "    if type(x)==list and len(x)==7:\n",
        "        return x[1]\n",
        "    \n",
        "    else:\n",
        "        return None"
      ]
    },
    {
      "cell_type": "code",
      "execution_count": 156,
      "metadata": {
        "id": "8kYnX4dnI8Yg"
      },
      "outputs": [],
      "source": [
        "def cons_city(x):\n",
        "    \n",
        "    if type(x)==list and len(x)==3:\n",
        "        if x[1] != []: return x[1][0]\n",
        "        else: return None\n",
        "        \n",
        "    if type(x)==list and len(x)==5:\n",
        "        return None\n",
        "    \n",
        "    if type(x)==list and len(x)==7:\n",
        "        return x[3]\n",
        "    \n",
        "    else:\n",
        "        return None"
      ]
    },
    {
      "cell_type": "code",
      "execution_count": 157,
      "metadata": {
        "id": "QzKLLf4HI8Yg"
      },
      "outputs": [],
      "source": [
        "def cons_country(x):\n",
        "    \n",
        "    if type(x)==list and len(x)==3:\n",
        "        if x[2] != []: return x[2][0]\n",
        "        else: return None\n",
        "        \n",
        "    if type(x)==list and len(x)==5:\n",
        "        return None\n",
        "    \n",
        "    if type(x)==list and len(x)==7:\n",
        "        return x[5]\n",
        "    \n",
        "    else:\n",
        "        return None"
      ]
    },
    {
      "cell_type": "code",
      "execution_count": 158,
      "metadata": {
        "id": "BNeY80A5I8Yg"
      },
      "outputs": [],
      "source": [
        "df['cons_comb'] = df.Consumption.apply(cons_comb).str.extract('(\\d{1,2}.\\d|\\d{1,3})').astype(\"float\") # str.extract('(\\S+)')\n",
        "df['cons_city'] = df.Consumption.apply(cons_city).str.extract('(\\d{1,2}.\\d|\\d{1,3})').astype(\"float\")\n",
        "df['cons_country'] = df.Consumption.apply(cons_country).str.extract('(\\d{1,2}.\\d|\\d{1,3})').astype(\"float\")"
      ]
    },
    {
      "cell_type": "code",
      "execution_count": 159,
      "metadata": {
        "scrolled": true,
        "colab": {
          "base_uri": "https://localhost:8080/"
        },
        "id": "CdMIHvJQI8Yg",
        "outputId": "d08e8f49-934b-49d4-e805-ed9a3f70af0b"
      },
      "outputs": [
        {
          "output_type": "execute_result",
          "data": {
            "text/plain": [
              "NaN     2033\n",
              "5.40     770\n",
              "3.90     733\n",
              "4.00     713\n",
              "5.10     657\n",
              "Name: cons_comb, dtype: int64"
            ]
          },
          "metadata": {},
          "execution_count": 159
        }
      ],
      "source": [
        "df[\"cons_comb\"].value_counts(dropna=False).head()"
      ]
    },
    {
      "cell_type": "code",
      "execution_count": 160,
      "metadata": {
        "colab": {
          "base_uri": "https://localhost:8080/"
        },
        "id": "eZwvIEkvI8Yh",
        "outputId": "44d8c144-ff0a-489e-947f-d2455985e6c7"
      },
      "outputs": [
        {
          "output_type": "execute_result",
          "data": {
            "text/plain": [
              "NaN     2436\n",
              "5.00     669\n",
              "5.80     633\n",
              "4.50     580\n",
              "4.30     533\n",
              "Name: cons_city, dtype: int64"
            ]
          },
          "metadata": {},
          "execution_count": 160
        }
      ],
      "source": [
        "df[\"cons_city\"].value_counts(dropna=False).head()"
      ]
    },
    {
      "cell_type": "code",
      "execution_count": 161,
      "metadata": {
        "colab": {
          "base_uri": "https://localhost:8080/"
        },
        "id": "2R_7-2dNI8Yh",
        "outputId": "45a9b949-ff5d-4d66-eb16-621462015537"
      },
      "outputs": [
        {
          "output_type": "execute_result",
          "data": {
            "text/plain": [
              "NaN     2376\n",
              "4.20    1178\n",
              "3.70    1089\n",
              "4.40     898\n",
              "4.50     848\n",
              "Name: cons_country, dtype: int64"
            ]
          },
          "metadata": {},
          "execution_count": 161
        }
      ],
      "source": [
        "df[\"cons_country\"].value_counts(dropna=False).head()"
      ]
    },
    {
      "cell_type": "code",
      "execution_count": 162,
      "metadata": {
        "id": "onLxiAemI8Yh"
      },
      "outputs": [],
      "source": [
        "df.drop('Consumption', axis=1,inplace=True)"
      ]
    },
    {
      "cell_type": "markdown",
      "metadata": {
        "id": "MBdaXcXZI8Yh"
      },
      "source": [
        "## CO2 Emission"
      ]
    },
    {
      "cell_type": "code",
      "execution_count": 163,
      "metadata": {
        "colab": {
          "base_uri": "https://localhost:8080/"
        },
        "id": "UxI8UOpwI8Yh",
        "outputId": "21134cb2-32b4-45fa-8f03-6a369aff2df6"
      },
      "outputs": [
        {
          "output_type": "execute_result",
          "data": {
            "text/plain": [
              "nan                              1808\n",
              "['\\n120 g CO2/km (comb)\\n']       740\n",
              "[[], [], []]                      628\n",
              "['\\n99 g CO2/km (comb)\\n']        545\n",
              "['\\n97 g CO2/km (comb)\\n']        537\n",
              "                                 ... \n",
              "['\\n14 g CO2/km (comb)\\n']          1\n",
              "['\\n1,060 g CO2/km (comb)\\n']       1\n",
              "['\\n51 g CO2/km (comb)\\n']          1\n",
              "['\\n165 g CO2/km (comb)\\n']         1\n",
              "['\\n193 g CO2/km (comb)\\n']         1\n",
              "Name: CO2 Emission, Length: 124, dtype: int64"
            ]
          },
          "metadata": {},
          "execution_count": 163
        }
      ],
      "source": [
        "df[\"CO2 Emission\"].astype('str').value_counts(dropna=False)"
      ]
    },
    {
      "cell_type": "code",
      "execution_count": 164,
      "metadata": {
        "id": "c3BBt-buI8Yi"
      },
      "outputs": [],
      "source": [
        "df[\"CO2_Emission\"] = df['CO2 Emission'].str[0].str.strip().str.replace(',', '').str.extract('(\\d+)').astype('float')\n",
        "\n",
        "#df[\"CO2_Emission\"] = [item[0] if type(item) == list else item for item in df[\"CO2 Emission\"]]\n",
        "#df[\"CO2_Emission\"] = df[\"CO2_Emission\"].str.strip(\"\\n\").str.rstrip(\" g CO2/km (comb)\").str.replace(\",\", \"\").astype(\"float\")"
      ]
    },
    {
      "cell_type": "code",
      "execution_count": 165,
      "metadata": {
        "colab": {
          "base_uri": "https://localhost:8080/"
        },
        "id": "OpS6RryfI8Yi",
        "outputId": "ed318889-c75b-4301-d338-2ce58ced7f20"
      },
      "outputs": [
        {
          "output_type": "execute_result",
          "data": {
            "text/plain": [
              "NaN        2436\n",
              "120.00      740\n",
              "99.00       545\n",
              "97.00       537\n",
              "104.00      501\n",
              "           ... \n",
              "14.00         1\n",
              "1060.00       1\n",
              "51.00         1\n",
              "165.00        1\n",
              "193.00        1\n",
              "Name: CO2_Emission, Length: 123, dtype: int64"
            ]
          },
          "metadata": {},
          "execution_count": 165
        }
      ],
      "source": [
        "df[\"CO2_Emission\"].value_counts(dropna=False)"
      ]
    },
    {
      "cell_type": "code",
      "execution_count": 166,
      "metadata": {
        "id": "VqdsSiTNI8Yi"
      },
      "outputs": [],
      "source": [
        "df.drop(\"CO2 Emission\", axis=1, inplace=True)"
      ]
    },
    {
      "cell_type": "markdown",
      "metadata": {
        "id": "ymBT6QggI8Yi"
      },
      "source": [
        "## Emission Class"
      ]
    },
    {
      "cell_type": "code",
      "execution_count": 167,
      "metadata": {
        "colab": {
          "base_uri": "https://localhost:8080/"
        },
        "id": "eAUXNrTPI8Yi",
        "outputId": "0258b95b-a6e3-45a3-945e-ebb765e91b41"
      },
      "outputs": [
        {
          "output_type": "execute_result",
          "data": {
            "text/plain": [
              "['\\nEuro 6\\n']          10139\n",
              "nan                      3021\n",
              "['\\nEuro 6d-TEMP\\n']     1845\n",
              "[[], [], []]              607\n",
              "['\\nEuro 6c\\n']           127\n",
              "['\\nEuro 5\\n']             78\n",
              "['\\nEuro 6d\\n']            62\n",
              "['\\nEuro 4\\n']             40\n",
              "Name: Emission Class, dtype: int64"
            ]
          },
          "metadata": {},
          "execution_count": 167
        }
      ],
      "source": [
        "df[\"Emission Class\"].astype('str').value_counts(dropna=False)"
      ]
    },
    {
      "cell_type": "code",
      "execution_count": 168,
      "metadata": {
        "id": "a57Tv-pLI8Yi"
      },
      "outputs": [],
      "source": [
        "df[\"Emission_Class\"] = [item[0] if type(item) == list else item for item in df[\"Emission Class\"]]\n",
        "df[\"Emission_Class\"] = df[\"Emission_Class\"].str.strip(\"\\n\")"
      ]
    },
    {
      "cell_type": "code",
      "execution_count": 169,
      "metadata": {
        "colab": {
          "base_uri": "https://localhost:8080/"
        },
        "id": "IGitJLmUI8Yj",
        "outputId": "bbf34e2e-b3ed-4326-f2c9-9a4b0739042a"
      },
      "outputs": [
        {
          "output_type": "execute_result",
          "data": {
            "text/plain": [
              "Euro 6          10139\n",
              "NaN              3628\n",
              "Euro 6d-TEMP     1845\n",
              "Euro 6c           127\n",
              "Euro 5             78\n",
              "Euro 6d            62\n",
              "Euro 4             40\n",
              "Name: Emission_Class, dtype: int64"
            ]
          },
          "metadata": {},
          "execution_count": 169
        }
      ],
      "source": [
        "df[\"Emission_Class\"].value_counts(dropna=False)"
      ]
    },
    {
      "cell_type": "code",
      "execution_count": 170,
      "metadata": {
        "id": "m_spHdSQI8Yj"
      },
      "outputs": [],
      "source": [
        "df.replace({\"Emission_Class\" : {\"Euro 6d-TEMP\": \"Euro 6\", \"Euro 6c\": \"Euro 6\", \"Euro 6d\": \"Euro 6\"}}, regex=True, inplace=True)"
      ]
    },
    {
      "cell_type": "code",
      "execution_count": 171,
      "metadata": {
        "colab": {
          "base_uri": "https://localhost:8080/"
        },
        "id": "zL91Cka3I8Yj",
        "outputId": "955a3e7e-6855-41b1-909b-38baa4110ec0"
      },
      "outputs": [
        {
          "output_type": "execute_result",
          "data": {
            "text/plain": [
              "Euro 6    12173\n",
              "NaN        3628\n",
              "Euro 5       78\n",
              "Euro 4       40\n",
              "Name: Emission_Class, dtype: int64"
            ]
          },
          "metadata": {},
          "execution_count": 171
        }
      ],
      "source": [
        "df[\"Emission_Class\"].value_counts(dropna=False)"
      ]
    },
    {
      "cell_type": "code",
      "execution_count": 172,
      "metadata": {
        "id": "94Qd2knaI8Yj"
      },
      "outputs": [],
      "source": [
        "df.drop(\"Emission Class\", axis=1, inplace=True)"
      ]
    },
    {
      "cell_type": "markdown",
      "metadata": {
        "id": "8N4MKA3SI8Yj"
      },
      "source": [
        "## Emission Label"
      ]
    },
    {
      "cell_type": "code",
      "execution_count": 173,
      "metadata": {
        "colab": {
          "base_uri": "https://localhost:8080/"
        },
        "id": "CzRW25JPI8Yj",
        "outputId": "fe6cdc1d-3aa8-4a59-9bbf-38c85c45f119"
      },
      "outputs": [
        {
          "output_type": "execute_result",
          "data": {
            "text/plain": [
              "nan                       11934\n",
              "['\\n4 (Green)\\n']          3553\n",
              "['\\n1 (No sticker)\\n']      381\n",
              "[[], [], []]                 40\n",
              "['\\n5 (Blue)\\n']              8\n",
              "['\\n3 (Yellow)\\n']            2\n",
              "['\\n2 (Red)\\n']               1\n",
              "Name: Emission Label, dtype: int64"
            ]
          },
          "metadata": {},
          "execution_count": 173
        }
      ],
      "source": [
        "df[\"Emission Label\"].astype('str').value_counts(dropna=False)"
      ]
    },
    {
      "cell_type": "code",
      "execution_count": 174,
      "metadata": {
        "id": "3vgt5XRPI8Yk"
      },
      "outputs": [],
      "source": [
        "df.drop(\"Emission Label\", axis=1, inplace=True)"
      ]
    },
    {
      "cell_type": "markdown",
      "metadata": {
        "id": "SiZAzx0PI8Yk"
      },
      "source": [
        "## Gears"
      ]
    },
    {
      "cell_type": "code",
      "execution_count": 175,
      "metadata": {
        "colab": {
          "base_uri": "https://localhost:8080/"
        },
        "id": "mXvOqtQuI8Yk",
        "outputId": "b281e1b4-e7c4-48d9-f845-211708838cfa"
      },
      "outputs": [
        {
          "output_type": "execute_result",
          "data": {
            "text/plain": [
              "['\\n6\\n']     5822\n",
              "nan           4712\n",
              "['\\n5\\n']     3239\n",
              "['\\n7\\n']     1908\n",
              "['\\n8\\n']      224\n",
              "['\\n9\\n']        6\n",
              "['\\n1\\n']        2\n",
              "['\\n3\\n']        2\n",
              "['\\n4\\n']        2\n",
              "['\\n2\\n']        1\n",
              "['\\n50\\n']       1\n",
              "Name: Gears, dtype: int64"
            ]
          },
          "metadata": {},
          "execution_count": 175
        }
      ],
      "source": [
        "df[\"Gears\"].astype('str').value_counts(dropna=False)"
      ]
    },
    {
      "cell_type": "code",
      "execution_count": 176,
      "metadata": {
        "id": "JrSrJE5CI8Yk"
      },
      "outputs": [],
      "source": [
        "df[\"Gears\"] = df.Gears.str[0].str.strip('\\n')"
      ]
    },
    {
      "cell_type": "code",
      "execution_count": 177,
      "metadata": {
        "colab": {
          "base_uri": "https://localhost:8080/"
        },
        "id": "5bngiXV8I8Yk",
        "outputId": "637749f9-730e-412f-a216-f92ff3a9ae7f"
      },
      "outputs": [
        {
          "output_type": "execute_result",
          "data": {
            "text/plain": [
              "6      5822\n",
              "NaN    4712\n",
              "5      3239\n",
              "7      1908\n",
              "8       224\n",
              "9         6\n",
              "1         2\n",
              "3         2\n",
              "4         2\n",
              "2         1\n",
              "50        1\n",
              "Name: Gears, dtype: int64"
            ]
          },
          "metadata": {},
          "execution_count": 177
        }
      ],
      "source": [
        "df[\"Gears\"].value_counts(dropna=False)"
      ]
    },
    {
      "cell_type": "markdown",
      "metadata": {
        "id": "uTCopg6hI8Yl"
      },
      "source": [
        "## Country version"
      ]
    },
    {
      "cell_type": "code",
      "execution_count": 178,
      "metadata": {
        "colab": {
          "base_uri": "https://localhost:8080/"
        },
        "id": "OZgOqLLuI8Yl",
        "outputId": "5852b4b5-a5e6-4c8f-966b-f3dbdf1c63ca"
      },
      "outputs": [
        {
          "output_type": "execute_result",
          "data": {
            "text/plain": [
              "nan                       8333\n",
              "['\\nGermany\\n']           4502\n",
              "['\\nItaly\\n']             1038\n",
              "['\\nEuropean Union\\n']     507\n",
              "['\\nNetherlands\\n']        464\n",
              "['\\nSpain\\n']              325\n",
              "['\\nBelgium\\n']            314\n",
              "['\\nAustria\\n']            208\n",
              "['\\nCzech Republic\\n']      52\n",
              "['\\nPoland\\n']              49\n",
              "['\\nFrance\\n']              38\n",
              "['\\nDenmark\\n']             33\n",
              "['\\nHungary\\n']             28\n",
              "['\\nJapan\\n']                8\n",
              "['\\nSlovakia\\n']             4\n",
              "['\\nCroatia\\n']              4\n",
              "['\\nSweden\\n']               3\n",
              "['\\nRomania\\n']              2\n",
              "['\\nBulgaria\\n']             2\n",
              "['\\nLuxembourg\\n']           1\n",
              "['\\nSwitzerland\\n']          1\n",
              "['\\nSlovenia\\n']             1\n",
              "['\\nEgypt\\n']                1\n",
              "['\\nSerbia\\n']               1\n",
              "Name: Country version, dtype: int64"
            ]
          },
          "metadata": {},
          "execution_count": 178
        }
      ],
      "source": [
        "df[\"Country version\"].astype('str').value_counts(dropna=False)"
      ]
    },
    {
      "cell_type": "code",
      "execution_count": 179,
      "metadata": {
        "id": "Yh6GSWK9I8Yl"
      },
      "outputs": [],
      "source": [
        "df.drop(\"Country version\", axis=1, inplace=True)"
      ]
    },
    {
      "cell_type": "markdown",
      "metadata": {
        "id": "nID1y24PI8Yl"
      },
      "source": [
        "## Comfort_Convenience"
      ]
    },
    {
      "cell_type": "code",
      "execution_count": 180,
      "metadata": {
        "colab": {
          "base_uri": "https://localhost:8080/"
        },
        "id": "AXXQeLelI8Yl",
        "outputId": "90e23ed6-501d-40ff-9f27-63392230745f"
      },
      "outputs": [
        {
          "output_type": "execute_result",
          "data": {
            "text/plain": [
              "nan                                                                                                                                                                                                                                                                                                                                                                                                       920\n",
              "['Air conditioning', 'Electrical side mirrors', 'Hill Holder', 'Power windows']                                                                                                                                                                                                                                                                                                                           216\n",
              "['Air conditioning', 'Electrical side mirrors', 'Power windows']                                                                                                                                                                                                                                                                                                                                          134\n",
              "['Air conditioning', 'Power windows']                                                                                                                                                                                                                                                                                                                                                                     130\n",
              "['Air conditioning', 'Armrest', 'Automatic climate control', 'Cruise control', 'Electrical side mirrors', 'Leather steering wheel', 'Light sensor', 'Lumbar support', 'Multi-function steering wheel', 'Navigation system', 'Park Distance Control', 'Parking assist system sensors front', 'Parking assist system sensors rear', 'Power windows', 'Rain sensor', 'Seat heating', 'Start-stop system']    105\n",
              "Name: Comfort_Convenience, dtype: int64"
            ]
          },
          "metadata": {},
          "execution_count": 180
        }
      ],
      "source": [
        "df[\"Comfort_Convenience\"].astype('str').value_counts(dropna=False).head()"
      ]
    },
    {
      "cell_type": "code",
      "execution_count": 181,
      "metadata": {
        "id": "HkXwgk9FI8Yl"
      },
      "outputs": [],
      "source": [
        "df[\"Comfort_Convenience\"] = [\",\".join(item) if type(item) == list else item for item in df[\"Comfort_Convenience\"]]"
      ]
    },
    {
      "cell_type": "code",
      "execution_count": 182,
      "metadata": {
        "colab": {
          "base_uri": "https://localhost:8080/"
        },
        "id": "MyY7ZLDWI8Ym",
        "outputId": "4fb57f57-37f2-43df-e2f7-31a75592e88e"
      },
      "outputs": [
        {
          "output_type": "execute_result",
          "data": {
            "text/plain": [
              "NaN                                                                                                                                                                                                                                                                                                                                                   920\n",
              "Air conditioning,Electrical side mirrors,Hill Holder,Power windows                                                                                                                                                                                                                                                                                    216\n",
              "Air conditioning,Electrical side mirrors,Power windows                                                                                                                                                                                                                                                                                                134\n",
              "Air conditioning,Power windows                                                                                                                                                                                                                                                                                                                        130\n",
              "Air conditioning,Armrest,Automatic climate control,Cruise control,Electrical side mirrors,Leather steering wheel,Light sensor,Lumbar support,Multi-function steering wheel,Navigation system,Park Distance Control,Parking assist system sensors front,Parking assist system sensors rear,Power windows,Rain sensor,Seat heating,Start-stop system    105\n",
              "Name: Comfort_Convenience, dtype: int64"
            ]
          },
          "metadata": {},
          "execution_count": 182
        }
      ],
      "source": [
        "df[\"Comfort_Convenience\"].value_counts(dropna=False).head()"
      ]
    },
    {
      "cell_type": "markdown",
      "metadata": {
        "id": "1YZojy57I8Ym"
      },
      "source": [
        "## Entertainment_Media"
      ]
    },
    {
      "cell_type": "code",
      "execution_count": 183,
      "metadata": {
        "colab": {
          "base_uri": "https://localhost:8080/"
        },
        "id": "7Wbi547TI8Ym",
        "outputId": "296d6b7b-7f71-4f8a-ca8f-2c2d3d968ac9"
      },
      "outputs": [
        {
          "output_type": "execute_result",
          "data": {
            "text/plain": [
              "nan                                                                                               1374\n",
              "['Bluetooth', 'Hands-free equipment', 'On-board computer', 'Radio', 'USB']                        1282\n",
              "['Bluetooth', 'Hands-free equipment', 'MP3', 'On-board computer', 'Radio', 'USB']                  982\n",
              "['Bluetooth', 'CD player', 'Hands-free equipment', 'MP3', 'On-board computer', 'Radio', 'USB']     783\n",
              "['On-board computer', 'Radio']                                                                     487\n",
              "Name: Entertainment_Media, dtype: int64"
            ]
          },
          "metadata": {},
          "execution_count": 183
        }
      ],
      "source": [
        "df[\"Entertainment_Media\"].astype('str').value_counts(dropna=False).head()"
      ]
    },
    {
      "cell_type": "code",
      "execution_count": 184,
      "metadata": {
        "id": "969OQmz0I8Ym"
      },
      "outputs": [],
      "source": [
        "df[\"Entertainment_Media\"] = [\",\".join(item) if type(item) == list else item for item in df[\"Entertainment_Media\"]]"
      ]
    },
    {
      "cell_type": "code",
      "execution_count": 185,
      "metadata": {
        "colab": {
          "base_uri": "https://localhost:8080/"
        },
        "id": "2xm_8ja9I8Ym",
        "outputId": "fb40ea66-5858-488d-9fca-db85ec16a378"
      },
      "outputs": [
        {
          "output_type": "execute_result",
          "data": {
            "text/plain": [
              "NaN                                                                         1374\n",
              "Bluetooth,Hands-free equipment,On-board computer,Radio,USB                  1282\n",
              "Bluetooth,Hands-free equipment,MP3,On-board computer,Radio,USB               982\n",
              "Bluetooth,CD player,Hands-free equipment,MP3,On-board computer,Radio,USB     783\n",
              "On-board computer,Radio                                                      487\n",
              "Name: Entertainment_Media, dtype: int64"
            ]
          },
          "metadata": {},
          "execution_count": 185
        }
      ],
      "source": [
        "df[\"Entertainment_Media\"].value_counts(dropna=False).head()"
      ]
    },
    {
      "cell_type": "markdown",
      "metadata": {
        "id": "kj4DjuhoI8Yn"
      },
      "source": [
        "## Extras"
      ]
    },
    {
      "cell_type": "code",
      "execution_count": 186,
      "metadata": {
        "colab": {
          "base_uri": "https://localhost:8080/"
        },
        "id": "Fu6blYwdI8Yn",
        "outputId": "5a0f2f6e-c492-4162-b132-3ddd72ea7ee0"
      },
      "outputs": [
        {
          "output_type": "execute_result",
          "data": {
            "text/plain": [
              "['Alloy wheels']                                     3245\n",
              "nan                                                  2962\n",
              "['Alloy wheels', 'Touch screen']                      697\n",
              "['Alloy wheels', 'Voice Control']                     577\n",
              "['Alloy wheels', 'Touch screen', 'Voice Control']     541\n",
              "Name: Extras, dtype: int64"
            ]
          },
          "metadata": {},
          "execution_count": 186
        }
      ],
      "source": [
        "df[\"Extras\"].astype('str').value_counts(dropna=False).head()"
      ]
    },
    {
      "cell_type": "code",
      "execution_count": 187,
      "metadata": {
        "id": "YFca5OtoI8Yn"
      },
      "outputs": [],
      "source": [
        "df[\"Extras\"] = [\",\".join(item) if type(item) == list else item for item in df[\"Extras\"]]"
      ]
    },
    {
      "cell_type": "code",
      "execution_count": 188,
      "metadata": {
        "colab": {
          "base_uri": "https://localhost:8080/"
        },
        "id": "wEVC4fF1I8Yn",
        "outputId": "b37f5e37-7e91-4855-a7dc-11d9d4c7b582"
      },
      "outputs": [
        {
          "output_type": "execute_result",
          "data": {
            "text/plain": [
              "Alloy wheels                               3245\n",
              "NaN                                        2962\n",
              "Alloy wheels,Touch screen                   697\n",
              "Alloy wheels,Voice Control                  577\n",
              "Alloy wheels,Touch screen,Voice Control     541\n",
              "Name: Extras, dtype: int64"
            ]
          },
          "metadata": {},
          "execution_count": 188
        }
      ],
      "source": [
        "df[\"Extras\"].value_counts(dropna=False).head()"
      ]
    },
    {
      "cell_type": "markdown",
      "metadata": {
        "id": "HDwikPUpI8Yn"
      },
      "source": [
        "## Safety_Security"
      ]
    },
    {
      "cell_type": "code",
      "execution_count": 189,
      "metadata": {
        "colab": {
          "base_uri": "https://localhost:8080/"
        },
        "id": "HQkVL-yVI8Yn",
        "outputId": "13de7f04-40f5-4ecb-f1cb-7000774bd716"
      },
      "outputs": [
        {
          "output_type": "execute_result",
          "data": {
            "text/plain": [
              "nan                                                                                                                                                                                                                                                                                                   982\n",
              "['ABS', 'Central door lock', 'Daytime running lights', 'Driver-side airbag', 'Electronic stability control', 'Fog lights', 'Immobilizer', 'Isofix', 'Passenger-side airbag', 'Power steering', 'Side airbag', 'Tire pressure monitoring system', 'Traction control']                                  538\n",
              "['ABS', 'Central door lock', 'Daytime running lights', 'Driver-side airbag', 'Electronic stability control', 'Immobilizer', 'Isofix', 'Passenger-side airbag', 'Power steering', 'Side airbag', 'Tire pressure monitoring system', 'Traction control']                                                480\n",
              "['ABS', 'Central door lock', 'Daytime running lights', 'Driver-side airbag', 'Electronic stability control', 'Immobilizer', 'Isofix', 'Passenger-side airbag', 'Power steering', 'Side airbag', 'Tire pressure monitoring system', 'Traction control', 'Xenon headlights']                            275\n",
              "['ABS', 'Central door lock', 'Daytime running lights', 'Driver-side airbag', 'Electronic stability control', 'Fog lights', 'Immobilizer', 'Isofix', 'LED Daytime Running Lights', 'Passenger-side airbag', 'Power steering', 'Side airbag', 'Tire pressure monitoring system', 'Traction control']    272\n",
              "Name: Safety_Security, dtype: int64"
            ]
          },
          "metadata": {},
          "execution_count": 189
        }
      ],
      "source": [
        "df[\"Safety_Security\"].astype('str').value_counts(dropna=False).head()"
      ]
    },
    {
      "cell_type": "code",
      "execution_count": 190,
      "metadata": {
        "id": "9tON-PAfI8Yo"
      },
      "outputs": [],
      "source": [
        "df[\"Safety_Security\"] = [\",\".join(item) if type(item) == list else item for item in df[\"Safety_Security\"]]"
      ]
    },
    {
      "cell_type": "code",
      "execution_count": 191,
      "metadata": {
        "colab": {
          "base_uri": "https://localhost:8080/"
        },
        "id": "7ufUfxDvI8Yo",
        "outputId": "dfc924b2-9df6-4e28-c405-dab190e0a80a"
      },
      "outputs": [
        {
          "output_type": "execute_result",
          "data": {
            "text/plain": [
              "NaN                                                                                                                                                                                                                                                        982\n",
              "ABS,Central door lock,Daytime running lights,Driver-side airbag,Electronic stability control,Fog lights,Immobilizer,Isofix,Passenger-side airbag,Power steering,Side airbag,Tire pressure monitoring system,Traction control                               538\n",
              "ABS,Central door lock,Daytime running lights,Driver-side airbag,Electronic stability control,Immobilizer,Isofix,Passenger-side airbag,Power steering,Side airbag,Tire pressure monitoring system,Traction control                                          480\n",
              "ABS,Central door lock,Daytime running lights,Driver-side airbag,Electronic stability control,Immobilizer,Isofix,Passenger-side airbag,Power steering,Side airbag,Tire pressure monitoring system,Traction control,Xenon headlights                         275\n",
              "ABS,Central door lock,Daytime running lights,Driver-side airbag,Electronic stability control,Fog lights,Immobilizer,Isofix,LED Daytime Running Lights,Passenger-side airbag,Power steering,Side airbag,Tire pressure monitoring system,Traction control    272\n",
              "Name: Safety_Security, dtype: int64"
            ]
          },
          "metadata": {},
          "execution_count": 191
        }
      ],
      "source": [
        "df[\"Safety_Security\"].value_counts(dropna=False).head()"
      ]
    },
    {
      "cell_type": "markdown",
      "metadata": {
        "id": "u243b4fYI8Yo"
      },
      "source": [
        "**Now we can save our cleaned file as in csv format.**"
      ]
    },
    {
      "cell_type": "code",
      "execution_count": 192,
      "metadata": {
        "colab": {
          "base_uri": "https://localhost:8080/"
        },
        "id": "0SkcPT4OI8Yo",
        "outputId": "5c9fd544-07ff-442b-9ca9-68239c9768e8"
      },
      "outputs": [
        {
          "output_type": "execute_result",
          "data": {
            "text/plain": [
              "(15919, 32)"
            ]
          },
          "metadata": {},
          "execution_count": 192
        }
      ],
      "source": [
        "df.shape"
      ]
    },
    {
      "cell_type": "markdown",
      "metadata": {
        "id": "citau8oHI8Yo"
      },
      "source": [
        "**We started with 54 columns at the beginning of the analysis, now we have 33 columns.**"
      ]
    },
    {
      "cell_type": "code",
      "execution_count": 193,
      "metadata": {
        "scrolled": true,
        "colab": {
          "base_uri": "https://localhost:8080/",
          "height": 1000
        },
        "id": "U7NYbCQuI8Yp",
        "outputId": "d7cb426f-3173-4dea-8c4d-25a4a1c6d214"
      },
      "outputs": [
        {
          "output_type": "execute_result",
          "data": {
            "text/plain": [
              "                                                                     0  \\\n",
              "make_model                                                     Audi A1   \n",
              "body_type                                                       Sedans   \n",
              "price                                                            15770   \n",
              "vat                                                     VAT deductible   \n",
              "km                                                            56013.00   \n",
              "Type                                                              Used   \n",
              "Warranty                                                           NaN   \n",
              "Cylinders                                                         3.00   \n",
              "Fuel                                                            Diesel   \n",
              "Comfort_Convenience  Air conditioning,Armrest,Automatic climate con...   \n",
              "Entertainment_Media  Bluetooth,Hands-free equipment,On-board comput...   \n",
              "Extras                  Alloy wheels,Catalytic Converter,Voice Control   \n",
              "Safety_Security      ABS,Central door lock,Daytime running lights,D...   \n",
              "Gears                                                              NaN   \n",
              "age                                                               3.00   \n",
              "Previous_Owners                                                   2.00   \n",
              "hp_kW                                                            66.00   \n",
              "Inspection_new                                                     Yes   \n",
              "Paint_Type                                                    Metallic   \n",
              "Upholstery_type                                                  Cloth   \n",
              "Upholstery_color                                                 Black   \n",
              "Nr_of_Doors                                                       5.00   \n",
              "Nr_of_Seats                                                       5.00   \n",
              "Gearing_Type                                                 Automatic   \n",
              "Displacement_cc                                                1422.00   \n",
              "Weight_kg                                                      1220.00   \n",
              "Drive_chain                                                      front   \n",
              "cons_comb                                                         3.80   \n",
              "cons_city                                                         4.30   \n",
              "cons_country                                                      3.50   \n",
              "CO2_Emission                                                     99.00   \n",
              "Emission_Class                                                  Euro 6   \n",
              "\n",
              "                                                                     1  \\\n",
              "make_model                                                     Audi A1   \n",
              "body_type                                                       Sedans   \n",
              "price                                                            14500   \n",
              "vat                                                   Price negotiable   \n",
              "km                                                            80000.00   \n",
              "Type                                                              Used   \n",
              "Warranty                                                           NaN   \n",
              "Cylinders                                                         4.00   \n",
              "Fuel                                                           Benzine   \n",
              "Comfort_Convenience  Air conditioning,Automatic climate control,Hil...   \n",
              "Entertainment_Media  Bluetooth,Hands-free equipment,On-board comput...   \n",
              "Extras               Alloy wheels,Sport seats,Sport suspension,Voic...   \n",
              "Safety_Security      ABS,Central door lock,Central door lock with r...   \n",
              "Gears                                                                7   \n",
              "age                                                               2.00   \n",
              "Previous_Owners                                                    NaN   \n",
              "hp_kW                                                           141.00   \n",
              "Inspection_new                                                     NaN   \n",
              "Paint_Type                                                         NaN   \n",
              "Upholstery_type                                                  Cloth   \n",
              "Upholstery_color                                                  Grey   \n",
              "Nr_of_Doors                                                       3.00   \n",
              "Nr_of_Seats                                                       4.00   \n",
              "Gearing_Type                                                 Automatic   \n",
              "Displacement_cc                                                1798.00   \n",
              "Weight_kg                                                      1255.00   \n",
              "Drive_chain                                                      front   \n",
              "cons_comb                                                         5.60   \n",
              "cons_city                                                         7.10   \n",
              "cons_country                                                      4.70   \n",
              "CO2_Emission                                                    129.00   \n",
              "Emission_Class                                                  Euro 6   \n",
              "\n",
              "                                                                     2  \\\n",
              "make_model                                                     Audi A1   \n",
              "body_type                                                       Sedans   \n",
              "price                                                            14640   \n",
              "vat                                                     VAT deductible   \n",
              "km                                                            83450.00   \n",
              "Type                                                              Used   \n",
              "Warranty                                                           NaN   \n",
              "Cylinders                                                          NaN   \n",
              "Fuel                                                            Diesel   \n",
              "Comfort_Convenience  Air conditioning,Cruise control,Electrical sid...   \n",
              "Entertainment_Media                              MP3,On-board computer   \n",
              "Extras                                      Alloy wheels,Voice Control   \n",
              "Safety_Security      ABS,Central door lock,Daytime running lights,D...   \n",
              "Gears                                                              NaN   \n",
              "age                                                               3.00   \n",
              "Previous_Owners                                                   1.00   \n",
              "hp_kW                                                            85.00   \n",
              "Inspection_new                                                     NaN   \n",
              "Paint_Type                                                    Metallic   \n",
              "Upholstery_type                                                  Cloth   \n",
              "Upholstery_color                                                 Black   \n",
              "Nr_of_Doors                                                       4.00   \n",
              "Nr_of_Seats                                                       4.00   \n",
              "Gearing_Type                                                 Automatic   \n",
              "Displacement_cc                                                1598.00   \n",
              "Weight_kg                                                          NaN   \n",
              "Drive_chain                                                      front   \n",
              "cons_comb                                                         3.80   \n",
              "cons_city                                                         4.40   \n",
              "cons_country                                                      3.40   \n",
              "CO2_Emission                                                     99.00   \n",
              "Emission_Class                                                  Euro 6   \n",
              "\n",
              "                                                                     3  \\\n",
              "make_model                                                     Audi A1   \n",
              "body_type                                                       Sedans   \n",
              "price                                                            14500   \n",
              "vat                                                               None   \n",
              "km                                                            73000.00   \n",
              "Type                                                              Used   \n",
              "Warranty                                                           NaN   \n",
              "Cylinders                                                         3.00   \n",
              "Fuel                                                            Diesel   \n",
              "Comfort_Convenience  Air suspension,Armrest,Auxiliary heating,Elect...   \n",
              "Entertainment_Media  Bluetooth,CD player,Hands-free equipment,MP3,O...   \n",
              "Extras                          Alloy wheels,Sport seats,Voice Control   \n",
              "Safety_Security      ABS,Alarm system,Central door lock with remote...   \n",
              "Gears                                                                6   \n",
              "age                                                               3.00   \n",
              "Previous_Owners                                                   1.00   \n",
              "hp_kW                                                            66.00   \n",
              "Inspection_new                                                     NaN   \n",
              "Paint_Type                                                    Metallic   \n",
              "Upholstery_type                                                    NaN   \n",
              "Upholstery_color                                                   NaN   \n",
              "Nr_of_Doors                                                       3.00   \n",
              "Nr_of_Seats                                                       4.00   \n",
              "Gearing_Type                                                 Automatic   \n",
              "Displacement_cc                                                1422.00   \n",
              "Weight_kg                                                      1195.00   \n",
              "Drive_chain                                                        NaN   \n",
              "cons_comb                                                         3.80   \n",
              "cons_city                                                         4.30   \n",
              "cons_country                                                      3.50   \n",
              "CO2_Emission                                                     99.00   \n",
              "Emission_Class                                                  Euro 6   \n",
              "\n",
              "                                                                     4  \n",
              "make_model                                                     Audi A1  \n",
              "body_type                                                       Sedans  \n",
              "price                                                            16790  \n",
              "vat                                                               None  \n",
              "km                                                            16200.00  \n",
              "Type                                                              Used  \n",
              "Warranty                                                           NaN  \n",
              "Cylinders                                                         3.00  \n",
              "Fuel                                                            Diesel  \n",
              "Comfort_Convenience  Air conditioning,Armrest,Automatic climate con...  \n",
              "Entertainment_Media  Bluetooth,CD player,Hands-free equipment,MP3,O...  \n",
              "Extras               Alloy wheels,Sport package,Sport suspension,Vo...  \n",
              "Safety_Security      ABS,Central door lock,Driver-side airbag,Elect...  \n",
              "Gears                                                              NaN  \n",
              "age                                                               3.00  \n",
              "Previous_Owners                                                   1.00  \n",
              "hp_kW                                                            66.00  \n",
              "Inspection_new                                                     Yes  \n",
              "Paint_Type                                                    Metallic  \n",
              "Upholstery_type                                                  Cloth  \n",
              "Upholstery_color                                                 Black  \n",
              "Nr_of_Doors                                                       5.00  \n",
              "Nr_of_Seats                                                       5.00  \n",
              "Gearing_Type                                                 Automatic  \n",
              "Displacement_cc                                                1422.00  \n",
              "Weight_kg                                                          NaN  \n",
              "Drive_chain                                                      front  \n",
              "cons_comb                                                         4.10  \n",
              "cons_city                                                         4.60  \n",
              "cons_country                                                      3.80  \n",
              "CO2_Emission                                                    109.00  \n",
              "Emission_Class                                                  Euro 6  "
            ],
            "text/html": [
              "\n",
              "  <div id=\"df-1094e137-1695-459b-9079-88d2b1c9f27f\">\n",
              "    <div class=\"colab-df-container\">\n",
              "      <div>\n",
              "<style scoped>\n",
              "    .dataframe tbody tr th:only-of-type {\n",
              "        vertical-align: middle;\n",
              "    }\n",
              "\n",
              "    .dataframe tbody tr th {\n",
              "        vertical-align: top;\n",
              "    }\n",
              "\n",
              "    .dataframe thead th {\n",
              "        text-align: right;\n",
              "    }\n",
              "</style>\n",
              "<table border=\"1\" class=\"dataframe\">\n",
              "  <thead>\n",
              "    <tr style=\"text-align: right;\">\n",
              "      <th></th>\n",
              "      <th>0</th>\n",
              "      <th>1</th>\n",
              "      <th>2</th>\n",
              "      <th>3</th>\n",
              "      <th>4</th>\n",
              "    </tr>\n",
              "  </thead>\n",
              "  <tbody>\n",
              "    <tr>\n",
              "      <th>make_model</th>\n",
              "      <td>Audi A1</td>\n",
              "      <td>Audi A1</td>\n",
              "      <td>Audi A1</td>\n",
              "      <td>Audi A1</td>\n",
              "      <td>Audi A1</td>\n",
              "    </tr>\n",
              "    <tr>\n",
              "      <th>body_type</th>\n",
              "      <td>Sedans</td>\n",
              "      <td>Sedans</td>\n",
              "      <td>Sedans</td>\n",
              "      <td>Sedans</td>\n",
              "      <td>Sedans</td>\n",
              "    </tr>\n",
              "    <tr>\n",
              "      <th>price</th>\n",
              "      <td>15770</td>\n",
              "      <td>14500</td>\n",
              "      <td>14640</td>\n",
              "      <td>14500</td>\n",
              "      <td>16790</td>\n",
              "    </tr>\n",
              "    <tr>\n",
              "      <th>vat</th>\n",
              "      <td>VAT deductible</td>\n",
              "      <td>Price negotiable</td>\n",
              "      <td>VAT deductible</td>\n",
              "      <td>None</td>\n",
              "      <td>None</td>\n",
              "    </tr>\n",
              "    <tr>\n",
              "      <th>km</th>\n",
              "      <td>56013.00</td>\n",
              "      <td>80000.00</td>\n",
              "      <td>83450.00</td>\n",
              "      <td>73000.00</td>\n",
              "      <td>16200.00</td>\n",
              "    </tr>\n",
              "    <tr>\n",
              "      <th>Type</th>\n",
              "      <td>Used</td>\n",
              "      <td>Used</td>\n",
              "      <td>Used</td>\n",
              "      <td>Used</td>\n",
              "      <td>Used</td>\n",
              "    </tr>\n",
              "    <tr>\n",
              "      <th>Warranty</th>\n",
              "      <td>NaN</td>\n",
              "      <td>NaN</td>\n",
              "      <td>NaN</td>\n",
              "      <td>NaN</td>\n",
              "      <td>NaN</td>\n",
              "    </tr>\n",
              "    <tr>\n",
              "      <th>Cylinders</th>\n",
              "      <td>3.00</td>\n",
              "      <td>4.00</td>\n",
              "      <td>NaN</td>\n",
              "      <td>3.00</td>\n",
              "      <td>3.00</td>\n",
              "    </tr>\n",
              "    <tr>\n",
              "      <th>Fuel</th>\n",
              "      <td>Diesel</td>\n",
              "      <td>Benzine</td>\n",
              "      <td>Diesel</td>\n",
              "      <td>Diesel</td>\n",
              "      <td>Diesel</td>\n",
              "    </tr>\n",
              "    <tr>\n",
              "      <th>Comfort_Convenience</th>\n",
              "      <td>Air conditioning,Armrest,Automatic climate con...</td>\n",
              "      <td>Air conditioning,Automatic climate control,Hil...</td>\n",
              "      <td>Air conditioning,Cruise control,Electrical sid...</td>\n",
              "      <td>Air suspension,Armrest,Auxiliary heating,Elect...</td>\n",
              "      <td>Air conditioning,Armrest,Automatic climate con...</td>\n",
              "    </tr>\n",
              "    <tr>\n",
              "      <th>Entertainment_Media</th>\n",
              "      <td>Bluetooth,Hands-free equipment,On-board comput...</td>\n",
              "      <td>Bluetooth,Hands-free equipment,On-board comput...</td>\n",
              "      <td>MP3,On-board computer</td>\n",
              "      <td>Bluetooth,CD player,Hands-free equipment,MP3,O...</td>\n",
              "      <td>Bluetooth,CD player,Hands-free equipment,MP3,O...</td>\n",
              "    </tr>\n",
              "    <tr>\n",
              "      <th>Extras</th>\n",
              "      <td>Alloy wheels,Catalytic Converter,Voice Control</td>\n",
              "      <td>Alloy wheels,Sport seats,Sport suspension,Voic...</td>\n",
              "      <td>Alloy wheels,Voice Control</td>\n",
              "      <td>Alloy wheels,Sport seats,Voice Control</td>\n",
              "      <td>Alloy wheels,Sport package,Sport suspension,Vo...</td>\n",
              "    </tr>\n",
              "    <tr>\n",
              "      <th>Safety_Security</th>\n",
              "      <td>ABS,Central door lock,Daytime running lights,D...</td>\n",
              "      <td>ABS,Central door lock,Central door lock with r...</td>\n",
              "      <td>ABS,Central door lock,Daytime running lights,D...</td>\n",
              "      <td>ABS,Alarm system,Central door lock with remote...</td>\n",
              "      <td>ABS,Central door lock,Driver-side airbag,Elect...</td>\n",
              "    </tr>\n",
              "    <tr>\n",
              "      <th>Gears</th>\n",
              "      <td>NaN</td>\n",
              "      <td>7</td>\n",
              "      <td>NaN</td>\n",
              "      <td>6</td>\n",
              "      <td>NaN</td>\n",
              "    </tr>\n",
              "    <tr>\n",
              "      <th>age</th>\n",
              "      <td>3.00</td>\n",
              "      <td>2.00</td>\n",
              "      <td>3.00</td>\n",
              "      <td>3.00</td>\n",
              "      <td>3.00</td>\n",
              "    </tr>\n",
              "    <tr>\n",
              "      <th>Previous_Owners</th>\n",
              "      <td>2.00</td>\n",
              "      <td>NaN</td>\n",
              "      <td>1.00</td>\n",
              "      <td>1.00</td>\n",
              "      <td>1.00</td>\n",
              "    </tr>\n",
              "    <tr>\n",
              "      <th>hp_kW</th>\n",
              "      <td>66.00</td>\n",
              "      <td>141.00</td>\n",
              "      <td>85.00</td>\n",
              "      <td>66.00</td>\n",
              "      <td>66.00</td>\n",
              "    </tr>\n",
              "    <tr>\n",
              "      <th>Inspection_new</th>\n",
              "      <td>Yes</td>\n",
              "      <td>NaN</td>\n",
              "      <td>NaN</td>\n",
              "      <td>NaN</td>\n",
              "      <td>Yes</td>\n",
              "    </tr>\n",
              "    <tr>\n",
              "      <th>Paint_Type</th>\n",
              "      <td>Metallic</td>\n",
              "      <td>NaN</td>\n",
              "      <td>Metallic</td>\n",
              "      <td>Metallic</td>\n",
              "      <td>Metallic</td>\n",
              "    </tr>\n",
              "    <tr>\n",
              "      <th>Upholstery_type</th>\n",
              "      <td>Cloth</td>\n",
              "      <td>Cloth</td>\n",
              "      <td>Cloth</td>\n",
              "      <td>NaN</td>\n",
              "      <td>Cloth</td>\n",
              "    </tr>\n",
              "    <tr>\n",
              "      <th>Upholstery_color</th>\n",
              "      <td>Black</td>\n",
              "      <td>Grey</td>\n",
              "      <td>Black</td>\n",
              "      <td>NaN</td>\n",
              "      <td>Black</td>\n",
              "    </tr>\n",
              "    <tr>\n",
              "      <th>Nr_of_Doors</th>\n",
              "      <td>5.00</td>\n",
              "      <td>3.00</td>\n",
              "      <td>4.00</td>\n",
              "      <td>3.00</td>\n",
              "      <td>5.00</td>\n",
              "    </tr>\n",
              "    <tr>\n",
              "      <th>Nr_of_Seats</th>\n",
              "      <td>5.00</td>\n",
              "      <td>4.00</td>\n",
              "      <td>4.00</td>\n",
              "      <td>4.00</td>\n",
              "      <td>5.00</td>\n",
              "    </tr>\n",
              "    <tr>\n",
              "      <th>Gearing_Type</th>\n",
              "      <td>Automatic</td>\n",
              "      <td>Automatic</td>\n",
              "      <td>Automatic</td>\n",
              "      <td>Automatic</td>\n",
              "      <td>Automatic</td>\n",
              "    </tr>\n",
              "    <tr>\n",
              "      <th>Displacement_cc</th>\n",
              "      <td>1422.00</td>\n",
              "      <td>1798.00</td>\n",
              "      <td>1598.00</td>\n",
              "      <td>1422.00</td>\n",
              "      <td>1422.00</td>\n",
              "    </tr>\n",
              "    <tr>\n",
              "      <th>Weight_kg</th>\n",
              "      <td>1220.00</td>\n",
              "      <td>1255.00</td>\n",
              "      <td>NaN</td>\n",
              "      <td>1195.00</td>\n",
              "      <td>NaN</td>\n",
              "    </tr>\n",
              "    <tr>\n",
              "      <th>Drive_chain</th>\n",
              "      <td>front</td>\n",
              "      <td>front</td>\n",
              "      <td>front</td>\n",
              "      <td>NaN</td>\n",
              "      <td>front</td>\n",
              "    </tr>\n",
              "    <tr>\n",
              "      <th>cons_comb</th>\n",
              "      <td>3.80</td>\n",
              "      <td>5.60</td>\n",
              "      <td>3.80</td>\n",
              "      <td>3.80</td>\n",
              "      <td>4.10</td>\n",
              "    </tr>\n",
              "    <tr>\n",
              "      <th>cons_city</th>\n",
              "      <td>4.30</td>\n",
              "      <td>7.10</td>\n",
              "      <td>4.40</td>\n",
              "      <td>4.30</td>\n",
              "      <td>4.60</td>\n",
              "    </tr>\n",
              "    <tr>\n",
              "      <th>cons_country</th>\n",
              "      <td>3.50</td>\n",
              "      <td>4.70</td>\n",
              "      <td>3.40</td>\n",
              "      <td>3.50</td>\n",
              "      <td>3.80</td>\n",
              "    </tr>\n",
              "    <tr>\n",
              "      <th>CO2_Emission</th>\n",
              "      <td>99.00</td>\n",
              "      <td>129.00</td>\n",
              "      <td>99.00</td>\n",
              "      <td>99.00</td>\n",
              "      <td>109.00</td>\n",
              "    </tr>\n",
              "    <tr>\n",
              "      <th>Emission_Class</th>\n",
              "      <td>Euro 6</td>\n",
              "      <td>Euro 6</td>\n",
              "      <td>Euro 6</td>\n",
              "      <td>Euro 6</td>\n",
              "      <td>Euro 6</td>\n",
              "    </tr>\n",
              "  </tbody>\n",
              "</table>\n",
              "</div>\n",
              "      <button class=\"colab-df-convert\" onclick=\"convertToInteractive('df-1094e137-1695-459b-9079-88d2b1c9f27f')\"\n",
              "              title=\"Convert this dataframe to an interactive table.\"\n",
              "              style=\"display:none;\">\n",
              "        \n",
              "  <svg xmlns=\"http://www.w3.org/2000/svg\" height=\"24px\"viewBox=\"0 0 24 24\"\n",
              "       width=\"24px\">\n",
              "    <path d=\"M0 0h24v24H0V0z\" fill=\"none\"/>\n",
              "    <path d=\"M18.56 5.44l.94 2.06.94-2.06 2.06-.94-2.06-.94-.94-2.06-.94 2.06-2.06.94zm-11 1L8.5 8.5l.94-2.06 2.06-.94-2.06-.94L8.5 2.5l-.94 2.06-2.06.94zm10 10l.94 2.06.94-2.06 2.06-.94-2.06-.94-.94-2.06-.94 2.06-2.06.94z\"/><path d=\"M17.41 7.96l-1.37-1.37c-.4-.4-.92-.59-1.43-.59-.52 0-1.04.2-1.43.59L10.3 9.45l-7.72 7.72c-.78.78-.78 2.05 0 2.83L4 21.41c.39.39.9.59 1.41.59.51 0 1.02-.2 1.41-.59l7.78-7.78 2.81-2.81c.8-.78.8-2.07 0-2.86zM5.41 20L4 18.59l7.72-7.72 1.47 1.35L5.41 20z\"/>\n",
              "  </svg>\n",
              "      </button>\n",
              "      \n",
              "  <style>\n",
              "    .colab-df-container {\n",
              "      display:flex;\n",
              "      flex-wrap:wrap;\n",
              "      gap: 12px;\n",
              "    }\n",
              "\n",
              "    .colab-df-convert {\n",
              "      background-color: #E8F0FE;\n",
              "      border: none;\n",
              "      border-radius: 50%;\n",
              "      cursor: pointer;\n",
              "      display: none;\n",
              "      fill: #1967D2;\n",
              "      height: 32px;\n",
              "      padding: 0 0 0 0;\n",
              "      width: 32px;\n",
              "    }\n",
              "\n",
              "    .colab-df-convert:hover {\n",
              "      background-color: #E2EBFA;\n",
              "      box-shadow: 0px 1px 2px rgba(60, 64, 67, 0.3), 0px 1px 3px 1px rgba(60, 64, 67, 0.15);\n",
              "      fill: #174EA6;\n",
              "    }\n",
              "\n",
              "    [theme=dark] .colab-df-convert {\n",
              "      background-color: #3B4455;\n",
              "      fill: #D2E3FC;\n",
              "    }\n",
              "\n",
              "    [theme=dark] .colab-df-convert:hover {\n",
              "      background-color: #434B5C;\n",
              "      box-shadow: 0px 1px 3px 1px rgba(0, 0, 0, 0.15);\n",
              "      filter: drop-shadow(0px 1px 2px rgba(0, 0, 0, 0.3));\n",
              "      fill: #FFFFFF;\n",
              "    }\n",
              "  </style>\n",
              "\n",
              "      <script>\n",
              "        const buttonEl =\n",
              "          document.querySelector('#df-1094e137-1695-459b-9079-88d2b1c9f27f button.colab-df-convert');\n",
              "        buttonEl.style.display =\n",
              "          google.colab.kernel.accessAllowed ? 'block' : 'none';\n",
              "\n",
              "        async function convertToInteractive(key) {\n",
              "          const element = document.querySelector('#df-1094e137-1695-459b-9079-88d2b1c9f27f');\n",
              "          const dataTable =\n",
              "            await google.colab.kernel.invokeFunction('convertToInteractive',\n",
              "                                                     [key], {});\n",
              "          if (!dataTable) return;\n",
              "\n",
              "          const docLinkHtml = 'Like what you see? Visit the ' +\n",
              "            '<a target=\"_blank\" href=https://colab.research.google.com/notebooks/data_table.ipynb>data table notebook</a>'\n",
              "            + ' to learn more about interactive tables.';\n",
              "          element.innerHTML = '';\n",
              "          dataTable['output_type'] = 'display_data';\n",
              "          await google.colab.output.renderOutput(dataTable, element);\n",
              "          const docLink = document.createElement('div');\n",
              "          docLink.innerHTML = docLinkHtml;\n",
              "          element.appendChild(docLink);\n",
              "        }\n",
              "      </script>\n",
              "    </div>\n",
              "  </div>\n",
              "  "
            ]
          },
          "metadata": {},
          "execution_count": 193
        }
      ],
      "source": [
        "df.head().T"
      ]
    },
    {
      "cell_type": "code",
      "execution_count": 194,
      "metadata": {
        "colab": {
          "base_uri": "https://localhost:8080/"
        },
        "id": "sk7B8sB7I8Yp",
        "outputId": "cb7ad4b6-0157-4b83-bc51-e7ac4194eb93"
      },
      "outputs": [
        {
          "output_type": "stream",
          "name": "stdout",
          "text": [
            "<class 'pandas.core.frame.DataFrame'>\n",
            "RangeIndex: 15919 entries, 0 to 15918\n",
            "Data columns (total 32 columns):\n",
            " #   Column               Non-Null Count  Dtype  \n",
            "---  ------               --------------  -----  \n",
            " 0   make_model           15919 non-null  object \n",
            " 1   body_type            15859 non-null  object \n",
            " 2   price                15919 non-null  int64  \n",
            " 3   vat                  11406 non-null  object \n",
            " 4   km                   14895 non-null  float64\n",
            " 5   Type                 15917 non-null  object \n",
            " 6   Warranty             4853 non-null   float64\n",
            " 7   Cylinders            10239 non-null  float64\n",
            " 8   Fuel                 15919 non-null  object \n",
            " 9   Comfort_Convenience  14999 non-null  object \n",
            " 10  Entertainment_Media  14545 non-null  object \n",
            " 11  Extras               12957 non-null  object \n",
            " 12  Safety_Security      14937 non-null  object \n",
            " 13  Gears                11207 non-null  object \n",
            " 14  age                  14322 non-null  float64\n",
            " 15  Previous_Owners      9279 non-null   float64\n",
            " 16  hp_kW                15831 non-null  float64\n",
            " 17  Inspection_new       3932 non-null   object \n",
            " 18  Paint_Type           10147 non-null  object \n",
            " 19  Upholstery_type      11048 non-null  object \n",
            " 20  Upholstery_color     10841 non-null  object \n",
            " 21  Nr_of_Doors          15707 non-null  float64\n",
            " 22  Nr_of_Seats          14942 non-null  float64\n",
            " 23  Gearing_Type         15919 non-null  object \n",
            " 24  Displacement_cc      15423 non-null  float64\n",
            " 25  Weight_kg            8945 non-null   float64\n",
            " 26  Drive_chain          9061 non-null   object \n",
            " 27  cons_comb            13886 non-null  float64\n",
            " 28  cons_city            13483 non-null  float64\n",
            " 29  cons_country         13543 non-null  float64\n",
            " 30  CO2_Emission         13483 non-null  float64\n",
            " 31  Emission_Class       12291 non-null  object \n",
            "dtypes: float64(14), int64(1), object(17)\n",
            "memory usage: 3.9+ MB\n"
          ]
        }
      ],
      "source": [
        "df.info()"
      ]
    },
    {
      "cell_type": "code",
      "execution_count": 195,
      "metadata": {
        "id": "X1vqUPuHI8Yp"
      },
      "outputs": [],
      "source": [
        "df.to_csv(\"clean_scout.csv\", index=False)"
      ]
    },
    {
      "cell_type": "markdown",
      "metadata": {
        "id": "kpst94V2I8Yp"
      },
      "source": [
        "## <p style=\"background-color:#FDFEFE; font-family:newtimeroman; color:#9d4f8c; font-size:150%; text-align:center; border-radius:10px 10px;\">The End of Data Cleaning</p>\n",
        "\n",
        "<a id=\"4\"></a>\n",
        "<a href=\"#toc\" class=\"btn btn-primary btn-sm\" role=\"button\" aria-pressed=\"true\" \n",
        "style=\"color:blue; background-color:#dfa8e4\" data-toggle=\"popover\">Content</a>"
      ]
    }
  ],
  "metadata": {
    "kernelspec": {
      "display_name": "Python 3.8.3 32-bit",
      "language": "python",
      "name": "python38332bit9c047e7842d149818f878efc40058254"
    },
    "language_info": {
      "codemirror_mode": {
        "name": "ipython",
        "version": 3
      },
      "file_extension": ".py",
      "mimetype": "text/x-python",
      "name": "python",
      "nbconvert_exporter": "python",
      "pygments_lexer": "ipython3",
      "version": "3.8.3"
    },
    "toc": {
      "base_numbering": 1,
      "nav_menu": {},
      "number_sections": false,
      "sideBar": true,
      "skip_h1_title": false,
      "title_cell": "Table of Contents",
      "title_sidebar": "Contents",
      "toc_cell": false,
      "toc_position": {},
      "toc_section_display": true,
      "toc_window_display": true
    },
    "colab": {
      "name": "my_EDA_scout_car_(Cleaning).ipynb",
      "provenance": [],
      "collapsed_sections": [
        "rxZsNzvOI8Xr",
        "kpst94V2I8Yp"
      ],
      "toc_visible": true,
      "include_colab_link": true
    }
  },
  "nbformat": 4,
  "nbformat_minor": 0
}